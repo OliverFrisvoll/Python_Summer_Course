{
 "cells": [
  {
   "cell_type": "markdown",
   "metadata": {
    "pycharm": {
     "name": "#%% md\n"
    }
   },
   "source": [
    "## In class exercises, day 12"
   ]
  },
  {
   "cell_type": "code",
   "execution_count": 1,
   "metadata": {
    "ExecuteTime": {
     "end_time": "2021-09-24T14:46:31.355085Z",
     "start_time": "2021-09-24T14:46:31.349745Z"
    },
    "pycharm": {
     "name": "#%%\n"
    }
   },
   "outputs": [],
   "source": [
    "import pandas as pd\n",
    "pd.set_option('display.max_columns', None)  # Show all columns when printing/displaying data frames"
   ]
  },
  {
   "cell_type": "markdown",
   "metadata": {
    "pycharm": {
     "name": "#%% md\n"
    }
   },
   "source": [
    "## Complaints in New York City\n",
    "\n",
    "In the USA, 311 is a non-emergency phone number that people can call in many cities to find information about services, make complaints, or report problems like graffiti or road damage. The data about these calls is open to the public. In this exercise we are going to use a subset of the data for New York City."
   ]
  },
  {
   "cell_type": "markdown",
   "metadata": {
    "pycharm": {
     "name": "#%% md\n"
    }
   },
   "source": [
    "- Read in the CSV file *complaints.csv*. Use the `Unique Key` column as the index."
   ]
  },
  {
   "cell_type": "code",
   "execution_count": 3,
   "metadata": {
    "ExecuteTime": {
     "end_time": "2021-09-24T12:07:41.021629Z",
     "start_time": "2021-09-24T12:07:39.738014Z"
    },
    "pycharm": {
     "name": "#%%\n"
    }
   },
   "outputs": [
    {
     "name": "stderr",
     "output_type": "stream",
     "text": [
      "C:\\Users\\ocfri\\AppData\\Local\\Temp\\ipykernel_7600\\4213695277.py:1: DtypeWarning: Columns (8) have mixed types. Specify dtype option on import or set low_memory=False.\n",
      "  complaints = pd.read_csv('data/complaints.csv', index_col='Unique Key')\n"
     ]
    }
   ],
   "source": [
    "complaints = pd.read_csv('data/complaints.csv', index_col='Unique Key')"
   ]
  },
  {
   "cell_type": "markdown",
   "metadata": {
    "pycharm": {
     "name": "#%% md\n"
    }
   },
   "source": [
    "- How many observations and variables are there in (our subset of) the data set?"
   ]
  },
  {
   "cell_type": "code",
   "execution_count": 6,
   "metadata": {
    "ExecuteTime": {
     "end_time": "2021-09-24T14:46:40.471390Z",
     "start_time": "2021-09-24T14:46:40.467901Z"
    },
    "pycharm": {
     "name": "#%%\n"
    }
   },
   "outputs": [
    {
     "name": "stdout",
     "output_type": "stream",
     "text": [
      "<class 'pandas.core.frame.DataFrame'>\n",
      "Int64Index: 111069 entries, 26589651 to 26428033\n",
      "Data columns (total 51 columns):\n",
      " #   Column                          Non-Null Count   Dtype  \n",
      "---  ------                          --------------   -----  \n",
      " 0   Created Date                    111069 non-null  object \n",
      " 1   Closed Date                     60270 non-null   object \n",
      " 2   Agency                          111069 non-null  object \n",
      " 3   Agency Name                     111069 non-null  object \n",
      " 4   Complaint Type                  111069 non-null  object \n",
      " 5   Descriptor                      110613 non-null  object \n",
      " 6   Location Type                   79022 non-null   object \n",
      " 7   Incident Zip                    98807 non-null   object \n",
      " 8   Incident Address                84441 non-null   object \n",
      " 9   Street Name                     84432 non-null   object \n",
      " 10  Cross Street 1                  84728 non-null   object \n",
      " 11  Cross Street 2                  84005 non-null   object \n",
      " 12  Intersection Street 1           19364 non-null   object \n",
      " 13  Intersection Street 2           19366 non-null   object \n",
      " 14  Address Type                    102247 non-null  object \n",
      " 15  City                            98854 non-null   object \n",
      " 16  Landmark                        95 non-null      object \n",
      " 17  Facility Type                   19104 non-null   object \n",
      " 18  Status                          111069 non-null  object \n",
      " 19  Due Date                        39239 non-null   object \n",
      " 20  Resolution Action Updated Date  96507 non-null   object \n",
      " 21  Community Board                 111069 non-null  object \n",
      " 22  Borough                         111069 non-null  object \n",
      " 23  X Coordinate (State Plane)      98143 non-null   float64\n",
      " 24  Y Coordinate (State Plane)      98143 non-null   float64\n",
      " 25  Park Facility Name              111069 non-null  object \n",
      " 26  Park Borough                    111069 non-null  object \n",
      " 27  School Name                     111069 non-null  object \n",
      " 28  School Number                   111048 non-null  object \n",
      " 29  School Region                   110524 non-null  object \n",
      " 30  School Code                     110524 non-null  object \n",
      " 31  School Phone Number             111069 non-null  object \n",
      " 32  School Address                  111069 non-null  object \n",
      " 33  School City                     111069 non-null  object \n",
      " 34  School State                    111069 non-null  object \n",
      " 35  School Zip                      111069 non-null  object \n",
      " 36  School Not Found                38984 non-null   object \n",
      " 37  School or Citywide Complaint    0 non-null       float64\n",
      " 38  Vehicle Type                    99 non-null      object \n",
      " 39  Taxi Company Borough            117 non-null     object \n",
      " 40  Taxi Pick Up Location           1059 non-null    object \n",
      " 41  Bridge Highway Name             185 non-null     object \n",
      " 42  Bridge Highway Direction        185 non-null     object \n",
      " 43  Road Ramp                       180 non-null     object \n",
      " 44  Bridge Highway Segment          219 non-null     object \n",
      " 45  Garage Lot Name                 49 non-null      object \n",
      " 46  Ferry Direction                 24 non-null      object \n",
      " 47  Ferry Terminal Name             70 non-null      object \n",
      " 48  Latitude                        98143 non-null   float64\n",
      " 49  Longitude                       98143 non-null   float64\n",
      " 50  Location                        98143 non-null   object \n",
      "dtypes: float64(5), object(46)\n",
      "memory usage: 44.1+ MB\n"
     ]
    }
   ],
   "source": [
    "complaints.info()\n"
   ]
  },
  {
   "cell_type": "markdown",
   "metadata": {
    "pycharm": {
     "name": "#%% md\n"
    }
   },
   "source": [
    "- What is the complaint type for the complaint 26437546?"
   ]
  },
  {
   "cell_type": "code",
   "execution_count": 7,
   "metadata": {
    "ExecuteTime": {
     "end_time": "2021-09-24T14:46:43.737191Z",
     "start_time": "2021-09-24T14:46:43.732792Z"
    },
    "pycharm": {
     "name": "#%%\n"
    }
   },
   "outputs": [
    {
     "data": {
      "text/plain": "'Water System'"
     },
     "execution_count": 7,
     "metadata": {},
     "output_type": "execute_result"
    }
   ],
   "source": [
    "complaints.loc[26437546, 'Complaint Type']"
   ]
  },
  {
   "cell_type": "markdown",
   "metadata": {
    "pycharm": {
     "name": "#%% md\n"
    }
   },
   "source": [
    "- Select the first 20 rows."
   ]
  },
  {
   "cell_type": "code",
   "execution_count": 8,
   "metadata": {
    "ExecuteTime": {
     "end_time": "2021-09-24T14:46:56.286139Z",
     "start_time": "2021-09-24T14:46:56.202978Z"
    },
    "pycharm": {
     "name": "#%%\n"
    }
   },
   "outputs": [
    {
     "data": {
      "text/plain": "                      Created Date             Closed Date Agency  \\\nUnique Key                                                          \n26589651    10/31/2013 02:08:41 AM                     NaN   NYPD   \n26593698    10/31/2013 02:01:04 AM                     NaN   NYPD   \n26594139    10/31/2013 02:00:24 AM  10/31/2013 02:40:32 AM   NYPD   \n26595721    10/31/2013 01:56:23 AM  10/31/2013 02:21:48 AM   NYPD   \n26590930    10/31/2013 01:53:44 AM                     NaN  DOHMH   \n26592370    10/31/2013 01:46:52 AM                     NaN   NYPD   \n26595682    10/31/2013 01:46:40 AM                     NaN   NYPD   \n26595195    10/31/2013 01:44:19 AM  10/31/2013 01:58:49 AM   NYPD   \n26590540    10/31/2013 01:44:14 AM  10/31/2013 02:28:04 AM   NYPD   \n26594392    10/31/2013 01:34:41 AM  10/31/2013 02:23:51 AM   NYPD   \n26595176    10/31/2013 01:25:12 AM                     NaN   NYPD   \n26591982    10/31/2013 01:24:14 AM  10/31/2013 01:54:39 AM   NYPD   \n26594169    10/31/2013 01:20:57 AM  10/31/2013 02:12:31 AM   NYPD   \n26594391    10/31/2013 01:20:13 AM                     NaN   NYPD   \n26590917    10/31/2013 01:19:54 AM                     NaN  DOHMH   \n26591458    10/31/2013 01:14:02 AM  10/31/2013 01:30:34 AM   NYPD   \n26594086    10/31/2013 12:54:03 AM  10/31/2013 02:16:39 AM   NYPD   \n26595117    10/31/2013 12:52:46 AM                     NaN   NYPD   \n26590389    10/31/2013 12:51:00 AM                     NaN    DOT   \n26594210    10/31/2013 12:46:27 AM                     NaN   NYPD   \n\n                                        Agency Name            Complaint Type  \\\nUnique Key                                                                      \n26589651            New York City Police Department   Noise - Street/Sidewalk   \n26593698            New York City Police Department           Illegal Parking   \n26594139            New York City Police Department        Noise - Commercial   \n26595721            New York City Police Department           Noise - Vehicle   \n26590930    Department of Health and Mental Hygiene                    Rodent   \n26592370            New York City Police Department        Noise - Commercial   \n26595682            New York City Police Department          Blocked Driveway   \n26595195            New York City Police Department        Noise - Commercial   \n26590540            New York City Police Department        Noise - Commercial   \n26594392            New York City Police Department        Noise - Commercial   \n26595176            New York City Police Department  Noise - House of Worship   \n26591982            New York City Police Department        Noise - Commercial   \n26594169            New York City Police Department           Illegal Parking   \n26594391            New York City Police Department           Noise - Vehicle   \n26590917    Department of Health and Mental Hygiene                    Rodent   \n26591458            New York City Police Department  Noise - House of Worship   \n26594086            New York City Police Department   Noise - Street/Sidewalk   \n26595117            New York City Police Department           Illegal Parking   \n26590389               Department of Transportation    Street Light Condition   \n26594210            New York City Police Department        Noise - Commercial   \n\n                                Descriptor                  Location Type  \\\nUnique Key                                                                  \n26589651                      Loud Talking                Street/Sidewalk   \n26593698      Commercial Overnight Parking                Street/Sidewalk   \n26594139                  Loud Music/Party            Club/Bar/Restaurant   \n26595721                    Car/Truck Horn                Street/Sidewalk   \n26590930      Condition Attracting Rodents                     Vacant Lot   \n26592370                  Banging/Pounding            Club/Bar/Restaurant   \n26595682                         No Access                Street/Sidewalk   \n26595195                  Loud Music/Party            Club/Bar/Restaurant   \n26590540                      Loud Talking            Club/Bar/Restaurant   \n26594392                  Loud Music/Party            Club/Bar/Restaurant   \n26595176                  Loud Music/Party               House of Worship   \n26591982                  Loud Music/Party            Club/Bar/Restaurant   \n26594169    Double Parked Blocking Vehicle                Street/Sidewalk   \n26594391                     Engine Idling                Street/Sidewalk   \n26590917                      Rat Sighting  1-2 Family Mixed Use Building   \n26591458                  Loud Music/Party               House of Worship   \n26594086                  Loud Music/Party                Street/Sidewalk   \n26595117     Posted Parking Sign Violation                Street/Sidewalk   \n26590389                  Street Light Out                            NaN   \n26594210                  Loud Music/Party            Club/Bar/Restaurant   \n\n           Incident Zip           Incident Address         Street Name  \\\nUnique Key                                                               \n26589651        11432.0           90-03 169 STREET          169 STREET   \n26593698        11378.0                  58 AVENUE           58 AVENUE   \n26594139        10032.0              4060 BROADWAY            BROADWAY   \n26595721        10023.0             WEST 72 STREET      WEST 72 STREET   \n26590930        10027.0            WEST 124 STREET     WEST 124 STREET   \n26592370        11372.0                  37 AVENUE           37 AVENUE   \n26595682        11419.0          107-50 109 STREET          109 STREET   \n26595195        11417.0  137-09 CROSSBAY BOULEVARD  CROSSBAY BOULEVARD   \n26590540        10011.0         258 WEST 15 STREET      WEST 15 STREET   \n26594392        11225.0        835 NOSTRAND AVENUE     NOSTRAND AVENUE   \n26595176        11218.0             3775 18 AVENUE           18 AVENUE   \n26591982        10003.0               187 2 AVENUE            2 AVENUE   \n26594169        10029.0          65 EAST 99 STREET      EAST 99 STREET   \n26594391        10466.0                        NaN                 NaN   \n26590917        11219.0                  63 STREET           63 STREET   \n26591458        10025.0                        NaN                 NaN   \n26594086        10310.0        173 CAMPBELL AVENUE     CAMPBELL AVENUE   \n26595117        11236.0                        NaN                 NaN   \n26590389            NaN                226 42 ST E             42 ST E   \n26594210        10033.0                        NaN                 NaN   \n\n              Cross Street 1                    Cross Street 2  \\\nUnique Key                                                       \n26589651           90 AVENUE                         91 AVENUE   \n26593698            58 PLACE                         59 STREET   \n26594139     WEST 171 STREET                   WEST 172 STREET   \n26595721     COLUMBUS AVENUE                  AMSTERDAM AVENUE   \n26590930        LENOX AVENUE  ADAM CLAYTON POWELL JR BOULEVARD   \n26592370           84 STREET                         85 STREET   \n26595682          107 AVENUE                        109 AVENUE   \n26595195       PITKIN AVENUE                  VAN WICKLEN ROAD   \n26590540            7 AVENUE                          8 AVENUE   \n26594392        UNION STREET                  PRESIDENT STREET   \n26595176       EAST 9 STREET                     EAST 8 STREET   \n26591982      EAST 11 STREET                    EAST 12 STREET   \n26594169      MADISON AVENUE                       PARK AVENUE   \n26594391                 NaN                               NaN   \n26590917           13 AVENUE                         14 AVENUE   \n26591458                 NaN                               NaN   \n26594086    HENDERSON AVENUE                      WINEGAR LANE   \n26595117                 NaN                               NaN   \n26590389          CHURCH AVE                        SNYDER AVE   \n26594210                 NaN                               NaN   \n\n           Intersection Street 1 Intersection Street 2  Address Type  \\\nUnique Key                                                             \n26589651                     NaN                   NaN       ADDRESS   \n26593698                     NaN                   NaN     BLOCKFACE   \n26594139                     NaN                   NaN       ADDRESS   \n26595721                     NaN                   NaN     BLOCKFACE   \n26590930                     NaN                   NaN     BLOCKFACE   \n26592370                     NaN                   NaN     BLOCKFACE   \n26595682                     NaN                   NaN       ADDRESS   \n26595195                     NaN                   NaN       ADDRESS   \n26590540                     NaN                   NaN       ADDRESS   \n26594392                     NaN                   NaN       ADDRESS   \n26595176                     NaN                   NaN       ADDRESS   \n26591982                     NaN                   NaN       ADDRESS   \n26594169                     NaN                   NaN       ADDRESS   \n26594391           STRANG AVENUE       AMUNDSON AVENUE  INTERSECTION   \n26590917                     NaN                   NaN     BLOCKFACE   \n26591458        WEST   99 STREET              BROADWAY  INTERSECTION   \n26594086                     NaN                   NaN       ADDRESS   \n26595117        ROCKAWAY PARKWAY       SKIDMORE AVENUE  INTERSECTION   \n26590389                     NaN                   NaN       ADDRESS   \n26594210        WEST  184 STREET              BROADWAY  INTERSECTION   \n\n                           City Landmark Facility Type    Status  \\\nUnique Key                                                         \n26589651                JAMAICA      NaN      Precinct  Assigned   \n26593698                MASPETH      NaN      Precinct      Open   \n26594139               NEW YORK      NaN      Precinct    Closed   \n26595721               NEW YORK      NaN      Precinct    Closed   \n26590930               NEW YORK      NaN           NaN   Pending   \n26592370        JACKSON HEIGHTS      NaN      Precinct      Open   \n26595682    SOUTH RICHMOND HILL      NaN      Precinct  Assigned   \n26595195             OZONE PARK      NaN      Precinct    Closed   \n26590540               NEW YORK      NaN      Precinct    Closed   \n26594392               BROOKLYN      NaN      Precinct    Closed   \n26595176               BROOKLYN      NaN      Precinct      Open   \n26591982               NEW YORK      NaN      Precinct    Closed   \n26594169               NEW YORK      NaN      Precinct    Closed   \n26594391                  BRONX      NaN      Precinct      Open   \n26590917               BROOKLYN      NaN           NaN   Pending   \n26591458               NEW YORK      NaN      Precinct    Closed   \n26594086          STATEN ISLAND      NaN      Precinct    Closed   \n26595117               BROOKLYN      NaN      Precinct      Open   \n26590389                    NaN      NaN           NaN      Open   \n26594210               NEW YORK      NaN      Precinct  Assigned   \n\n                          Due Date Resolution Action Updated Date  \\\nUnique Key                                                          \n26589651    10/31/2013 10:08:41 AM         10/31/2013 02:35:17 AM   \n26593698    10/31/2013 10:01:04 AM                            NaN   \n26594139    10/31/2013 10:00:24 AM         10/31/2013 02:39:42 AM   \n26595721    10/31/2013 09:56:23 AM         10/31/2013 02:21:10 AM   \n26590930    11/30/2013 01:53:44 AM         10/31/2013 01:59:54 AM   \n26592370    10/31/2013 09:46:52 AM                            NaN   \n26595682    10/31/2013 09:46:40 AM         10/31/2013 01:59:51 AM   \n26595195    10/31/2013 09:44:19 AM         10/31/2013 01:58:49 AM   \n26590540    10/31/2013 09:44:14 AM         10/31/2013 02:00:56 AM   \n26594392    10/31/2013 09:34:41 AM         10/31/2013 01:48:26 AM   \n26595176    10/31/2013 09:25:12 AM                            NaN   \n26591982    10/31/2013 09:24:14 AM         10/31/2013 01:54:39 AM   \n26594169    10/31/2013 09:20:57 AM         10/31/2013 01:42:05 AM   \n26594391    10/31/2013 09:20:13 AM                            NaN   \n26590917    11/30/2013 01:19:54 AM         10/31/2013 01:29:26 AM   \n26591458    10/31/2013 09:14:02 AM         10/31/2013 01:30:34 AM   \n26594086    10/31/2013 08:54:03 AM         10/31/2013 02:07:14 AM   \n26595117    10/31/2013 08:52:46 AM                            NaN   \n26590389                       NaN                            NaN   \n26594210    10/31/2013 08:46:27 AM         10/31/2013 01:32:41 AM   \n\n                 Community Board        Borough  X Coordinate (State Plane)  \\\nUnique Key                                                                    \n26589651               12 QUEENS         QUEENS                   1042027.0   \n26593698               05 QUEENS         QUEENS                   1009349.0   \n26594139            12 MANHATTAN      MANHATTAN                   1001088.0   \n26595721            07 MANHATTAN      MANHATTAN                    989730.0   \n26590930            10 MANHATTAN      MANHATTAN                    998815.0   \n26592370               03 QUEENS         QUEENS                   1016948.0   \n26595682               10 QUEENS         QUEENS                   1030919.0   \n26595195               10 QUEENS         QUEENS                   1027776.0   \n26590540            04 MANHATTAN      MANHATTAN                    984031.0   \n26594392             09 BROOKLYN       BROOKLYN                    997941.0   \n26595176             14 BROOKLYN       BROOKLYN                    992726.0   \n26591982            03 MANHATTAN      MANHATTAN                    988110.0   \n26594169            11 MANHATTAN      MANHATTAN                    997470.0   \n26594391                12 BRONX          BRONX                   1029467.0   \n26590917             10 BROOKLYN       BROOKLYN                    984467.0   \n26591458            07 MANHATTAN      MANHATTAN                    992454.0   \n26594086        01 STATEN ISLAND  STATEN ISLAND                    952013.0   \n26595117             18 BROOKLYN       BROOKLYN                   1015289.0   \n26590389    Unspecified BROOKLYN       BROOKLYN                         NaN   \n26594210            12 MANHATTAN      MANHATTAN                   1002294.0   \n\n            Y Coordinate (State Plane) Park Facility Name   Park Borough  \\\nUnique Key                                                                 \n26589651                      197389.0        Unspecified         QUEENS   \n26593698                      201984.0        Unspecified         QUEENS   \n26594139                      246531.0        Unspecified      MANHATTAN   \n26595721                      222727.0        Unspecified      MANHATTAN   \n26590930                      233545.0        Unspecified      MANHATTAN   \n26592370                      212540.0        Unspecified         QUEENS   \n26595682                      187622.0        Unspecified         QUEENS   \n26595195                      184076.0        Unspecified         QUEENS   \n26590540                      208847.0        Unspecified      MANHATTAN   \n26594392                      182725.0        Unspecified       BROOKLYN   \n26595176                      170399.0        Unspecified       BROOKLYN   \n26591982                      205533.0        Unspecified      MANHATTAN   \n26594169                      226725.0        Unspecified      MANHATTAN   \n26594391                      264124.0        Unspecified          BRONX   \n26590917                      167519.0        Unspecified       BROOKLYN   \n26591458                      229500.0        Unspecified      MANHATTAN   \n26594086                      171076.0        Unspecified  STATEN ISLAND   \n26595117                      169710.0        Unspecified       BROOKLYN   \n26590389                           NaN        Unspecified       BROOKLYN   \n26594210                      249712.0        Unspecified      MANHATTAN   \n\n            School Name School Number School Region  School Code  \\\nUnique Key                                                         \n26589651    Unspecified   Unspecified   Unspecified  Unspecified   \n26593698    Unspecified   Unspecified   Unspecified  Unspecified   \n26594139    Unspecified   Unspecified   Unspecified  Unspecified   \n26595721    Unspecified   Unspecified   Unspecified  Unspecified   \n26590930    Unspecified   Unspecified   Unspecified  Unspecified   \n26592370    Unspecified   Unspecified   Unspecified  Unspecified   \n26595682    Unspecified   Unspecified   Unspecified  Unspecified   \n26595195    Unspecified   Unspecified   Unspecified  Unspecified   \n26590540    Unspecified   Unspecified   Unspecified  Unspecified   \n26594392    Unspecified   Unspecified   Unspecified  Unspecified   \n26595176    Unspecified   Unspecified   Unspecified  Unspecified   \n26591982    Unspecified   Unspecified   Unspecified  Unspecified   \n26594169    Unspecified   Unspecified   Unspecified  Unspecified   \n26594391    Unspecified   Unspecified   Unspecified  Unspecified   \n26590917    Unspecified   Unspecified   Unspecified  Unspecified   \n26591458    Unspecified   Unspecified   Unspecified  Unspecified   \n26594086    Unspecified   Unspecified   Unspecified  Unspecified   \n26595117    Unspecified   Unspecified   Unspecified  Unspecified   \n26590389    Unspecified   Unspecified   Unspecified  Unspecified   \n26594210    Unspecified   Unspecified   Unspecified  Unspecified   \n\n           School Phone Number School Address  School City School State  \\\nUnique Key                                                                \n26589651           Unspecified    Unspecified  Unspecified  Unspecified   \n26593698           Unspecified    Unspecified  Unspecified  Unspecified   \n26594139           Unspecified    Unspecified  Unspecified  Unspecified   \n26595721           Unspecified    Unspecified  Unspecified  Unspecified   \n26590930           Unspecified    Unspecified  Unspecified  Unspecified   \n26592370           Unspecified    Unspecified  Unspecified  Unspecified   \n26595682           Unspecified    Unspecified  Unspecified  Unspecified   \n26595195           Unspecified    Unspecified  Unspecified  Unspecified   \n26590540           Unspecified    Unspecified  Unspecified  Unspecified   \n26594392           Unspecified    Unspecified  Unspecified  Unspecified   \n26595176           Unspecified    Unspecified  Unspecified  Unspecified   \n26591982           Unspecified    Unspecified  Unspecified  Unspecified   \n26594169           Unspecified    Unspecified  Unspecified  Unspecified   \n26594391           Unspecified    Unspecified  Unspecified  Unspecified   \n26590917           Unspecified    Unspecified  Unspecified  Unspecified   \n26591458           Unspecified    Unspecified  Unspecified  Unspecified   \n26594086           Unspecified    Unspecified  Unspecified  Unspecified   \n26595117           Unspecified    Unspecified  Unspecified  Unspecified   \n26590389           Unspecified    Unspecified  Unspecified  Unspecified   \n26594210           Unspecified    Unspecified  Unspecified  Unspecified   \n\n             School Zip School Not Found  School or Citywide Complaint  \\\nUnique Key                                                               \n26589651    Unspecified                N                           NaN   \n26593698    Unspecified                N                           NaN   \n26594139    Unspecified                N                           NaN   \n26595721    Unspecified                N                           NaN   \n26590930    Unspecified                N                           NaN   \n26592370    Unspecified                N                           NaN   \n26595682    Unspecified                N                           NaN   \n26595195    Unspecified                N                           NaN   \n26590540    Unspecified                N                           NaN   \n26594392    Unspecified                N                           NaN   \n26595176    Unspecified                N                           NaN   \n26591982    Unspecified                N                           NaN   \n26594169    Unspecified                N                           NaN   \n26594391    Unspecified                N                           NaN   \n26590917    Unspecified                N                           NaN   \n26591458    Unspecified                N                           NaN   \n26594086    Unspecified                N                           NaN   \n26595117    Unspecified                N                           NaN   \n26590389    Unspecified              NaN                           NaN   \n26594210    Unspecified                N                           NaN   \n\n           Vehicle Type Taxi Company Borough Taxi Pick Up Location  \\\nUnique Key                                                           \n26589651            NaN                  NaN                   NaN   \n26593698            NaN                  NaN                   NaN   \n26594139            NaN                  NaN                   NaN   \n26595721            NaN                  NaN                   NaN   \n26590930            NaN                  NaN                   NaN   \n26592370            NaN                  NaN                   NaN   \n26595682            NaN                  NaN                   NaN   \n26595195            NaN                  NaN                   NaN   \n26590540            NaN                  NaN                   NaN   \n26594392            NaN                  NaN                   NaN   \n26595176            NaN                  NaN                   NaN   \n26591982            NaN                  NaN                   NaN   \n26594169            NaN                  NaN                   NaN   \n26594391            NaN                  NaN                   NaN   \n26590917            NaN                  NaN                   NaN   \n26591458            NaN                  NaN                   NaN   \n26594086            NaN                  NaN                   NaN   \n26595117            NaN                  NaN                   NaN   \n26590389            NaN                  NaN                   NaN   \n26594210            NaN                  NaN                   NaN   \n\n           Bridge Highway Name Bridge Highway Direction Road Ramp  \\\nUnique Key                                                          \n26589651                   NaN                      NaN       NaN   \n26593698                   NaN                      NaN       NaN   \n26594139                   NaN                      NaN       NaN   \n26595721                   NaN                      NaN       NaN   \n26590930                   NaN                      NaN       NaN   \n26592370                   NaN                      NaN       NaN   \n26595682                   NaN                      NaN       NaN   \n26595195                   NaN                      NaN       NaN   \n26590540                   NaN                      NaN       NaN   \n26594392                   NaN                      NaN       NaN   \n26595176                   NaN                      NaN       NaN   \n26591982                   NaN                      NaN       NaN   \n26594169                   NaN                      NaN       NaN   \n26594391                   NaN                      NaN       NaN   \n26590917                   NaN                      NaN       NaN   \n26591458                   NaN                      NaN       NaN   \n26594086                   NaN                      NaN       NaN   \n26595117                   NaN                      NaN       NaN   \n26590389                   NaN                      NaN       NaN   \n26594210                   NaN                      NaN       NaN   \n\n           Bridge Highway Segment Garage Lot Name Ferry Direction  \\\nUnique Key                                                          \n26589651                      NaN             NaN             NaN   \n26593698                      NaN             NaN             NaN   \n26594139                      NaN             NaN             NaN   \n26595721                      NaN             NaN             NaN   \n26590930                      NaN             NaN             NaN   \n26592370                      NaN             NaN             NaN   \n26595682                      NaN             NaN             NaN   \n26595195                      NaN             NaN             NaN   \n26590540                      NaN             NaN             NaN   \n26594392                      NaN             NaN             NaN   \n26595176                      NaN             NaN             NaN   \n26591982                      NaN             NaN             NaN   \n26594169                      NaN             NaN             NaN   \n26594391                      NaN             NaN             NaN   \n26590917                      NaN             NaN             NaN   \n26591458                      NaN             NaN             NaN   \n26594086                      NaN             NaN             NaN   \n26595117                      NaN             NaN             NaN   \n26590389                      NaN             NaN             NaN   \n26594210                      NaN             NaN             NaN   \n\n           Ferry Terminal Name   Latitude  Longitude  \\\nUnique Key                                             \n26589651                   NaN  40.708275 -73.791604   \n26593698                   NaN  40.721041 -73.909453   \n26594139                   NaN  40.843330 -73.939144   \n26595721                   NaN  40.778009 -73.980213   \n26590930                   NaN  40.807691 -73.947387   \n26592370                   NaN  40.749989 -73.881988   \n26595682                   NaN  40.681533 -73.831737   \n26595195                   NaN  40.671816 -73.843092   \n26590540                   NaN  40.739913 -74.000790   \n26594392                   NaN  40.668204 -73.950648   \n26595176                   NaN  40.634378 -73.969462   \n26591982                   NaN  40.730816 -73.986073   \n26594169                   NaN  40.788974 -73.952259   \n26594391                   NaN  40.891517 -73.836457   \n26590917                   NaN  40.626477 -73.999218   \n26591458                   NaN  40.796597 -73.970370   \n26594086                   NaN  40.636182 -74.116150   \n26595117                   NaN  40.632437 -73.888173   \n26590389                   NaN        NaN        NaN   \n26594210                   NaN  40.852058 -73.934776   \n\n                                            Location  \nUnique Key                                            \n26589651     (40.70827532593202, -73.79160395779721)  \n26593698    (40.721040535628305, -73.90945306791765)  \n26594139     (40.84332975466513, -73.93914371913482)  \n26595721      (40.7780087446372, -73.98021349023975)  \n26590930     (40.80769092704951, -73.94738703491433)  \n26592370      (40.7499893014072, -73.88198770727831)  \n26595682     (40.68153278675525, -73.83173699701601)  \n26595195     (40.67181584567338, -73.84309181950769)  \n26590540     (40.73991339303542, -74.00079028612932)  \n26594392     (40.66820406598287, -73.95064760056546)  \n26595176     (40.63437840816299, -73.96946177104543)  \n26591982     (40.73081644089586, -73.98607265739876)  \n26594169     (40.78897400211689, -73.95225898702977)  \n26594391     (40.89151738488846, -73.83645714593568)  \n26590917      (40.6264774690411, -73.99921826202639)  \n26591458      (40.7965967075252, -73.97036973473399)  \n26594086      (40.63618202176914, -74.1161500428337)  \n26595117     (40.63243692394328, -73.88817263437012)  \n26590389                                         NaN  \n26594210     (40.85205827756883, -73.93477640780834)  ",
      "text/html": "<div>\n<style scoped>\n    .dataframe tbody tr th:only-of-type {\n        vertical-align: middle;\n    }\n\n    .dataframe tbody tr th {\n        vertical-align: top;\n    }\n\n    .dataframe thead th {\n        text-align: right;\n    }\n</style>\n<table border=\"1\" class=\"dataframe\">\n  <thead>\n    <tr style=\"text-align: right;\">\n      <th></th>\n      <th>Created Date</th>\n      <th>Closed Date</th>\n      <th>Agency</th>\n      <th>Agency Name</th>\n      <th>Complaint Type</th>\n      <th>Descriptor</th>\n      <th>Location Type</th>\n      <th>Incident Zip</th>\n      <th>Incident Address</th>\n      <th>Street Name</th>\n      <th>Cross Street 1</th>\n      <th>Cross Street 2</th>\n      <th>Intersection Street 1</th>\n      <th>Intersection Street 2</th>\n      <th>Address Type</th>\n      <th>City</th>\n      <th>Landmark</th>\n      <th>Facility Type</th>\n      <th>Status</th>\n      <th>Due Date</th>\n      <th>Resolution Action Updated Date</th>\n      <th>Community Board</th>\n      <th>Borough</th>\n      <th>X Coordinate (State Plane)</th>\n      <th>Y Coordinate (State Plane)</th>\n      <th>Park Facility Name</th>\n      <th>Park Borough</th>\n      <th>School Name</th>\n      <th>School Number</th>\n      <th>School Region</th>\n      <th>School Code</th>\n      <th>School Phone Number</th>\n      <th>School Address</th>\n      <th>School City</th>\n      <th>School State</th>\n      <th>School Zip</th>\n      <th>School Not Found</th>\n      <th>School or Citywide Complaint</th>\n      <th>Vehicle Type</th>\n      <th>Taxi Company Borough</th>\n      <th>Taxi Pick Up Location</th>\n      <th>Bridge Highway Name</th>\n      <th>Bridge Highway Direction</th>\n      <th>Road Ramp</th>\n      <th>Bridge Highway Segment</th>\n      <th>Garage Lot Name</th>\n      <th>Ferry Direction</th>\n      <th>Ferry Terminal Name</th>\n      <th>Latitude</th>\n      <th>Longitude</th>\n      <th>Location</th>\n    </tr>\n    <tr>\n      <th>Unique Key</th>\n      <th></th>\n      <th></th>\n      <th></th>\n      <th></th>\n      <th></th>\n      <th></th>\n      <th></th>\n      <th></th>\n      <th></th>\n      <th></th>\n      <th></th>\n      <th></th>\n      <th></th>\n      <th></th>\n      <th></th>\n      <th></th>\n      <th></th>\n      <th></th>\n      <th></th>\n      <th></th>\n      <th></th>\n      <th></th>\n      <th></th>\n      <th></th>\n      <th></th>\n      <th></th>\n      <th></th>\n      <th></th>\n      <th></th>\n      <th></th>\n      <th></th>\n      <th></th>\n      <th></th>\n      <th></th>\n      <th></th>\n      <th></th>\n      <th></th>\n      <th></th>\n      <th></th>\n      <th></th>\n      <th></th>\n      <th></th>\n      <th></th>\n      <th></th>\n      <th></th>\n      <th></th>\n      <th></th>\n      <th></th>\n      <th></th>\n      <th></th>\n      <th></th>\n    </tr>\n  </thead>\n  <tbody>\n    <tr>\n      <th>26589651</th>\n      <td>10/31/2013 02:08:41 AM</td>\n      <td>NaN</td>\n      <td>NYPD</td>\n      <td>New York City Police Department</td>\n      <td>Noise - Street/Sidewalk</td>\n      <td>Loud Talking</td>\n      <td>Street/Sidewalk</td>\n      <td>11432.0</td>\n      <td>90-03 169 STREET</td>\n      <td>169 STREET</td>\n      <td>90 AVENUE</td>\n      <td>91 AVENUE</td>\n      <td>NaN</td>\n      <td>NaN</td>\n      <td>ADDRESS</td>\n      <td>JAMAICA</td>\n      <td>NaN</td>\n      <td>Precinct</td>\n      <td>Assigned</td>\n      <td>10/31/2013 10:08:41 AM</td>\n      <td>10/31/2013 02:35:17 AM</td>\n      <td>12 QUEENS</td>\n      <td>QUEENS</td>\n      <td>1042027.0</td>\n      <td>197389.0</td>\n      <td>Unspecified</td>\n      <td>QUEENS</td>\n      <td>Unspecified</td>\n      <td>Unspecified</td>\n      <td>Unspecified</td>\n      <td>Unspecified</td>\n      <td>Unspecified</td>\n      <td>Unspecified</td>\n      <td>Unspecified</td>\n      <td>Unspecified</td>\n      <td>Unspecified</td>\n      <td>N</td>\n      <td>NaN</td>\n      <td>NaN</td>\n      <td>NaN</td>\n      <td>NaN</td>\n      <td>NaN</td>\n      <td>NaN</td>\n      <td>NaN</td>\n      <td>NaN</td>\n      <td>NaN</td>\n      <td>NaN</td>\n      <td>NaN</td>\n      <td>40.708275</td>\n      <td>-73.791604</td>\n      <td>(40.70827532593202, -73.79160395779721)</td>\n    </tr>\n    <tr>\n      <th>26593698</th>\n      <td>10/31/2013 02:01:04 AM</td>\n      <td>NaN</td>\n      <td>NYPD</td>\n      <td>New York City Police Department</td>\n      <td>Illegal Parking</td>\n      <td>Commercial Overnight Parking</td>\n      <td>Street/Sidewalk</td>\n      <td>11378.0</td>\n      <td>58 AVENUE</td>\n      <td>58 AVENUE</td>\n      <td>58 PLACE</td>\n      <td>59 STREET</td>\n      <td>NaN</td>\n      <td>NaN</td>\n      <td>BLOCKFACE</td>\n      <td>MASPETH</td>\n      <td>NaN</td>\n      <td>Precinct</td>\n      <td>Open</td>\n      <td>10/31/2013 10:01:04 AM</td>\n      <td>NaN</td>\n      <td>05 QUEENS</td>\n      <td>QUEENS</td>\n      <td>1009349.0</td>\n      <td>201984.0</td>\n      <td>Unspecified</td>\n      <td>QUEENS</td>\n      <td>Unspecified</td>\n      <td>Unspecified</td>\n      <td>Unspecified</td>\n      <td>Unspecified</td>\n      <td>Unspecified</td>\n      <td>Unspecified</td>\n      <td>Unspecified</td>\n      <td>Unspecified</td>\n      <td>Unspecified</td>\n      <td>N</td>\n      <td>NaN</td>\n      <td>NaN</td>\n      <td>NaN</td>\n      <td>NaN</td>\n      <td>NaN</td>\n      <td>NaN</td>\n      <td>NaN</td>\n      <td>NaN</td>\n      <td>NaN</td>\n      <td>NaN</td>\n      <td>NaN</td>\n      <td>40.721041</td>\n      <td>-73.909453</td>\n      <td>(40.721040535628305, -73.90945306791765)</td>\n    </tr>\n    <tr>\n      <th>26594139</th>\n      <td>10/31/2013 02:00:24 AM</td>\n      <td>10/31/2013 02:40:32 AM</td>\n      <td>NYPD</td>\n      <td>New York City Police Department</td>\n      <td>Noise - Commercial</td>\n      <td>Loud Music/Party</td>\n      <td>Club/Bar/Restaurant</td>\n      <td>10032.0</td>\n      <td>4060 BROADWAY</td>\n      <td>BROADWAY</td>\n      <td>WEST 171 STREET</td>\n      <td>WEST 172 STREET</td>\n      <td>NaN</td>\n      <td>NaN</td>\n      <td>ADDRESS</td>\n      <td>NEW YORK</td>\n      <td>NaN</td>\n      <td>Precinct</td>\n      <td>Closed</td>\n      <td>10/31/2013 10:00:24 AM</td>\n      <td>10/31/2013 02:39:42 AM</td>\n      <td>12 MANHATTAN</td>\n      <td>MANHATTAN</td>\n      <td>1001088.0</td>\n      <td>246531.0</td>\n      <td>Unspecified</td>\n      <td>MANHATTAN</td>\n      <td>Unspecified</td>\n      <td>Unspecified</td>\n      <td>Unspecified</td>\n      <td>Unspecified</td>\n      <td>Unspecified</td>\n      <td>Unspecified</td>\n      <td>Unspecified</td>\n      <td>Unspecified</td>\n      <td>Unspecified</td>\n      <td>N</td>\n      <td>NaN</td>\n      <td>NaN</td>\n      <td>NaN</td>\n      <td>NaN</td>\n      <td>NaN</td>\n      <td>NaN</td>\n      <td>NaN</td>\n      <td>NaN</td>\n      <td>NaN</td>\n      <td>NaN</td>\n      <td>NaN</td>\n      <td>40.843330</td>\n      <td>-73.939144</td>\n      <td>(40.84332975466513, -73.93914371913482)</td>\n    </tr>\n    <tr>\n      <th>26595721</th>\n      <td>10/31/2013 01:56:23 AM</td>\n      <td>10/31/2013 02:21:48 AM</td>\n      <td>NYPD</td>\n      <td>New York City Police Department</td>\n      <td>Noise - Vehicle</td>\n      <td>Car/Truck Horn</td>\n      <td>Street/Sidewalk</td>\n      <td>10023.0</td>\n      <td>WEST 72 STREET</td>\n      <td>WEST 72 STREET</td>\n      <td>COLUMBUS AVENUE</td>\n      <td>AMSTERDAM AVENUE</td>\n      <td>NaN</td>\n      <td>NaN</td>\n      <td>BLOCKFACE</td>\n      <td>NEW YORK</td>\n      <td>NaN</td>\n      <td>Precinct</td>\n      <td>Closed</td>\n      <td>10/31/2013 09:56:23 AM</td>\n      <td>10/31/2013 02:21:10 AM</td>\n      <td>07 MANHATTAN</td>\n      <td>MANHATTAN</td>\n      <td>989730.0</td>\n      <td>222727.0</td>\n      <td>Unspecified</td>\n      <td>MANHATTAN</td>\n      <td>Unspecified</td>\n      <td>Unspecified</td>\n      <td>Unspecified</td>\n      <td>Unspecified</td>\n      <td>Unspecified</td>\n      <td>Unspecified</td>\n      <td>Unspecified</td>\n      <td>Unspecified</td>\n      <td>Unspecified</td>\n      <td>N</td>\n      <td>NaN</td>\n      <td>NaN</td>\n      <td>NaN</td>\n      <td>NaN</td>\n      <td>NaN</td>\n      <td>NaN</td>\n      <td>NaN</td>\n      <td>NaN</td>\n      <td>NaN</td>\n      <td>NaN</td>\n      <td>NaN</td>\n      <td>40.778009</td>\n      <td>-73.980213</td>\n      <td>(40.7780087446372, -73.98021349023975)</td>\n    </tr>\n    <tr>\n      <th>26590930</th>\n      <td>10/31/2013 01:53:44 AM</td>\n      <td>NaN</td>\n      <td>DOHMH</td>\n      <td>Department of Health and Mental Hygiene</td>\n      <td>Rodent</td>\n      <td>Condition Attracting Rodents</td>\n      <td>Vacant Lot</td>\n      <td>10027.0</td>\n      <td>WEST 124 STREET</td>\n      <td>WEST 124 STREET</td>\n      <td>LENOX AVENUE</td>\n      <td>ADAM CLAYTON POWELL JR BOULEVARD</td>\n      <td>NaN</td>\n      <td>NaN</td>\n      <td>BLOCKFACE</td>\n      <td>NEW YORK</td>\n      <td>NaN</td>\n      <td>NaN</td>\n      <td>Pending</td>\n      <td>11/30/2013 01:53:44 AM</td>\n      <td>10/31/2013 01:59:54 AM</td>\n      <td>10 MANHATTAN</td>\n      <td>MANHATTAN</td>\n      <td>998815.0</td>\n      <td>233545.0</td>\n      <td>Unspecified</td>\n      <td>MANHATTAN</td>\n      <td>Unspecified</td>\n      <td>Unspecified</td>\n      <td>Unspecified</td>\n      <td>Unspecified</td>\n      <td>Unspecified</td>\n      <td>Unspecified</td>\n      <td>Unspecified</td>\n      <td>Unspecified</td>\n      <td>Unspecified</td>\n      <td>N</td>\n      <td>NaN</td>\n      <td>NaN</td>\n      <td>NaN</td>\n      <td>NaN</td>\n      <td>NaN</td>\n      <td>NaN</td>\n      <td>NaN</td>\n      <td>NaN</td>\n      <td>NaN</td>\n      <td>NaN</td>\n      <td>NaN</td>\n      <td>40.807691</td>\n      <td>-73.947387</td>\n      <td>(40.80769092704951, -73.94738703491433)</td>\n    </tr>\n    <tr>\n      <th>26592370</th>\n      <td>10/31/2013 01:46:52 AM</td>\n      <td>NaN</td>\n      <td>NYPD</td>\n      <td>New York City Police Department</td>\n      <td>Noise - Commercial</td>\n      <td>Banging/Pounding</td>\n      <td>Club/Bar/Restaurant</td>\n      <td>11372.0</td>\n      <td>37 AVENUE</td>\n      <td>37 AVENUE</td>\n      <td>84 STREET</td>\n      <td>85 STREET</td>\n      <td>NaN</td>\n      <td>NaN</td>\n      <td>BLOCKFACE</td>\n      <td>JACKSON HEIGHTS</td>\n      <td>NaN</td>\n      <td>Precinct</td>\n      <td>Open</td>\n      <td>10/31/2013 09:46:52 AM</td>\n      <td>NaN</td>\n      <td>03 QUEENS</td>\n      <td>QUEENS</td>\n      <td>1016948.0</td>\n      <td>212540.0</td>\n      <td>Unspecified</td>\n      <td>QUEENS</td>\n      <td>Unspecified</td>\n      <td>Unspecified</td>\n      <td>Unspecified</td>\n      <td>Unspecified</td>\n      <td>Unspecified</td>\n      <td>Unspecified</td>\n      <td>Unspecified</td>\n      <td>Unspecified</td>\n      <td>Unspecified</td>\n      <td>N</td>\n      <td>NaN</td>\n      <td>NaN</td>\n      <td>NaN</td>\n      <td>NaN</td>\n      <td>NaN</td>\n      <td>NaN</td>\n      <td>NaN</td>\n      <td>NaN</td>\n      <td>NaN</td>\n      <td>NaN</td>\n      <td>NaN</td>\n      <td>40.749989</td>\n      <td>-73.881988</td>\n      <td>(40.7499893014072, -73.88198770727831)</td>\n    </tr>\n    <tr>\n      <th>26595682</th>\n      <td>10/31/2013 01:46:40 AM</td>\n      <td>NaN</td>\n      <td>NYPD</td>\n      <td>New York City Police Department</td>\n      <td>Blocked Driveway</td>\n      <td>No Access</td>\n      <td>Street/Sidewalk</td>\n      <td>11419.0</td>\n      <td>107-50 109 STREET</td>\n      <td>109 STREET</td>\n      <td>107 AVENUE</td>\n      <td>109 AVENUE</td>\n      <td>NaN</td>\n      <td>NaN</td>\n      <td>ADDRESS</td>\n      <td>SOUTH RICHMOND HILL</td>\n      <td>NaN</td>\n      <td>Precinct</td>\n      <td>Assigned</td>\n      <td>10/31/2013 09:46:40 AM</td>\n      <td>10/31/2013 01:59:51 AM</td>\n      <td>10 QUEENS</td>\n      <td>QUEENS</td>\n      <td>1030919.0</td>\n      <td>187622.0</td>\n      <td>Unspecified</td>\n      <td>QUEENS</td>\n      <td>Unspecified</td>\n      <td>Unspecified</td>\n      <td>Unspecified</td>\n      <td>Unspecified</td>\n      <td>Unspecified</td>\n      <td>Unspecified</td>\n      <td>Unspecified</td>\n      <td>Unspecified</td>\n      <td>Unspecified</td>\n      <td>N</td>\n      <td>NaN</td>\n      <td>NaN</td>\n      <td>NaN</td>\n      <td>NaN</td>\n      <td>NaN</td>\n      <td>NaN</td>\n      <td>NaN</td>\n      <td>NaN</td>\n      <td>NaN</td>\n      <td>NaN</td>\n      <td>NaN</td>\n      <td>40.681533</td>\n      <td>-73.831737</td>\n      <td>(40.68153278675525, -73.83173699701601)</td>\n    </tr>\n    <tr>\n      <th>26595195</th>\n      <td>10/31/2013 01:44:19 AM</td>\n      <td>10/31/2013 01:58:49 AM</td>\n      <td>NYPD</td>\n      <td>New York City Police Department</td>\n      <td>Noise - Commercial</td>\n      <td>Loud Music/Party</td>\n      <td>Club/Bar/Restaurant</td>\n      <td>11417.0</td>\n      <td>137-09 CROSSBAY BOULEVARD</td>\n      <td>CROSSBAY BOULEVARD</td>\n      <td>PITKIN AVENUE</td>\n      <td>VAN WICKLEN ROAD</td>\n      <td>NaN</td>\n      <td>NaN</td>\n      <td>ADDRESS</td>\n      <td>OZONE PARK</td>\n      <td>NaN</td>\n      <td>Precinct</td>\n      <td>Closed</td>\n      <td>10/31/2013 09:44:19 AM</td>\n      <td>10/31/2013 01:58:49 AM</td>\n      <td>10 QUEENS</td>\n      <td>QUEENS</td>\n      <td>1027776.0</td>\n      <td>184076.0</td>\n      <td>Unspecified</td>\n      <td>QUEENS</td>\n      <td>Unspecified</td>\n      <td>Unspecified</td>\n      <td>Unspecified</td>\n      <td>Unspecified</td>\n      <td>Unspecified</td>\n      <td>Unspecified</td>\n      <td>Unspecified</td>\n      <td>Unspecified</td>\n      <td>Unspecified</td>\n      <td>N</td>\n      <td>NaN</td>\n      <td>NaN</td>\n      <td>NaN</td>\n      <td>NaN</td>\n      <td>NaN</td>\n      <td>NaN</td>\n      <td>NaN</td>\n      <td>NaN</td>\n      <td>NaN</td>\n      <td>NaN</td>\n      <td>NaN</td>\n      <td>40.671816</td>\n      <td>-73.843092</td>\n      <td>(40.67181584567338, -73.84309181950769)</td>\n    </tr>\n    <tr>\n      <th>26590540</th>\n      <td>10/31/2013 01:44:14 AM</td>\n      <td>10/31/2013 02:28:04 AM</td>\n      <td>NYPD</td>\n      <td>New York City Police Department</td>\n      <td>Noise - Commercial</td>\n      <td>Loud Talking</td>\n      <td>Club/Bar/Restaurant</td>\n      <td>10011.0</td>\n      <td>258 WEST 15 STREET</td>\n      <td>WEST 15 STREET</td>\n      <td>7 AVENUE</td>\n      <td>8 AVENUE</td>\n      <td>NaN</td>\n      <td>NaN</td>\n      <td>ADDRESS</td>\n      <td>NEW YORK</td>\n      <td>NaN</td>\n      <td>Precinct</td>\n      <td>Closed</td>\n      <td>10/31/2013 09:44:14 AM</td>\n      <td>10/31/2013 02:00:56 AM</td>\n      <td>04 MANHATTAN</td>\n      <td>MANHATTAN</td>\n      <td>984031.0</td>\n      <td>208847.0</td>\n      <td>Unspecified</td>\n      <td>MANHATTAN</td>\n      <td>Unspecified</td>\n      <td>Unspecified</td>\n      <td>Unspecified</td>\n      <td>Unspecified</td>\n      <td>Unspecified</td>\n      <td>Unspecified</td>\n      <td>Unspecified</td>\n      <td>Unspecified</td>\n      <td>Unspecified</td>\n      <td>N</td>\n      <td>NaN</td>\n      <td>NaN</td>\n      <td>NaN</td>\n      <td>NaN</td>\n      <td>NaN</td>\n      <td>NaN</td>\n      <td>NaN</td>\n      <td>NaN</td>\n      <td>NaN</td>\n      <td>NaN</td>\n      <td>NaN</td>\n      <td>40.739913</td>\n      <td>-74.000790</td>\n      <td>(40.73991339303542, -74.00079028612932)</td>\n    </tr>\n    <tr>\n      <th>26594392</th>\n      <td>10/31/2013 01:34:41 AM</td>\n      <td>10/31/2013 02:23:51 AM</td>\n      <td>NYPD</td>\n      <td>New York City Police Department</td>\n      <td>Noise - Commercial</td>\n      <td>Loud Music/Party</td>\n      <td>Club/Bar/Restaurant</td>\n      <td>11225.0</td>\n      <td>835 NOSTRAND AVENUE</td>\n      <td>NOSTRAND AVENUE</td>\n      <td>UNION STREET</td>\n      <td>PRESIDENT STREET</td>\n      <td>NaN</td>\n      <td>NaN</td>\n      <td>ADDRESS</td>\n      <td>BROOKLYN</td>\n      <td>NaN</td>\n      <td>Precinct</td>\n      <td>Closed</td>\n      <td>10/31/2013 09:34:41 AM</td>\n      <td>10/31/2013 01:48:26 AM</td>\n      <td>09 BROOKLYN</td>\n      <td>BROOKLYN</td>\n      <td>997941.0</td>\n      <td>182725.0</td>\n      <td>Unspecified</td>\n      <td>BROOKLYN</td>\n      <td>Unspecified</td>\n      <td>Unspecified</td>\n      <td>Unspecified</td>\n      <td>Unspecified</td>\n      <td>Unspecified</td>\n      <td>Unspecified</td>\n      <td>Unspecified</td>\n      <td>Unspecified</td>\n      <td>Unspecified</td>\n      <td>N</td>\n      <td>NaN</td>\n      <td>NaN</td>\n      <td>NaN</td>\n      <td>NaN</td>\n      <td>NaN</td>\n      <td>NaN</td>\n      <td>NaN</td>\n      <td>NaN</td>\n      <td>NaN</td>\n      <td>NaN</td>\n      <td>NaN</td>\n      <td>40.668204</td>\n      <td>-73.950648</td>\n      <td>(40.66820406598287, -73.95064760056546)</td>\n    </tr>\n    <tr>\n      <th>26595176</th>\n      <td>10/31/2013 01:25:12 AM</td>\n      <td>NaN</td>\n      <td>NYPD</td>\n      <td>New York City Police Department</td>\n      <td>Noise - House of Worship</td>\n      <td>Loud Music/Party</td>\n      <td>House of Worship</td>\n      <td>11218.0</td>\n      <td>3775 18 AVENUE</td>\n      <td>18 AVENUE</td>\n      <td>EAST 9 STREET</td>\n      <td>EAST 8 STREET</td>\n      <td>NaN</td>\n      <td>NaN</td>\n      <td>ADDRESS</td>\n      <td>BROOKLYN</td>\n      <td>NaN</td>\n      <td>Precinct</td>\n      <td>Open</td>\n      <td>10/31/2013 09:25:12 AM</td>\n      <td>NaN</td>\n      <td>14 BROOKLYN</td>\n      <td>BROOKLYN</td>\n      <td>992726.0</td>\n      <td>170399.0</td>\n      <td>Unspecified</td>\n      <td>BROOKLYN</td>\n      <td>Unspecified</td>\n      <td>Unspecified</td>\n      <td>Unspecified</td>\n      <td>Unspecified</td>\n      <td>Unspecified</td>\n      <td>Unspecified</td>\n      <td>Unspecified</td>\n      <td>Unspecified</td>\n      <td>Unspecified</td>\n      <td>N</td>\n      <td>NaN</td>\n      <td>NaN</td>\n      <td>NaN</td>\n      <td>NaN</td>\n      <td>NaN</td>\n      <td>NaN</td>\n      <td>NaN</td>\n      <td>NaN</td>\n      <td>NaN</td>\n      <td>NaN</td>\n      <td>NaN</td>\n      <td>40.634378</td>\n      <td>-73.969462</td>\n      <td>(40.63437840816299, -73.96946177104543)</td>\n    </tr>\n    <tr>\n      <th>26591982</th>\n      <td>10/31/2013 01:24:14 AM</td>\n      <td>10/31/2013 01:54:39 AM</td>\n      <td>NYPD</td>\n      <td>New York City Police Department</td>\n      <td>Noise - Commercial</td>\n      <td>Loud Music/Party</td>\n      <td>Club/Bar/Restaurant</td>\n      <td>10003.0</td>\n      <td>187 2 AVENUE</td>\n      <td>2 AVENUE</td>\n      <td>EAST 11 STREET</td>\n      <td>EAST 12 STREET</td>\n      <td>NaN</td>\n      <td>NaN</td>\n      <td>ADDRESS</td>\n      <td>NEW YORK</td>\n      <td>NaN</td>\n      <td>Precinct</td>\n      <td>Closed</td>\n      <td>10/31/2013 09:24:14 AM</td>\n      <td>10/31/2013 01:54:39 AM</td>\n      <td>03 MANHATTAN</td>\n      <td>MANHATTAN</td>\n      <td>988110.0</td>\n      <td>205533.0</td>\n      <td>Unspecified</td>\n      <td>MANHATTAN</td>\n      <td>Unspecified</td>\n      <td>Unspecified</td>\n      <td>Unspecified</td>\n      <td>Unspecified</td>\n      <td>Unspecified</td>\n      <td>Unspecified</td>\n      <td>Unspecified</td>\n      <td>Unspecified</td>\n      <td>Unspecified</td>\n      <td>N</td>\n      <td>NaN</td>\n      <td>NaN</td>\n      <td>NaN</td>\n      <td>NaN</td>\n      <td>NaN</td>\n      <td>NaN</td>\n      <td>NaN</td>\n      <td>NaN</td>\n      <td>NaN</td>\n      <td>NaN</td>\n      <td>NaN</td>\n      <td>40.730816</td>\n      <td>-73.986073</td>\n      <td>(40.73081644089586, -73.98607265739876)</td>\n    </tr>\n    <tr>\n      <th>26594169</th>\n      <td>10/31/2013 01:20:57 AM</td>\n      <td>10/31/2013 02:12:31 AM</td>\n      <td>NYPD</td>\n      <td>New York City Police Department</td>\n      <td>Illegal Parking</td>\n      <td>Double Parked Blocking Vehicle</td>\n      <td>Street/Sidewalk</td>\n      <td>10029.0</td>\n      <td>65 EAST 99 STREET</td>\n      <td>EAST 99 STREET</td>\n      <td>MADISON AVENUE</td>\n      <td>PARK AVENUE</td>\n      <td>NaN</td>\n      <td>NaN</td>\n      <td>ADDRESS</td>\n      <td>NEW YORK</td>\n      <td>NaN</td>\n      <td>Precinct</td>\n      <td>Closed</td>\n      <td>10/31/2013 09:20:57 AM</td>\n      <td>10/31/2013 01:42:05 AM</td>\n      <td>11 MANHATTAN</td>\n      <td>MANHATTAN</td>\n      <td>997470.0</td>\n      <td>226725.0</td>\n      <td>Unspecified</td>\n      <td>MANHATTAN</td>\n      <td>Unspecified</td>\n      <td>Unspecified</td>\n      <td>Unspecified</td>\n      <td>Unspecified</td>\n      <td>Unspecified</td>\n      <td>Unspecified</td>\n      <td>Unspecified</td>\n      <td>Unspecified</td>\n      <td>Unspecified</td>\n      <td>N</td>\n      <td>NaN</td>\n      <td>NaN</td>\n      <td>NaN</td>\n      <td>NaN</td>\n      <td>NaN</td>\n      <td>NaN</td>\n      <td>NaN</td>\n      <td>NaN</td>\n      <td>NaN</td>\n      <td>NaN</td>\n      <td>NaN</td>\n      <td>40.788974</td>\n      <td>-73.952259</td>\n      <td>(40.78897400211689, -73.95225898702977)</td>\n    </tr>\n    <tr>\n      <th>26594391</th>\n      <td>10/31/2013 01:20:13 AM</td>\n      <td>NaN</td>\n      <td>NYPD</td>\n      <td>New York City Police Department</td>\n      <td>Noise - Vehicle</td>\n      <td>Engine Idling</td>\n      <td>Street/Sidewalk</td>\n      <td>10466.0</td>\n      <td>NaN</td>\n      <td>NaN</td>\n      <td>NaN</td>\n      <td>NaN</td>\n      <td>STRANG AVENUE</td>\n      <td>AMUNDSON AVENUE</td>\n      <td>INTERSECTION</td>\n      <td>BRONX</td>\n      <td>NaN</td>\n      <td>Precinct</td>\n      <td>Open</td>\n      <td>10/31/2013 09:20:13 AM</td>\n      <td>NaN</td>\n      <td>12 BRONX</td>\n      <td>BRONX</td>\n      <td>1029467.0</td>\n      <td>264124.0</td>\n      <td>Unspecified</td>\n      <td>BRONX</td>\n      <td>Unspecified</td>\n      <td>Unspecified</td>\n      <td>Unspecified</td>\n      <td>Unspecified</td>\n      <td>Unspecified</td>\n      <td>Unspecified</td>\n      <td>Unspecified</td>\n      <td>Unspecified</td>\n      <td>Unspecified</td>\n      <td>N</td>\n      <td>NaN</td>\n      <td>NaN</td>\n      <td>NaN</td>\n      <td>NaN</td>\n      <td>NaN</td>\n      <td>NaN</td>\n      <td>NaN</td>\n      <td>NaN</td>\n      <td>NaN</td>\n      <td>NaN</td>\n      <td>NaN</td>\n      <td>40.891517</td>\n      <td>-73.836457</td>\n      <td>(40.89151738488846, -73.83645714593568)</td>\n    </tr>\n    <tr>\n      <th>26590917</th>\n      <td>10/31/2013 01:19:54 AM</td>\n      <td>NaN</td>\n      <td>DOHMH</td>\n      <td>Department of Health and Mental Hygiene</td>\n      <td>Rodent</td>\n      <td>Rat Sighting</td>\n      <td>1-2 Family Mixed Use Building</td>\n      <td>11219.0</td>\n      <td>63 STREET</td>\n      <td>63 STREET</td>\n      <td>13 AVENUE</td>\n      <td>14 AVENUE</td>\n      <td>NaN</td>\n      <td>NaN</td>\n      <td>BLOCKFACE</td>\n      <td>BROOKLYN</td>\n      <td>NaN</td>\n      <td>NaN</td>\n      <td>Pending</td>\n      <td>11/30/2013 01:19:54 AM</td>\n      <td>10/31/2013 01:29:26 AM</td>\n      <td>10 BROOKLYN</td>\n      <td>BROOKLYN</td>\n      <td>984467.0</td>\n      <td>167519.0</td>\n      <td>Unspecified</td>\n      <td>BROOKLYN</td>\n      <td>Unspecified</td>\n      <td>Unspecified</td>\n      <td>Unspecified</td>\n      <td>Unspecified</td>\n      <td>Unspecified</td>\n      <td>Unspecified</td>\n      <td>Unspecified</td>\n      <td>Unspecified</td>\n      <td>Unspecified</td>\n      <td>N</td>\n      <td>NaN</td>\n      <td>NaN</td>\n      <td>NaN</td>\n      <td>NaN</td>\n      <td>NaN</td>\n      <td>NaN</td>\n      <td>NaN</td>\n      <td>NaN</td>\n      <td>NaN</td>\n      <td>NaN</td>\n      <td>NaN</td>\n      <td>40.626477</td>\n      <td>-73.999218</td>\n      <td>(40.6264774690411, -73.99921826202639)</td>\n    </tr>\n    <tr>\n      <th>26591458</th>\n      <td>10/31/2013 01:14:02 AM</td>\n      <td>10/31/2013 01:30:34 AM</td>\n      <td>NYPD</td>\n      <td>New York City Police Department</td>\n      <td>Noise - House of Worship</td>\n      <td>Loud Music/Party</td>\n      <td>House of Worship</td>\n      <td>10025.0</td>\n      <td>NaN</td>\n      <td>NaN</td>\n      <td>NaN</td>\n      <td>NaN</td>\n      <td>WEST   99 STREET</td>\n      <td>BROADWAY</td>\n      <td>INTERSECTION</td>\n      <td>NEW YORK</td>\n      <td>NaN</td>\n      <td>Precinct</td>\n      <td>Closed</td>\n      <td>10/31/2013 09:14:02 AM</td>\n      <td>10/31/2013 01:30:34 AM</td>\n      <td>07 MANHATTAN</td>\n      <td>MANHATTAN</td>\n      <td>992454.0</td>\n      <td>229500.0</td>\n      <td>Unspecified</td>\n      <td>MANHATTAN</td>\n      <td>Unspecified</td>\n      <td>Unspecified</td>\n      <td>Unspecified</td>\n      <td>Unspecified</td>\n      <td>Unspecified</td>\n      <td>Unspecified</td>\n      <td>Unspecified</td>\n      <td>Unspecified</td>\n      <td>Unspecified</td>\n      <td>N</td>\n      <td>NaN</td>\n      <td>NaN</td>\n      <td>NaN</td>\n      <td>NaN</td>\n      <td>NaN</td>\n      <td>NaN</td>\n      <td>NaN</td>\n      <td>NaN</td>\n      <td>NaN</td>\n      <td>NaN</td>\n      <td>NaN</td>\n      <td>40.796597</td>\n      <td>-73.970370</td>\n      <td>(40.7965967075252, -73.97036973473399)</td>\n    </tr>\n    <tr>\n      <th>26594086</th>\n      <td>10/31/2013 12:54:03 AM</td>\n      <td>10/31/2013 02:16:39 AM</td>\n      <td>NYPD</td>\n      <td>New York City Police Department</td>\n      <td>Noise - Street/Sidewalk</td>\n      <td>Loud Music/Party</td>\n      <td>Street/Sidewalk</td>\n      <td>10310.0</td>\n      <td>173 CAMPBELL AVENUE</td>\n      <td>CAMPBELL AVENUE</td>\n      <td>HENDERSON AVENUE</td>\n      <td>WINEGAR LANE</td>\n      <td>NaN</td>\n      <td>NaN</td>\n      <td>ADDRESS</td>\n      <td>STATEN ISLAND</td>\n      <td>NaN</td>\n      <td>Precinct</td>\n      <td>Closed</td>\n      <td>10/31/2013 08:54:03 AM</td>\n      <td>10/31/2013 02:07:14 AM</td>\n      <td>01 STATEN ISLAND</td>\n      <td>STATEN ISLAND</td>\n      <td>952013.0</td>\n      <td>171076.0</td>\n      <td>Unspecified</td>\n      <td>STATEN ISLAND</td>\n      <td>Unspecified</td>\n      <td>Unspecified</td>\n      <td>Unspecified</td>\n      <td>Unspecified</td>\n      <td>Unspecified</td>\n      <td>Unspecified</td>\n      <td>Unspecified</td>\n      <td>Unspecified</td>\n      <td>Unspecified</td>\n      <td>N</td>\n      <td>NaN</td>\n      <td>NaN</td>\n      <td>NaN</td>\n      <td>NaN</td>\n      <td>NaN</td>\n      <td>NaN</td>\n      <td>NaN</td>\n      <td>NaN</td>\n      <td>NaN</td>\n      <td>NaN</td>\n      <td>NaN</td>\n      <td>40.636182</td>\n      <td>-74.116150</td>\n      <td>(40.63618202176914, -74.1161500428337)</td>\n    </tr>\n    <tr>\n      <th>26595117</th>\n      <td>10/31/2013 12:52:46 AM</td>\n      <td>NaN</td>\n      <td>NYPD</td>\n      <td>New York City Police Department</td>\n      <td>Illegal Parking</td>\n      <td>Posted Parking Sign Violation</td>\n      <td>Street/Sidewalk</td>\n      <td>11236.0</td>\n      <td>NaN</td>\n      <td>NaN</td>\n      <td>NaN</td>\n      <td>NaN</td>\n      <td>ROCKAWAY PARKWAY</td>\n      <td>SKIDMORE AVENUE</td>\n      <td>INTERSECTION</td>\n      <td>BROOKLYN</td>\n      <td>NaN</td>\n      <td>Precinct</td>\n      <td>Open</td>\n      <td>10/31/2013 08:52:46 AM</td>\n      <td>NaN</td>\n      <td>18 BROOKLYN</td>\n      <td>BROOKLYN</td>\n      <td>1015289.0</td>\n      <td>169710.0</td>\n      <td>Unspecified</td>\n      <td>BROOKLYN</td>\n      <td>Unspecified</td>\n      <td>Unspecified</td>\n      <td>Unspecified</td>\n      <td>Unspecified</td>\n      <td>Unspecified</td>\n      <td>Unspecified</td>\n      <td>Unspecified</td>\n      <td>Unspecified</td>\n      <td>Unspecified</td>\n      <td>N</td>\n      <td>NaN</td>\n      <td>NaN</td>\n      <td>NaN</td>\n      <td>NaN</td>\n      <td>NaN</td>\n      <td>NaN</td>\n      <td>NaN</td>\n      <td>NaN</td>\n      <td>NaN</td>\n      <td>NaN</td>\n      <td>NaN</td>\n      <td>40.632437</td>\n      <td>-73.888173</td>\n      <td>(40.63243692394328, -73.88817263437012)</td>\n    </tr>\n    <tr>\n      <th>26590389</th>\n      <td>10/31/2013 12:51:00 AM</td>\n      <td>NaN</td>\n      <td>DOT</td>\n      <td>Department of Transportation</td>\n      <td>Street Light Condition</td>\n      <td>Street Light Out</td>\n      <td>NaN</td>\n      <td>NaN</td>\n      <td>226 42 ST E</td>\n      <td>42 ST E</td>\n      <td>CHURCH AVE</td>\n      <td>SNYDER AVE</td>\n      <td>NaN</td>\n      <td>NaN</td>\n      <td>ADDRESS</td>\n      <td>NaN</td>\n      <td>NaN</td>\n      <td>NaN</td>\n      <td>Open</td>\n      <td>NaN</td>\n      <td>NaN</td>\n      <td>Unspecified BROOKLYN</td>\n      <td>BROOKLYN</td>\n      <td>NaN</td>\n      <td>NaN</td>\n      <td>Unspecified</td>\n      <td>BROOKLYN</td>\n      <td>Unspecified</td>\n      <td>Unspecified</td>\n      <td>Unspecified</td>\n      <td>Unspecified</td>\n      <td>Unspecified</td>\n      <td>Unspecified</td>\n      <td>Unspecified</td>\n      <td>Unspecified</td>\n      <td>Unspecified</td>\n      <td>NaN</td>\n      <td>NaN</td>\n      <td>NaN</td>\n      <td>NaN</td>\n      <td>NaN</td>\n      <td>NaN</td>\n      <td>NaN</td>\n      <td>NaN</td>\n      <td>NaN</td>\n      <td>NaN</td>\n      <td>NaN</td>\n      <td>NaN</td>\n      <td>NaN</td>\n      <td>NaN</td>\n      <td>NaN</td>\n    </tr>\n    <tr>\n      <th>26594210</th>\n      <td>10/31/2013 12:46:27 AM</td>\n      <td>NaN</td>\n      <td>NYPD</td>\n      <td>New York City Police Department</td>\n      <td>Noise - Commercial</td>\n      <td>Loud Music/Party</td>\n      <td>Club/Bar/Restaurant</td>\n      <td>10033.0</td>\n      <td>NaN</td>\n      <td>NaN</td>\n      <td>NaN</td>\n      <td>NaN</td>\n      <td>WEST  184 STREET</td>\n      <td>BROADWAY</td>\n      <td>INTERSECTION</td>\n      <td>NEW YORK</td>\n      <td>NaN</td>\n      <td>Precinct</td>\n      <td>Assigned</td>\n      <td>10/31/2013 08:46:27 AM</td>\n      <td>10/31/2013 01:32:41 AM</td>\n      <td>12 MANHATTAN</td>\n      <td>MANHATTAN</td>\n      <td>1002294.0</td>\n      <td>249712.0</td>\n      <td>Unspecified</td>\n      <td>MANHATTAN</td>\n      <td>Unspecified</td>\n      <td>Unspecified</td>\n      <td>Unspecified</td>\n      <td>Unspecified</td>\n      <td>Unspecified</td>\n      <td>Unspecified</td>\n      <td>Unspecified</td>\n      <td>Unspecified</td>\n      <td>Unspecified</td>\n      <td>N</td>\n      <td>NaN</td>\n      <td>NaN</td>\n      <td>NaN</td>\n      <td>NaN</td>\n      <td>NaN</td>\n      <td>NaN</td>\n      <td>NaN</td>\n      <td>NaN</td>\n      <td>NaN</td>\n      <td>NaN</td>\n      <td>NaN</td>\n      <td>40.852058</td>\n      <td>-73.934776</td>\n      <td>(40.85205827756883, -73.93477640780834)</td>\n    </tr>\n  </tbody>\n</table>\n</div>"
     },
     "execution_count": 8,
     "metadata": {},
     "output_type": "execute_result"
    }
   ],
   "source": [
    "complaints.head(20)"
   ]
  },
  {
   "cell_type": "markdown",
   "metadata": {
    "cell_style": "center",
    "hide_input": true,
    "pycharm": {
     "name": "#%% md\n"
    }
   },
   "source": [
    "- Select the second hundred of rows."
   ]
  },
  {
   "cell_type": "code",
   "execution_count": 9,
   "metadata": {
    "ExecuteTime": {
     "end_time": "2021-09-24T14:46:58.807854Z",
     "start_time": "2021-09-24T14:46:58.737324Z"
    },
    "pycharm": {
     "name": "#%%\n"
    }
   },
   "outputs": [
    {
     "data": {
      "text/plain": "                      Created Date             Closed Date Agency  \\\nUnique Key                                                          \n26594657    10/30/2013 11:31:51 PM                     NaN   NYPD   \n26592215    10/30/2013 11:31:38 PM                     NaN   NYPD   \n26595950    10/30/2013 11:31:30 PM                     NaN   NYPD   \n26591346    10/30/2013 11:30:54 PM                     NaN   NYPD   \n26593903    10/30/2013 11:30:37 PM                     NaN  DOHMH   \n...                            ...                     ...    ...   \n26591076    10/30/2013 10:31:11 PM  10/31/2013 12:40:39 AM   NYPD   \n26589530    10/30/2013 10:31:00 PM                     NaN    DEP   \n26590411    10/30/2013 10:29:00 PM  10/30/2013 10:45:00 PM    DEP   \n26592700    10/30/2013 10:28:19 PM  10/30/2013 11:41:28 PM   NYPD   \n26593214    10/30/2013 10:27:00 PM                     NaN    DEP   \n\n                                        Agency Name           Complaint Type  \\\nUnique Key                                                                     \n26594657            New York City Police Department         Blocked Driveway   \n26592215            New York City Police Department              Panhandling   \n26595950            New York City Police Department         Derelict Vehicle   \n26591346            New York City Police Department       Noise - Commercial   \n26593903    Department of Health and Mental Hygiene                   Rodent   \n...                                             ...                      ...   \n26591076            New York City Police Department  Noise - Street/Sidewalk   \n26589530     Department of Environmental Protection                    Noise   \n26590411     Department of Environmental Protection             Water System   \n26592700            New York City Police Department         Blocked Driveway   \n26593214     Department of Environmental Protection                    Noise   \n\n                                                Descriptor  \\\nUnique Key                                                   \n26594657                                         No Access   \n26592215                                               NaN   \n26595950                                With License Plate   \n26591346                                  Loud Music/Party   \n26593903                                    Mouse Sighting   \n...                                                    ...   \n26591076                                      Loud Talking   \n26589530                               Noise: Alarms (NR3)   \n26590411    Possible Water Main Break (Use Comments) (WA1)   \n26592700                                         No Access   \n26593214              Noise: Boat(Engine,Music,Etc) (NR10)   \n\n                      Location Type Incident Zip        Incident Address  \\\nUnique Key                                                                 \n26594657            Street/Sidewalk      11229.0     2002 EAST 13 STREET   \n26592215            Street/Sidewalk      11418.0   135-16 JAMAICA AVENUE   \n26595950            Street/Sidewalk      11215.0    804 PRESIDENT STREET   \n26591346        Club/Bar/Restaurant      10027.0           3155 BROADWAY   \n26593903    3+ Family Apt. Building      10065.0      210 EAST 67 STREET   \n...                             ...          ...                     ...   \n26591076            Street/Sidewalk      10452.0    1565 TOWNSEND AVENUE   \n26589530                        NaN      10001.0       50 WEST 34 STREET   \n26590411                        NaN      11373.0  79-09 QUEENS BOULEVARD   \n26592700            Street/Sidewalk      10458.0     2313 BELMONT AVENUE   \n26593214                        NaN      10280.0    395 SOUTH END AVENUE   \n\n                 Street Name       Cross Street 1          Cross Street 2  \\\nUnique Key                                                                  \n26594657      EAST 13 STREET             AVENUE T                AVENUE U   \n26592215      JAMAICA AVENUE  METROPOLITAN AVENUE     VAN WYCK EXPRESSWAY   \n26595950    PRESIDENT STREET             6 AVENUE                7 AVENUE   \n26591346            BROADWAY      LA SALLE STREET           TIEMANN PLACE   \n26593903      EAST 67 STREET             3 AVENUE                2 AVENUE   \n...                      ...                  ...                     ...   \n26591076     TOWNSEND AVENUE      EAST 172 STREET     EAST MT EDEN AVENUE   \n26589530      WEST 34 STREET             5 AVENUE  AVENUE OF THE AMERICAS   \n26590411    QUEENS BOULEVARD      BARNWELL AVENUE          CORNISH AVENUE   \n26592700      BELMONT AVENUE      EAST 183 STREET         CRESCENT AVENUE   \n26593214    SOUTH END AVENUE        ALBANY STREET          LIBERTY STREET   \n\n           Intersection Street 1 Intersection Street 2 Address Type  \\\nUnique Key                                                            \n26594657                     NaN                   NaN      ADDRESS   \n26592215                     NaN                   NaN      ADDRESS   \n26595950                     NaN                   NaN      ADDRESS   \n26591346                     NaN                   NaN      ADDRESS   \n26593903                     NaN                   NaN      ADDRESS   \n...                          ...                   ...          ...   \n26591076                     NaN                   NaN      ADDRESS   \n26589530                     NaN                   NaN      ADDRESS   \n26590411                     NaN                   NaN      ADDRESS   \n26592700                     NaN                   NaN      ADDRESS   \n26593214                     NaN                   NaN      ADDRESS   \n\n                     City Landmark Facility Type    Status  \\\nUnique Key                                                   \n26594657         BROOKLYN      NaN      Precinct      Open   \n26592215    RICHMOND HILL      NaN      Precinct      Open   \n26595950         BROOKLYN      NaN      Precinct  Assigned   \n26591346         NEW YORK      NaN      Precinct  Assigned   \n26593903         NEW YORK      NaN           NaN   Pending   \n...                   ...      ...           ...       ...   \n26591076            BRONX      NaN      Precinct    Closed   \n26589530         NEW YORK      NaN           NaN      Open   \n26590411         Elmhurst      NaN           NaN    Closed   \n26592700            BRONX      NaN      Precinct    Closed   \n26593214         NEW YORK      NaN           NaN      Open   \n\n                          Due Date Resolution Action Updated Date  \\\nUnique Key                                                          \n26594657    10/31/2013 07:31:51 AM                            NaN   \n26592215    10/31/2013 07:31:38 AM                            NaN   \n26595950    10/31/2013 07:31:30 AM         10/30/2013 11:42:31 PM   \n26591346    10/31/2013 07:30:54 AM         10/30/2013 11:36:10 PM   \n26593903    11/29/2013 11:30:37 PM         10/30/2013 11:32:56 PM   \n...                            ...                            ...   \n26591076    10/31/2013 06:31:11 AM         10/31/2013 12:40:39 AM   \n26589530                       NaN                            NaN   \n26590411                       NaN         10/30/2013 10:45:00 PM   \n26592700    10/31/2013 06:28:19 AM         10/30/2013 11:41:28 PM   \n26593214                       NaN                            NaN   \n\n           Community Board    Borough  X Coordinate (State Plane)  \\\nUnique Key                                                          \n26594657       15 BROOKLYN   BROOKLYN                    995740.0   \n26592215         09 QUEENS     QUEENS                   1034900.0   \n26595950       06 BROOKLYN   BROOKLYN                    990758.0   \n26591346      09 MANHATTAN  MANHATTAN                    995559.0   \n26593903      08 MANHATTAN  MANHATTAN                    994655.0   \n...                    ...        ...                         ...   \n26591076          04 BRONX      BRONX                   1007972.0   \n26589530      05 MANHATTAN  MANHATTAN                    988082.0   \n26590411         04 QUEENS     QUEENS                   1016222.0   \n26592700          06 BRONX      BRONX                   1015519.0   \n26593214      01 MANHATTAN  MANHATTAN                    979858.0   \n\n            Y Coordinate (State Plane) Park Facility Name Park Borough  \\\nUnique Key                                                               \n26594657                      158062.0        Unspecified     BROOKLYN   \n26592215                      195238.0        Unspecified       QUEENS   \n26595950                      184860.0        Unspecified     BROOKLYN   \n26591346                      236037.0        Unspecified    MANHATTAN   \n26593903                      218478.0        Unspecified    MANHATTAN   \n...                                ...                ...          ...   \n26591076                      246572.0        Unspecified        BRONX   \n26589530                      212196.0        Unspecified    MANHATTAN   \n26590411                      208226.0        Unspecified       QUEENS   \n26592700                      250080.0        Unspecified        BRONX   \n26593214                      198479.0        Unspecified    MANHATTAN   \n\n            School Name School Number School Region  School Code  \\\nUnique Key                                                         \n26594657    Unspecified   Unspecified   Unspecified  Unspecified   \n26592215    Unspecified   Unspecified   Unspecified  Unspecified   \n26595950    Unspecified   Unspecified   Unspecified  Unspecified   \n26591346    Unspecified   Unspecified   Unspecified  Unspecified   \n26593903    Unspecified   Unspecified   Unspecified  Unspecified   \n...                 ...           ...           ...          ...   \n26591076    Unspecified   Unspecified   Unspecified  Unspecified   \n26589530    Unspecified   Unspecified   Unspecified  Unspecified   \n26590411    Unspecified   Unspecified   Unspecified  Unspecified   \n26592700    Unspecified   Unspecified   Unspecified  Unspecified   \n26593214    Unspecified   Unspecified   Unspecified  Unspecified   \n\n           School Phone Number School Address  School City School State  \\\nUnique Key                                                                \n26594657           Unspecified    Unspecified  Unspecified  Unspecified   \n26592215           Unspecified    Unspecified  Unspecified  Unspecified   \n26595950           Unspecified    Unspecified  Unspecified  Unspecified   \n26591346           Unspecified    Unspecified  Unspecified  Unspecified   \n26593903           Unspecified    Unspecified  Unspecified  Unspecified   \n...                        ...            ...          ...          ...   \n26591076           Unspecified    Unspecified  Unspecified  Unspecified   \n26589530           Unspecified    Unspecified  Unspecified  Unspecified   \n26590411           Unspecified    Unspecified  Unspecified  Unspecified   \n26592700           Unspecified    Unspecified  Unspecified  Unspecified   \n26593214           Unspecified    Unspecified  Unspecified  Unspecified   \n\n             School Zip School Not Found  School or Citywide Complaint  \\\nUnique Key                                                               \n26594657    Unspecified                N                           NaN   \n26592215    Unspecified                N                           NaN   \n26595950    Unspecified                N                           NaN   \n26591346    Unspecified                N                           NaN   \n26593903    Unspecified                N                           NaN   \n...                 ...              ...                           ...   \n26591076    Unspecified                N                           NaN   \n26589530    Unspecified              NaN                           NaN   \n26590411    Unspecified              NaN                           NaN   \n26592700    Unspecified                N                           NaN   \n26593214    Unspecified              NaN                           NaN   \n\n           Vehicle Type Taxi Company Borough Taxi Pick Up Location  \\\nUnique Key                                                           \n26594657            NaN                  NaN                   NaN   \n26592215            NaN                  NaN                   NaN   \n26595950            NaN                  NaN                   NaN   \n26591346            NaN                  NaN                   NaN   \n26593903            NaN                  NaN                   NaN   \n...                 ...                  ...                   ...   \n26591076            NaN                  NaN                   NaN   \n26589530            NaN                  NaN                   NaN   \n26590411            NaN                  NaN                   NaN   \n26592700            NaN                  NaN                   NaN   \n26593214            NaN                  NaN                   NaN   \n\n           Bridge Highway Name Bridge Highway Direction Road Ramp  \\\nUnique Key                                                          \n26594657                   NaN                      NaN       NaN   \n26592215                   NaN                      NaN       NaN   \n26595950                   NaN                      NaN       NaN   \n26591346                   NaN                      NaN       NaN   \n26593903                   NaN                      NaN       NaN   \n...                        ...                      ...       ...   \n26591076                   NaN                      NaN       NaN   \n26589530                   NaN                      NaN       NaN   \n26590411                   NaN                      NaN       NaN   \n26592700                   NaN                      NaN       NaN   \n26593214                   NaN                      NaN       NaN   \n\n           Bridge Highway Segment Garage Lot Name Ferry Direction  \\\nUnique Key                                                          \n26594657                      NaN             NaN             NaN   \n26592215                      NaN             NaN             NaN   \n26595950                      NaN             NaN             NaN   \n26591346                      NaN             NaN             NaN   \n26593903                      NaN             NaN             NaN   \n...                           ...             ...             ...   \n26591076                      NaN             NaN             NaN   \n26589530                      NaN             NaN             NaN   \n26590411                      NaN             NaN             NaN   \n26592700                      NaN             NaN             NaN   \n26593214                      NaN             NaN             NaN   \n\n           Ferry Terminal Name   Latitude  Longitude  \\\nUnique Key                                             \n26594657                   NaN  40.600513 -73.958624   \n26592215                   NaN  40.702415 -73.817326   \n26595950                   NaN  40.674072 -73.976538   \n26591346                   NaN  40.814536 -73.959144   \n26593903                   NaN  40.766342 -73.962437   \n...                        ...        ...        ...   \n26591076                   NaN  40.843426 -73.914263   \n26589530                   NaN  40.749105 -73.986170   \n26590411                   NaN  40.738151 -73.884628   \n26592700                   NaN  40.853031 -73.886970   \n26593214                   NaN  40.711455 -74.015842   \n\n                                           Location  \nUnique Key                                           \n26594657    (40.60051250977975, -73.95862361000808)  \n26592215    (40.70241501845674, -73.81732645592662)  \n26595950    (40.67407235682811, -73.97653833445541)  \n26591346    (40.81453554135292, -73.95914444206745)  \n26593903    (40.76634192531301, -73.96243748655138)  \n...                                             ...  \n26591076    (40.84342647770325, -73.91426327900784)  \n26589530    (40.74910473261953, -73.98616988910366)  \n26590411    (40.73815111497396, -73.88462846053623)  \n26592700    (40.85303139531426, -73.88697036576089)  \n26593214    (40.71145466527376, -74.01584225929635)  \n\n[100 rows x 51 columns]",
      "text/html": "<div>\n<style scoped>\n    .dataframe tbody tr th:only-of-type {\n        vertical-align: middle;\n    }\n\n    .dataframe tbody tr th {\n        vertical-align: top;\n    }\n\n    .dataframe thead th {\n        text-align: right;\n    }\n</style>\n<table border=\"1\" class=\"dataframe\">\n  <thead>\n    <tr style=\"text-align: right;\">\n      <th></th>\n      <th>Created Date</th>\n      <th>Closed Date</th>\n      <th>Agency</th>\n      <th>Agency Name</th>\n      <th>Complaint Type</th>\n      <th>Descriptor</th>\n      <th>Location Type</th>\n      <th>Incident Zip</th>\n      <th>Incident Address</th>\n      <th>Street Name</th>\n      <th>Cross Street 1</th>\n      <th>Cross Street 2</th>\n      <th>Intersection Street 1</th>\n      <th>Intersection Street 2</th>\n      <th>Address Type</th>\n      <th>City</th>\n      <th>Landmark</th>\n      <th>Facility Type</th>\n      <th>Status</th>\n      <th>Due Date</th>\n      <th>Resolution Action Updated Date</th>\n      <th>Community Board</th>\n      <th>Borough</th>\n      <th>X Coordinate (State Plane)</th>\n      <th>Y Coordinate (State Plane)</th>\n      <th>Park Facility Name</th>\n      <th>Park Borough</th>\n      <th>School Name</th>\n      <th>School Number</th>\n      <th>School Region</th>\n      <th>School Code</th>\n      <th>School Phone Number</th>\n      <th>School Address</th>\n      <th>School City</th>\n      <th>School State</th>\n      <th>School Zip</th>\n      <th>School Not Found</th>\n      <th>School or Citywide Complaint</th>\n      <th>Vehicle Type</th>\n      <th>Taxi Company Borough</th>\n      <th>Taxi Pick Up Location</th>\n      <th>Bridge Highway Name</th>\n      <th>Bridge Highway Direction</th>\n      <th>Road Ramp</th>\n      <th>Bridge Highway Segment</th>\n      <th>Garage Lot Name</th>\n      <th>Ferry Direction</th>\n      <th>Ferry Terminal Name</th>\n      <th>Latitude</th>\n      <th>Longitude</th>\n      <th>Location</th>\n    </tr>\n    <tr>\n      <th>Unique Key</th>\n      <th></th>\n      <th></th>\n      <th></th>\n      <th></th>\n      <th></th>\n      <th></th>\n      <th></th>\n      <th></th>\n      <th></th>\n      <th></th>\n      <th></th>\n      <th></th>\n      <th></th>\n      <th></th>\n      <th></th>\n      <th></th>\n      <th></th>\n      <th></th>\n      <th></th>\n      <th></th>\n      <th></th>\n      <th></th>\n      <th></th>\n      <th></th>\n      <th></th>\n      <th></th>\n      <th></th>\n      <th></th>\n      <th></th>\n      <th></th>\n      <th></th>\n      <th></th>\n      <th></th>\n      <th></th>\n      <th></th>\n      <th></th>\n      <th></th>\n      <th></th>\n      <th></th>\n      <th></th>\n      <th></th>\n      <th></th>\n      <th></th>\n      <th></th>\n      <th></th>\n      <th></th>\n      <th></th>\n      <th></th>\n      <th></th>\n      <th></th>\n      <th></th>\n    </tr>\n  </thead>\n  <tbody>\n    <tr>\n      <th>26594657</th>\n      <td>10/30/2013 11:31:51 PM</td>\n      <td>NaN</td>\n      <td>NYPD</td>\n      <td>New York City Police Department</td>\n      <td>Blocked Driveway</td>\n      <td>No Access</td>\n      <td>Street/Sidewalk</td>\n      <td>11229.0</td>\n      <td>2002 EAST 13 STREET</td>\n      <td>EAST 13 STREET</td>\n      <td>AVENUE T</td>\n      <td>AVENUE U</td>\n      <td>NaN</td>\n      <td>NaN</td>\n      <td>ADDRESS</td>\n      <td>BROOKLYN</td>\n      <td>NaN</td>\n      <td>Precinct</td>\n      <td>Open</td>\n      <td>10/31/2013 07:31:51 AM</td>\n      <td>NaN</td>\n      <td>15 BROOKLYN</td>\n      <td>BROOKLYN</td>\n      <td>995740.0</td>\n      <td>158062.0</td>\n      <td>Unspecified</td>\n      <td>BROOKLYN</td>\n      <td>Unspecified</td>\n      <td>Unspecified</td>\n      <td>Unspecified</td>\n      <td>Unspecified</td>\n      <td>Unspecified</td>\n      <td>Unspecified</td>\n      <td>Unspecified</td>\n      <td>Unspecified</td>\n      <td>Unspecified</td>\n      <td>N</td>\n      <td>NaN</td>\n      <td>NaN</td>\n      <td>NaN</td>\n      <td>NaN</td>\n      <td>NaN</td>\n      <td>NaN</td>\n      <td>NaN</td>\n      <td>NaN</td>\n      <td>NaN</td>\n      <td>NaN</td>\n      <td>NaN</td>\n      <td>40.600513</td>\n      <td>-73.958624</td>\n      <td>(40.60051250977975, -73.95862361000808)</td>\n    </tr>\n    <tr>\n      <th>26592215</th>\n      <td>10/30/2013 11:31:38 PM</td>\n      <td>NaN</td>\n      <td>NYPD</td>\n      <td>New York City Police Department</td>\n      <td>Panhandling</td>\n      <td>NaN</td>\n      <td>Street/Sidewalk</td>\n      <td>11418.0</td>\n      <td>135-16 JAMAICA AVENUE</td>\n      <td>JAMAICA AVENUE</td>\n      <td>METROPOLITAN AVENUE</td>\n      <td>VAN WYCK EXPRESSWAY</td>\n      <td>NaN</td>\n      <td>NaN</td>\n      <td>ADDRESS</td>\n      <td>RICHMOND HILL</td>\n      <td>NaN</td>\n      <td>Precinct</td>\n      <td>Open</td>\n      <td>10/31/2013 07:31:38 AM</td>\n      <td>NaN</td>\n      <td>09 QUEENS</td>\n      <td>QUEENS</td>\n      <td>1034900.0</td>\n      <td>195238.0</td>\n      <td>Unspecified</td>\n      <td>QUEENS</td>\n      <td>Unspecified</td>\n      <td>Unspecified</td>\n      <td>Unspecified</td>\n      <td>Unspecified</td>\n      <td>Unspecified</td>\n      <td>Unspecified</td>\n      <td>Unspecified</td>\n      <td>Unspecified</td>\n      <td>Unspecified</td>\n      <td>N</td>\n      <td>NaN</td>\n      <td>NaN</td>\n      <td>NaN</td>\n      <td>NaN</td>\n      <td>NaN</td>\n      <td>NaN</td>\n      <td>NaN</td>\n      <td>NaN</td>\n      <td>NaN</td>\n      <td>NaN</td>\n      <td>NaN</td>\n      <td>40.702415</td>\n      <td>-73.817326</td>\n      <td>(40.70241501845674, -73.81732645592662)</td>\n    </tr>\n    <tr>\n      <th>26595950</th>\n      <td>10/30/2013 11:31:30 PM</td>\n      <td>NaN</td>\n      <td>NYPD</td>\n      <td>New York City Police Department</td>\n      <td>Derelict Vehicle</td>\n      <td>With License Plate</td>\n      <td>Street/Sidewalk</td>\n      <td>11215.0</td>\n      <td>804 PRESIDENT STREET</td>\n      <td>PRESIDENT STREET</td>\n      <td>6 AVENUE</td>\n      <td>7 AVENUE</td>\n      <td>NaN</td>\n      <td>NaN</td>\n      <td>ADDRESS</td>\n      <td>BROOKLYN</td>\n      <td>NaN</td>\n      <td>Precinct</td>\n      <td>Assigned</td>\n      <td>10/31/2013 07:31:30 AM</td>\n      <td>10/30/2013 11:42:31 PM</td>\n      <td>06 BROOKLYN</td>\n      <td>BROOKLYN</td>\n      <td>990758.0</td>\n      <td>184860.0</td>\n      <td>Unspecified</td>\n      <td>BROOKLYN</td>\n      <td>Unspecified</td>\n      <td>Unspecified</td>\n      <td>Unspecified</td>\n      <td>Unspecified</td>\n      <td>Unspecified</td>\n      <td>Unspecified</td>\n      <td>Unspecified</td>\n      <td>Unspecified</td>\n      <td>Unspecified</td>\n      <td>N</td>\n      <td>NaN</td>\n      <td>NaN</td>\n      <td>NaN</td>\n      <td>NaN</td>\n      <td>NaN</td>\n      <td>NaN</td>\n      <td>NaN</td>\n      <td>NaN</td>\n      <td>NaN</td>\n      <td>NaN</td>\n      <td>NaN</td>\n      <td>40.674072</td>\n      <td>-73.976538</td>\n      <td>(40.67407235682811, -73.97653833445541)</td>\n    </tr>\n    <tr>\n      <th>26591346</th>\n      <td>10/30/2013 11:30:54 PM</td>\n      <td>NaN</td>\n      <td>NYPD</td>\n      <td>New York City Police Department</td>\n      <td>Noise - Commercial</td>\n      <td>Loud Music/Party</td>\n      <td>Club/Bar/Restaurant</td>\n      <td>10027.0</td>\n      <td>3155 BROADWAY</td>\n      <td>BROADWAY</td>\n      <td>LA SALLE STREET</td>\n      <td>TIEMANN PLACE</td>\n      <td>NaN</td>\n      <td>NaN</td>\n      <td>ADDRESS</td>\n      <td>NEW YORK</td>\n      <td>NaN</td>\n      <td>Precinct</td>\n      <td>Assigned</td>\n      <td>10/31/2013 07:30:54 AM</td>\n      <td>10/30/2013 11:36:10 PM</td>\n      <td>09 MANHATTAN</td>\n      <td>MANHATTAN</td>\n      <td>995559.0</td>\n      <td>236037.0</td>\n      <td>Unspecified</td>\n      <td>MANHATTAN</td>\n      <td>Unspecified</td>\n      <td>Unspecified</td>\n      <td>Unspecified</td>\n      <td>Unspecified</td>\n      <td>Unspecified</td>\n      <td>Unspecified</td>\n      <td>Unspecified</td>\n      <td>Unspecified</td>\n      <td>Unspecified</td>\n      <td>N</td>\n      <td>NaN</td>\n      <td>NaN</td>\n      <td>NaN</td>\n      <td>NaN</td>\n      <td>NaN</td>\n      <td>NaN</td>\n      <td>NaN</td>\n      <td>NaN</td>\n      <td>NaN</td>\n      <td>NaN</td>\n      <td>NaN</td>\n      <td>40.814536</td>\n      <td>-73.959144</td>\n      <td>(40.81453554135292, -73.95914444206745)</td>\n    </tr>\n    <tr>\n      <th>26593903</th>\n      <td>10/30/2013 11:30:37 PM</td>\n      <td>NaN</td>\n      <td>DOHMH</td>\n      <td>Department of Health and Mental Hygiene</td>\n      <td>Rodent</td>\n      <td>Mouse Sighting</td>\n      <td>3+ Family Apt. Building</td>\n      <td>10065.0</td>\n      <td>210 EAST 67 STREET</td>\n      <td>EAST 67 STREET</td>\n      <td>3 AVENUE</td>\n      <td>2 AVENUE</td>\n      <td>NaN</td>\n      <td>NaN</td>\n      <td>ADDRESS</td>\n      <td>NEW YORK</td>\n      <td>NaN</td>\n      <td>NaN</td>\n      <td>Pending</td>\n      <td>11/29/2013 11:30:37 PM</td>\n      <td>10/30/2013 11:32:56 PM</td>\n      <td>08 MANHATTAN</td>\n      <td>MANHATTAN</td>\n      <td>994655.0</td>\n      <td>218478.0</td>\n      <td>Unspecified</td>\n      <td>MANHATTAN</td>\n      <td>Unspecified</td>\n      <td>Unspecified</td>\n      <td>Unspecified</td>\n      <td>Unspecified</td>\n      <td>Unspecified</td>\n      <td>Unspecified</td>\n      <td>Unspecified</td>\n      <td>Unspecified</td>\n      <td>Unspecified</td>\n      <td>N</td>\n      <td>NaN</td>\n      <td>NaN</td>\n      <td>NaN</td>\n      <td>NaN</td>\n      <td>NaN</td>\n      <td>NaN</td>\n      <td>NaN</td>\n      <td>NaN</td>\n      <td>NaN</td>\n      <td>NaN</td>\n      <td>NaN</td>\n      <td>40.766342</td>\n      <td>-73.962437</td>\n      <td>(40.76634192531301, -73.96243748655138)</td>\n    </tr>\n    <tr>\n      <th>...</th>\n      <td>...</td>\n      <td>...</td>\n      <td>...</td>\n      <td>...</td>\n      <td>...</td>\n      <td>...</td>\n      <td>...</td>\n      <td>...</td>\n      <td>...</td>\n      <td>...</td>\n      <td>...</td>\n      <td>...</td>\n      <td>...</td>\n      <td>...</td>\n      <td>...</td>\n      <td>...</td>\n      <td>...</td>\n      <td>...</td>\n      <td>...</td>\n      <td>...</td>\n      <td>...</td>\n      <td>...</td>\n      <td>...</td>\n      <td>...</td>\n      <td>...</td>\n      <td>...</td>\n      <td>...</td>\n      <td>...</td>\n      <td>...</td>\n      <td>...</td>\n      <td>...</td>\n      <td>...</td>\n      <td>...</td>\n      <td>...</td>\n      <td>...</td>\n      <td>...</td>\n      <td>...</td>\n      <td>...</td>\n      <td>...</td>\n      <td>...</td>\n      <td>...</td>\n      <td>...</td>\n      <td>...</td>\n      <td>...</td>\n      <td>...</td>\n      <td>...</td>\n      <td>...</td>\n      <td>...</td>\n      <td>...</td>\n      <td>...</td>\n      <td>...</td>\n    </tr>\n    <tr>\n      <th>26591076</th>\n      <td>10/30/2013 10:31:11 PM</td>\n      <td>10/31/2013 12:40:39 AM</td>\n      <td>NYPD</td>\n      <td>New York City Police Department</td>\n      <td>Noise - Street/Sidewalk</td>\n      <td>Loud Talking</td>\n      <td>Street/Sidewalk</td>\n      <td>10452.0</td>\n      <td>1565 TOWNSEND AVENUE</td>\n      <td>TOWNSEND AVENUE</td>\n      <td>EAST 172 STREET</td>\n      <td>EAST MT EDEN AVENUE</td>\n      <td>NaN</td>\n      <td>NaN</td>\n      <td>ADDRESS</td>\n      <td>BRONX</td>\n      <td>NaN</td>\n      <td>Precinct</td>\n      <td>Closed</td>\n      <td>10/31/2013 06:31:11 AM</td>\n      <td>10/31/2013 12:40:39 AM</td>\n      <td>04 BRONX</td>\n      <td>BRONX</td>\n      <td>1007972.0</td>\n      <td>246572.0</td>\n      <td>Unspecified</td>\n      <td>BRONX</td>\n      <td>Unspecified</td>\n      <td>Unspecified</td>\n      <td>Unspecified</td>\n      <td>Unspecified</td>\n      <td>Unspecified</td>\n      <td>Unspecified</td>\n      <td>Unspecified</td>\n      <td>Unspecified</td>\n      <td>Unspecified</td>\n      <td>N</td>\n      <td>NaN</td>\n      <td>NaN</td>\n      <td>NaN</td>\n      <td>NaN</td>\n      <td>NaN</td>\n      <td>NaN</td>\n      <td>NaN</td>\n      <td>NaN</td>\n      <td>NaN</td>\n      <td>NaN</td>\n      <td>NaN</td>\n      <td>40.843426</td>\n      <td>-73.914263</td>\n      <td>(40.84342647770325, -73.91426327900784)</td>\n    </tr>\n    <tr>\n      <th>26589530</th>\n      <td>10/30/2013 10:31:00 PM</td>\n      <td>NaN</td>\n      <td>DEP</td>\n      <td>Department of Environmental Protection</td>\n      <td>Noise</td>\n      <td>Noise: Alarms (NR3)</td>\n      <td>NaN</td>\n      <td>10001.0</td>\n      <td>50 WEST 34 STREET</td>\n      <td>WEST 34 STREET</td>\n      <td>5 AVENUE</td>\n      <td>AVENUE OF THE AMERICAS</td>\n      <td>NaN</td>\n      <td>NaN</td>\n      <td>ADDRESS</td>\n      <td>NEW YORK</td>\n      <td>NaN</td>\n      <td>NaN</td>\n      <td>Open</td>\n      <td>NaN</td>\n      <td>NaN</td>\n      <td>05 MANHATTAN</td>\n      <td>MANHATTAN</td>\n      <td>988082.0</td>\n      <td>212196.0</td>\n      <td>Unspecified</td>\n      <td>MANHATTAN</td>\n      <td>Unspecified</td>\n      <td>Unspecified</td>\n      <td>Unspecified</td>\n      <td>Unspecified</td>\n      <td>Unspecified</td>\n      <td>Unspecified</td>\n      <td>Unspecified</td>\n      <td>Unspecified</td>\n      <td>Unspecified</td>\n      <td>NaN</td>\n      <td>NaN</td>\n      <td>NaN</td>\n      <td>NaN</td>\n      <td>NaN</td>\n      <td>NaN</td>\n      <td>NaN</td>\n      <td>NaN</td>\n      <td>NaN</td>\n      <td>NaN</td>\n      <td>NaN</td>\n      <td>NaN</td>\n      <td>40.749105</td>\n      <td>-73.986170</td>\n      <td>(40.74910473261953, -73.98616988910366)</td>\n    </tr>\n    <tr>\n      <th>26590411</th>\n      <td>10/30/2013 10:29:00 PM</td>\n      <td>10/30/2013 10:45:00 PM</td>\n      <td>DEP</td>\n      <td>Department of Environmental Protection</td>\n      <td>Water System</td>\n      <td>Possible Water Main Break (Use Comments) (WA1)</td>\n      <td>NaN</td>\n      <td>11373.0</td>\n      <td>79-09 QUEENS BOULEVARD</td>\n      <td>QUEENS BOULEVARD</td>\n      <td>BARNWELL AVENUE</td>\n      <td>CORNISH AVENUE</td>\n      <td>NaN</td>\n      <td>NaN</td>\n      <td>ADDRESS</td>\n      <td>Elmhurst</td>\n      <td>NaN</td>\n      <td>NaN</td>\n      <td>Closed</td>\n      <td>NaN</td>\n      <td>10/30/2013 10:45:00 PM</td>\n      <td>04 QUEENS</td>\n      <td>QUEENS</td>\n      <td>1016222.0</td>\n      <td>208226.0</td>\n      <td>Unspecified</td>\n      <td>QUEENS</td>\n      <td>Unspecified</td>\n      <td>Unspecified</td>\n      <td>Unspecified</td>\n      <td>Unspecified</td>\n      <td>Unspecified</td>\n      <td>Unspecified</td>\n      <td>Unspecified</td>\n      <td>Unspecified</td>\n      <td>Unspecified</td>\n      <td>NaN</td>\n      <td>NaN</td>\n      <td>NaN</td>\n      <td>NaN</td>\n      <td>NaN</td>\n      <td>NaN</td>\n      <td>NaN</td>\n      <td>NaN</td>\n      <td>NaN</td>\n      <td>NaN</td>\n      <td>NaN</td>\n      <td>NaN</td>\n      <td>40.738151</td>\n      <td>-73.884628</td>\n      <td>(40.73815111497396, -73.88462846053623)</td>\n    </tr>\n    <tr>\n      <th>26592700</th>\n      <td>10/30/2013 10:28:19 PM</td>\n      <td>10/30/2013 11:41:28 PM</td>\n      <td>NYPD</td>\n      <td>New York City Police Department</td>\n      <td>Blocked Driveway</td>\n      <td>No Access</td>\n      <td>Street/Sidewalk</td>\n      <td>10458.0</td>\n      <td>2313 BELMONT AVENUE</td>\n      <td>BELMONT AVENUE</td>\n      <td>EAST 183 STREET</td>\n      <td>CRESCENT AVENUE</td>\n      <td>NaN</td>\n      <td>NaN</td>\n      <td>ADDRESS</td>\n      <td>BRONX</td>\n      <td>NaN</td>\n      <td>Precinct</td>\n      <td>Closed</td>\n      <td>10/31/2013 06:28:19 AM</td>\n      <td>10/30/2013 11:41:28 PM</td>\n      <td>06 BRONX</td>\n      <td>BRONX</td>\n      <td>1015519.0</td>\n      <td>250080.0</td>\n      <td>Unspecified</td>\n      <td>BRONX</td>\n      <td>Unspecified</td>\n      <td>Unspecified</td>\n      <td>Unspecified</td>\n      <td>Unspecified</td>\n      <td>Unspecified</td>\n      <td>Unspecified</td>\n      <td>Unspecified</td>\n      <td>Unspecified</td>\n      <td>Unspecified</td>\n      <td>N</td>\n      <td>NaN</td>\n      <td>NaN</td>\n      <td>NaN</td>\n      <td>NaN</td>\n      <td>NaN</td>\n      <td>NaN</td>\n      <td>NaN</td>\n      <td>NaN</td>\n      <td>NaN</td>\n      <td>NaN</td>\n      <td>NaN</td>\n      <td>40.853031</td>\n      <td>-73.886970</td>\n      <td>(40.85303139531426, -73.88697036576089)</td>\n    </tr>\n    <tr>\n      <th>26593214</th>\n      <td>10/30/2013 10:27:00 PM</td>\n      <td>NaN</td>\n      <td>DEP</td>\n      <td>Department of Environmental Protection</td>\n      <td>Noise</td>\n      <td>Noise: Boat(Engine,Music,Etc) (NR10)</td>\n      <td>NaN</td>\n      <td>10280.0</td>\n      <td>395 SOUTH END AVENUE</td>\n      <td>SOUTH END AVENUE</td>\n      <td>ALBANY STREET</td>\n      <td>LIBERTY STREET</td>\n      <td>NaN</td>\n      <td>NaN</td>\n      <td>ADDRESS</td>\n      <td>NEW YORK</td>\n      <td>NaN</td>\n      <td>NaN</td>\n      <td>Open</td>\n      <td>NaN</td>\n      <td>NaN</td>\n      <td>01 MANHATTAN</td>\n      <td>MANHATTAN</td>\n      <td>979858.0</td>\n      <td>198479.0</td>\n      <td>Unspecified</td>\n      <td>MANHATTAN</td>\n      <td>Unspecified</td>\n      <td>Unspecified</td>\n      <td>Unspecified</td>\n      <td>Unspecified</td>\n      <td>Unspecified</td>\n      <td>Unspecified</td>\n      <td>Unspecified</td>\n      <td>Unspecified</td>\n      <td>Unspecified</td>\n      <td>NaN</td>\n      <td>NaN</td>\n      <td>NaN</td>\n      <td>NaN</td>\n      <td>NaN</td>\n      <td>NaN</td>\n      <td>NaN</td>\n      <td>NaN</td>\n      <td>NaN</td>\n      <td>NaN</td>\n      <td>NaN</td>\n      <td>NaN</td>\n      <td>40.711455</td>\n      <td>-74.015842</td>\n      <td>(40.71145466527376, -74.01584225929635)</td>\n    </tr>\n  </tbody>\n</table>\n<p>100 rows × 51 columns</p>\n</div>"
     },
     "execution_count": 9,
     "metadata": {},
     "output_type": "execute_result"
    }
   ],
   "source": [
    "complaints.iloc[100:200]"
   ]
  },
  {
   "cell_type": "markdown",
   "metadata": {
    "pycharm": {
     "name": "#%% md\n"
    }
   },
   "source": [
    "- Select the (created) date, complaint type and incident ZIP for the complaints 26595721, 26589299 and 26592600."
   ]
  },
  {
   "cell_type": "code",
   "execution_count": 12,
   "metadata": {
    "ExecuteTime": {
     "end_time": "2021-09-24T14:47:01.594384Z",
     "start_time": "2021-09-24T14:47:01.580779Z"
    },
    "pycharm": {
     "name": "#%%\n"
    }
   },
   "outputs": [
    {
     "data": {
      "text/plain": "                      Created Date          Complaint Type Incident Zip\nUnique Key                                                             \n26595721    10/31/2013 01:56:23 AM         Noise - Vehicle      10023.0\n26589299    10/30/2013 06:27:00 PM  Street Light Condition      11416.0\n26592600    10/30/2013 12:43:00 PM  Street Light Condition          NaN",
      "text/html": "<div>\n<style scoped>\n    .dataframe tbody tr th:only-of-type {\n        vertical-align: middle;\n    }\n\n    .dataframe tbody tr th {\n        vertical-align: top;\n    }\n\n    .dataframe thead th {\n        text-align: right;\n    }\n</style>\n<table border=\"1\" class=\"dataframe\">\n  <thead>\n    <tr style=\"text-align: right;\">\n      <th></th>\n      <th>Created Date</th>\n      <th>Complaint Type</th>\n      <th>Incident Zip</th>\n    </tr>\n    <tr>\n      <th>Unique Key</th>\n      <th></th>\n      <th></th>\n      <th></th>\n    </tr>\n  </thead>\n  <tbody>\n    <tr>\n      <th>26595721</th>\n      <td>10/31/2013 01:56:23 AM</td>\n      <td>Noise - Vehicle</td>\n      <td>10023.0</td>\n    </tr>\n    <tr>\n      <th>26589299</th>\n      <td>10/30/2013 06:27:00 PM</td>\n      <td>Street Light Condition</td>\n      <td>11416.0</td>\n    </tr>\n    <tr>\n      <th>26592600</th>\n      <td>10/30/2013 12:43:00 PM</td>\n      <td>Street Light Condition</td>\n      <td>NaN</td>\n    </tr>\n  </tbody>\n</table>\n</div>"
     },
     "execution_count": 12,
     "metadata": {},
     "output_type": "execute_result"
    }
   ],
   "source": [
    "complaints.loc[[26595721, 26589299, 26592600], ['Created Date', 'Complaint Type', 'Incident Zip']]"
   ]
  },
  {
   "cell_type": "markdown",
   "metadata": {
    "pycharm": {
     "name": "#%% md\n"
    }
   },
   "source": [
    "- How many complaints are recorded for each of the NYC regions (boroughs)? Hint: You might use the `value_counts` method."
   ]
  },
  {
   "cell_type": "code",
   "execution_count": 13,
   "metadata": {
    "ExecuteTime": {
     "end_time": "2021-09-24T14:47:02.881834Z",
     "start_time": "2021-09-24T14:47:02.867721Z"
    },
    "pycharm": {
     "name": "#%%\n"
    }
   },
   "outputs": [
    {
     "data": {
      "text/plain": "Borough\nBROOKLYN         32890\nMANHATTAN        24288\nQUEENS           22281\nBRONX            19686\nUnspecified       7107\nSTATEN ISLAND     4817\ndtype: int64"
     },
     "execution_count": 13,
     "metadata": {},
     "output_type": "execute_result"
    }
   ],
   "source": [
    "complaints.value_counts('Borough')"
   ]
  },
  {
   "cell_type": "markdown",
   "metadata": {
    "pycharm": {
     "name": "#%% md\n"
    }
   },
   "source": [
    "- How many illegal parkings are reported for each region?"
   ]
  },
  {
   "cell_type": "code",
   "execution_count": 19,
   "metadata": {
    "ExecuteTime": {
     "end_time": "2021-09-24T14:47:04.575604Z",
     "start_time": "2021-09-24T14:47:04.556600Z"
    },
    "scrolled": true,
    "pycharm": {
     "name": "#%%\n"
    }
   },
   "outputs": [
    {
     "data": {
      "text/plain": "Borough\nBROOKLYN         1147\nQUEENS            887\nMANHATTAN         640\nBRONX             391\nSTATEN ISLAND     278\ndtype: int64"
     },
     "execution_count": 19,
     "metadata": {},
     "output_type": "execute_result"
    }
   ],
   "source": [
    "complaints.loc[complaints['Complaint Type'] == 'Illegal Parking'].value_counts('Borough')"
   ]
  },
  {
   "cell_type": "markdown",
   "metadata": {
    "pycharm": {
     "name": "#%% md\n"
    }
   },
   "source": [
    "## Melbourne housing\n",
    "\n",
    "In this exercise we will work with a dataset on the housing market in Melbourne."
   ]
  },
  {
   "cell_type": "markdown",
   "metadata": {
    "pycharm": {
     "name": "#%% md\n"
    }
   },
   "source": [
    "- Read in the CSV file *melbourne.csv*."
   ]
  },
  {
   "cell_type": "code",
   "execution_count": 3,
   "metadata": {
    "ExecuteTime": {
     "end_time": "2021-09-24T14:47:09.713328Z",
     "start_time": "2021-09-24T14:47:09.550439Z"
    },
    "pycharm": {
     "name": "#%%\n"
    }
   },
   "outputs": [],
   "source": [
    "import pandas as pd\n",
    "\n",
    "melbourne = pd.read_csv('data/melbourne.csv')"
   ]
  },
  {
   "cell_type": "markdown",
   "metadata": {
    "pycharm": {
     "name": "#%% md\n"
    }
   },
   "source": [
    "- Select the first 10 rows."
   ]
  },
  {
   "cell_type": "code",
   "execution_count": 13,
   "metadata": {
    "ExecuteTime": {
     "end_time": "2021-09-24T14:47:11.928389Z",
     "start_time": "2021-09-24T14:47:11.894189Z"
    },
    "pycharm": {
     "name": "#%%\n"
    }
   },
   "outputs": [
    {
     "data": {
      "text/plain": "          Suburb             Address  Rooms Type      Price Method  \\\n0     Abbotsford       68 Studley St      2    h        NaN     SS   \n1     Abbotsford        85 Turner St      2    h  1480000.0      S   \n2     Abbotsford     25 Bloomburg St      2    h  1035000.0      S   \n3     Abbotsford  18/659 Victoria St      3    u        NaN     VB   \n4     Abbotsford        5 Charles St      3    h  1465000.0     SP   \n..           ...                 ...    ...  ...        ...    ...   \n95  Airport West      20 Creswell Av      3    h   970000.0      S   \n96  Airport West        241 Parer Rd      5    h   755000.0     PI   \n97  Airport West         71 Bowes Av      4    h   985000.0      S   \n98  Airport West        2/40 Earl St      3    t   700000.0     PI   \n99  Airport West      2/112 Parer Rd      2    u   509500.0     SP   \n\n       SellerG        Date  Distance  Postcode  ...  Bathroom  Car  Landsize  \\\n0       Jellis   3/09/2016       2.5    3067.0  ...       1.0  1.0     126.0   \n1       Biggin   3/12/2016       2.5    3067.0  ...       1.0  1.0     202.0   \n2       Biggin   4/02/2016       2.5    3067.0  ...       1.0  0.0     156.0   \n3       Rounds   4/02/2016       2.5    3067.0  ...       2.0  1.0       0.0   \n4       Biggin   4/03/2017       2.5    3067.0  ...       2.0  0.0     134.0   \n..         ...         ...       ...       ...  ...       ...  ...       ...   \n95       Barry  14/05/2016      13.5    3042.0  ...       NaN  NaN       NaN   \n96  Propertyau  14/05/2016      13.5    3042.0  ...       2.0  2.0     596.0   \n97       Barry  15/10/2016      13.5    3042.0  ...       NaN  NaN       NaN   \n98        Brad  15/10/2016      13.5    3042.0  ...       2.0  2.0     165.0   \n99      Nelson  15/10/2016      13.5    3042.0  ...       NaN  NaN       NaN   \n\n    BuildingArea  YearBuilt                 CouncilArea Lattitude  Longtitude  \\\n0            NaN        NaN          Yarra City Council  -37.8014    144.9958   \n1            NaN        NaN          Yarra City Council  -37.7996    144.9984   \n2           79.0     1900.0          Yarra City Council  -37.8079    144.9934   \n3            NaN        NaN          Yarra City Council  -37.8114    145.0116   \n4          150.0     1900.0          Yarra City Council  -37.8093    144.9944   \n..           ...        ...                         ...       ...         ...   \n95           NaN        NaN  Moonee Valley City Council       NaN         NaN   \n96           NaN        NaN  Moonee Valley City Council  -37.7248    144.8699   \n97           NaN        NaN  Moonee Valley City Council       NaN         NaN   \n98         133.0     2009.0  Moonee Valley City Council  -37.7270    144.8870   \n99           NaN        NaN  Moonee Valley City Council       NaN         NaN   \n\n               Regionname Propertycount  \n0   Northern Metropolitan        4019.0  \n1   Northern Metropolitan        4019.0  \n2   Northern Metropolitan        4019.0  \n3   Northern Metropolitan        4019.0  \n4   Northern Metropolitan        4019.0  \n..                    ...           ...  \n95   Western Metropolitan        3464.0  \n96   Western Metropolitan        3464.0  \n97   Western Metropolitan        3464.0  \n98   Western Metropolitan        3464.0  \n99   Western Metropolitan        3464.0  \n\n[100 rows x 21 columns]",
      "text/html": "<div>\n<style scoped>\n    .dataframe tbody tr th:only-of-type {\n        vertical-align: middle;\n    }\n\n    .dataframe tbody tr th {\n        vertical-align: top;\n    }\n\n    .dataframe thead th {\n        text-align: right;\n    }\n</style>\n<table border=\"1\" class=\"dataframe\">\n  <thead>\n    <tr style=\"text-align: right;\">\n      <th></th>\n      <th>Suburb</th>\n      <th>Address</th>\n      <th>Rooms</th>\n      <th>Type</th>\n      <th>Price</th>\n      <th>Method</th>\n      <th>SellerG</th>\n      <th>Date</th>\n      <th>Distance</th>\n      <th>Postcode</th>\n      <th>...</th>\n      <th>Bathroom</th>\n      <th>Car</th>\n      <th>Landsize</th>\n      <th>BuildingArea</th>\n      <th>YearBuilt</th>\n      <th>CouncilArea</th>\n      <th>Lattitude</th>\n      <th>Longtitude</th>\n      <th>Regionname</th>\n      <th>Propertycount</th>\n    </tr>\n  </thead>\n  <tbody>\n    <tr>\n      <th>0</th>\n      <td>Abbotsford</td>\n      <td>68 Studley St</td>\n      <td>2</td>\n      <td>h</td>\n      <td>NaN</td>\n      <td>SS</td>\n      <td>Jellis</td>\n      <td>3/09/2016</td>\n      <td>2.5</td>\n      <td>3067.0</td>\n      <td>...</td>\n      <td>1.0</td>\n      <td>1.0</td>\n      <td>126.0</td>\n      <td>NaN</td>\n      <td>NaN</td>\n      <td>Yarra City Council</td>\n      <td>-37.8014</td>\n      <td>144.9958</td>\n      <td>Northern Metropolitan</td>\n      <td>4019.0</td>\n    </tr>\n    <tr>\n      <th>1</th>\n      <td>Abbotsford</td>\n      <td>85 Turner St</td>\n      <td>2</td>\n      <td>h</td>\n      <td>1480000.0</td>\n      <td>S</td>\n      <td>Biggin</td>\n      <td>3/12/2016</td>\n      <td>2.5</td>\n      <td>3067.0</td>\n      <td>...</td>\n      <td>1.0</td>\n      <td>1.0</td>\n      <td>202.0</td>\n      <td>NaN</td>\n      <td>NaN</td>\n      <td>Yarra City Council</td>\n      <td>-37.7996</td>\n      <td>144.9984</td>\n      <td>Northern Metropolitan</td>\n      <td>4019.0</td>\n    </tr>\n    <tr>\n      <th>2</th>\n      <td>Abbotsford</td>\n      <td>25 Bloomburg St</td>\n      <td>2</td>\n      <td>h</td>\n      <td>1035000.0</td>\n      <td>S</td>\n      <td>Biggin</td>\n      <td>4/02/2016</td>\n      <td>2.5</td>\n      <td>3067.0</td>\n      <td>...</td>\n      <td>1.0</td>\n      <td>0.0</td>\n      <td>156.0</td>\n      <td>79.0</td>\n      <td>1900.0</td>\n      <td>Yarra City Council</td>\n      <td>-37.8079</td>\n      <td>144.9934</td>\n      <td>Northern Metropolitan</td>\n      <td>4019.0</td>\n    </tr>\n    <tr>\n      <th>3</th>\n      <td>Abbotsford</td>\n      <td>18/659 Victoria St</td>\n      <td>3</td>\n      <td>u</td>\n      <td>NaN</td>\n      <td>VB</td>\n      <td>Rounds</td>\n      <td>4/02/2016</td>\n      <td>2.5</td>\n      <td>3067.0</td>\n      <td>...</td>\n      <td>2.0</td>\n      <td>1.0</td>\n      <td>0.0</td>\n      <td>NaN</td>\n      <td>NaN</td>\n      <td>Yarra City Council</td>\n      <td>-37.8114</td>\n      <td>145.0116</td>\n      <td>Northern Metropolitan</td>\n      <td>4019.0</td>\n    </tr>\n    <tr>\n      <th>4</th>\n      <td>Abbotsford</td>\n      <td>5 Charles St</td>\n      <td>3</td>\n      <td>h</td>\n      <td>1465000.0</td>\n      <td>SP</td>\n      <td>Biggin</td>\n      <td>4/03/2017</td>\n      <td>2.5</td>\n      <td>3067.0</td>\n      <td>...</td>\n      <td>2.0</td>\n      <td>0.0</td>\n      <td>134.0</td>\n      <td>150.0</td>\n      <td>1900.0</td>\n      <td>Yarra City Council</td>\n      <td>-37.8093</td>\n      <td>144.9944</td>\n      <td>Northern Metropolitan</td>\n      <td>4019.0</td>\n    </tr>\n    <tr>\n      <th>...</th>\n      <td>...</td>\n      <td>...</td>\n      <td>...</td>\n      <td>...</td>\n      <td>...</td>\n      <td>...</td>\n      <td>...</td>\n      <td>...</td>\n      <td>...</td>\n      <td>...</td>\n      <td>...</td>\n      <td>...</td>\n      <td>...</td>\n      <td>...</td>\n      <td>...</td>\n      <td>...</td>\n      <td>...</td>\n      <td>...</td>\n      <td>...</td>\n      <td>...</td>\n      <td>...</td>\n    </tr>\n    <tr>\n      <th>95</th>\n      <td>Airport West</td>\n      <td>20 Creswell Av</td>\n      <td>3</td>\n      <td>h</td>\n      <td>970000.0</td>\n      <td>S</td>\n      <td>Barry</td>\n      <td>14/05/2016</td>\n      <td>13.5</td>\n      <td>3042.0</td>\n      <td>...</td>\n      <td>NaN</td>\n      <td>NaN</td>\n      <td>NaN</td>\n      <td>NaN</td>\n      <td>NaN</td>\n      <td>Moonee Valley City Council</td>\n      <td>NaN</td>\n      <td>NaN</td>\n      <td>Western Metropolitan</td>\n      <td>3464.0</td>\n    </tr>\n    <tr>\n      <th>96</th>\n      <td>Airport West</td>\n      <td>241 Parer Rd</td>\n      <td>5</td>\n      <td>h</td>\n      <td>755000.0</td>\n      <td>PI</td>\n      <td>Propertyau</td>\n      <td>14/05/2016</td>\n      <td>13.5</td>\n      <td>3042.0</td>\n      <td>...</td>\n      <td>2.0</td>\n      <td>2.0</td>\n      <td>596.0</td>\n      <td>NaN</td>\n      <td>NaN</td>\n      <td>Moonee Valley City Council</td>\n      <td>-37.7248</td>\n      <td>144.8699</td>\n      <td>Western Metropolitan</td>\n      <td>3464.0</td>\n    </tr>\n    <tr>\n      <th>97</th>\n      <td>Airport West</td>\n      <td>71 Bowes Av</td>\n      <td>4</td>\n      <td>h</td>\n      <td>985000.0</td>\n      <td>S</td>\n      <td>Barry</td>\n      <td>15/10/2016</td>\n      <td>13.5</td>\n      <td>3042.0</td>\n      <td>...</td>\n      <td>NaN</td>\n      <td>NaN</td>\n      <td>NaN</td>\n      <td>NaN</td>\n      <td>NaN</td>\n      <td>Moonee Valley City Council</td>\n      <td>NaN</td>\n      <td>NaN</td>\n      <td>Western Metropolitan</td>\n      <td>3464.0</td>\n    </tr>\n    <tr>\n      <th>98</th>\n      <td>Airport West</td>\n      <td>2/40 Earl St</td>\n      <td>3</td>\n      <td>t</td>\n      <td>700000.0</td>\n      <td>PI</td>\n      <td>Brad</td>\n      <td>15/10/2016</td>\n      <td>13.5</td>\n      <td>3042.0</td>\n      <td>...</td>\n      <td>2.0</td>\n      <td>2.0</td>\n      <td>165.0</td>\n      <td>133.0</td>\n      <td>2009.0</td>\n      <td>Moonee Valley City Council</td>\n      <td>-37.7270</td>\n      <td>144.8870</td>\n      <td>Western Metropolitan</td>\n      <td>3464.0</td>\n    </tr>\n    <tr>\n      <th>99</th>\n      <td>Airport West</td>\n      <td>2/112 Parer Rd</td>\n      <td>2</td>\n      <td>u</td>\n      <td>509500.0</td>\n      <td>SP</td>\n      <td>Nelson</td>\n      <td>15/10/2016</td>\n      <td>13.5</td>\n      <td>3042.0</td>\n      <td>...</td>\n      <td>NaN</td>\n      <td>NaN</td>\n      <td>NaN</td>\n      <td>NaN</td>\n      <td>NaN</td>\n      <td>Moonee Valley City Council</td>\n      <td>NaN</td>\n      <td>NaN</td>\n      <td>Western Metropolitan</td>\n      <td>3464.0</td>\n    </tr>\n  </tbody>\n</table>\n<p>100 rows × 21 columns</p>\n</div>"
     },
     "execution_count": 13,
     "metadata": {},
     "output_type": "execute_result"
    }
   ],
   "source": [
    "melbourne.head(10)"
   ]
  },
  {
   "cell_type": "markdown",
   "metadata": {
    "pycharm": {
     "name": "#%% md\n"
    }
   },
   "source": [
    "- Use the `info` method to print the information about the data frame."
   ]
  },
  {
   "cell_type": "code",
   "execution_count": 5,
   "metadata": {
    "ExecuteTime": {
     "end_time": "2021-09-24T14:47:13.150607Z",
     "start_time": "2021-09-24T14:47:13.125032Z"
    },
    "pycharm": {
     "name": "#%%\n"
    }
   },
   "outputs": [
    {
     "name": "stdout",
     "output_type": "stream",
     "text": [
      "<class 'pandas.core.frame.DataFrame'>\n",
      "RangeIndex: 34857 entries, 0 to 34856\n",
      "Data columns (total 21 columns):\n",
      " #   Column         Non-Null Count  Dtype  \n",
      "---  ------         --------------  -----  \n",
      " 0   Suburb         34857 non-null  object \n",
      " 1   Address        34857 non-null  object \n",
      " 2   Rooms          34857 non-null  int64  \n",
      " 3   Type           34857 non-null  object \n",
      " 4   Price          27247 non-null  float64\n",
      " 5   Method         34857 non-null  object \n",
      " 6   SellerG        34857 non-null  object \n",
      " 7   Date           34857 non-null  object \n",
      " 8   Distance       34856 non-null  float64\n",
      " 9   Postcode       34856 non-null  float64\n",
      " 10  Bedroom2       26640 non-null  float64\n",
      " 11  Bathroom       26631 non-null  float64\n",
      " 12  Car            26129 non-null  float64\n",
      " 13  Landsize       23047 non-null  float64\n",
      " 14  BuildingArea   13742 non-null  float64\n",
      " 15  YearBuilt      15551 non-null  float64\n",
      " 16  CouncilArea    34854 non-null  object \n",
      " 17  Lattitude      26881 non-null  float64\n",
      " 18  Longtitude     26881 non-null  float64\n",
      " 19  Regionname     34854 non-null  object \n",
      " 20  Propertycount  34854 non-null  float64\n",
      "dtypes: float64(12), int64(1), object(8)\n",
      "memory usage: 5.6+ MB\n"
     ]
    }
   ],
   "source": [
    "melbourne.info()"
   ]
  },
  {
   "cell_type": "markdown",
   "metadata": {
    "pycharm": {
     "name": "#%% md\n"
    }
   },
   "source": [
    "- How many observations (rows) are there in total? How many attributes (columns) are stored for each property?"
   ]
  },
  {
   "cell_type": "code",
   "execution_count": 12,
   "metadata": {
    "ExecuteTime": {
     "end_time": "2021-09-24T14:47:14.336692Z",
     "start_time": "2021-09-24T14:47:14.332677Z"
    },
    "pycharm": {
     "name": "#%%\n"
    }
   },
   "outputs": [
    {
     "name": "stdout",
     "output_type": "stream",
     "text": [
      "Row: len(melbourne) = 34857\n",
      "Col: 21\n"
     ]
    }
   ],
   "source": [
    "print(f\"Row: {len(melbourne)}\")\n",
    "print(f\"Col: {len(melbourne.columns)}\")"
   ]
  },
  {
   "cell_type": "markdown",
   "metadata": {
    "pycharm": {
     "name": "#%% md\n"
    }
   },
   "source": [
    "- Change the `Type` column to a categorical column and the `Date` column to a date-time column.\n",
    "\n",
    "  Note that the date format is d/m/y and we need to specify this when changing the type, otherwise some of the dates will be converted incorrectly (the m/d/Y format will be assumed for them)."
   ]
  },
  {
   "cell_type": "code",
   "execution_count": 28,
   "metadata": {
    "ExecuteTime": {
     "end_time": "2021-09-24T14:47:16.172099Z",
     "start_time": "2021-09-24T14:47:16.132573Z"
    },
    "pycharm": {
     "name": "#%%\n"
    }
   },
   "outputs": [
    {
     "name": "stdout",
     "output_type": "stream",
     "text": [
      "<class 'pandas.core.frame.DataFrame'>\n",
      "RangeIndex: 34857 entries, 0 to 34856\n",
      "Data columns (total 21 columns):\n",
      " #   Column         Non-Null Count  Dtype         \n",
      "---  ------         --------------  -----         \n",
      " 0   Suburb         34857 non-null  object        \n",
      " 1   Address        34857 non-null  object        \n",
      " 2   Rooms          34857 non-null  int64         \n",
      " 3   Type           34857 non-null  object        \n",
      " 4   Price          27247 non-null  float64       \n",
      " 5   Method         34857 non-null  object        \n",
      " 6   SellerG        34857 non-null  object        \n",
      " 7   Date           34857 non-null  datetime64[ns]\n",
      " 8   Distance       34856 non-null  float64       \n",
      " 9   Postcode       34856 non-null  float64       \n",
      " 10  Bedroom2       26640 non-null  float64       \n",
      " 11  Bathroom       26631 non-null  float64       \n",
      " 12  Car            26129 non-null  float64       \n",
      " 13  Landsize       23047 non-null  float64       \n",
      " 14  BuildingArea   13742 non-null  float64       \n",
      " 15  YearBuilt      15551 non-null  float64       \n",
      " 16  CouncilArea    34854 non-null  object        \n",
      " 17  Lattitude      26881 non-null  float64       \n",
      " 18  Longtitude     26881 non-null  float64       \n",
      " 19  Regionname     34854 non-null  object        \n",
      " 20  Propertycount  34854 non-null  float64       \n",
      "dtypes: datetime64[ns](1), float64(12), int64(1), object(7)\n",
      "memory usage: 5.6+ MB\n"
     ]
    }
   ],
   "source": [
    "melbourne.astype({'Type': 'category'})\n",
    "melbourne['Date'] = pd.to_datetime(melbourne['Date'], format='%d/%m/%Y')\n",
    "melbourne.info()"
   ]
  },
  {
   "cell_type": "markdown",
   "metadata": {
    "pycharm": {
     "name": "#%% md\n"
    }
   },
   "source": [
    "- What happens if you try to change the data type of the `Bathroom` column to *int*. Why?"
   ]
  },
  {
   "cell_type": "code",
   "execution_count": 29,
   "metadata": {
    "ExecuteTime": {
     "end_time": "2021-09-24T14:47:21.705645Z",
     "start_time": "2021-09-24T14:47:21.701314Z"
    },
    "pycharm": {
     "name": "#%%\n"
    }
   },
   "outputs": [
    {
     "ename": "IntCastingNaNError",
     "evalue": "Cannot convert non-finite values (NA or inf) to integer",
     "output_type": "error",
     "traceback": [
      "\u001B[1;31m---------------------------------------------------------------------------\u001B[0m",
      "\u001B[1;31mIntCastingNaNError\u001B[0m                        Traceback (most recent call last)",
      "Input \u001B[1;32mIn [29]\u001B[0m, in \u001B[0;36m<cell line: 1>\u001B[1;34m()\u001B[0m\n\u001B[1;32m----> 1\u001B[0m \u001B[43mmelbourne\u001B[49m\u001B[38;5;241;43m.\u001B[39;49m\u001B[43mastype\u001B[49m\u001B[43m(\u001B[49m\u001B[43m{\u001B[49m\u001B[38;5;124;43m'\u001B[39;49m\u001B[38;5;124;43mBathroom\u001B[39;49m\u001B[38;5;124;43m'\u001B[39;49m\u001B[43m:\u001B[49m\u001B[43m \u001B[49m\u001B[38;5;124;43m'\u001B[39;49m\u001B[38;5;124;43mint\u001B[39;49m\u001B[38;5;124;43m'\u001B[39;49m\u001B[43m}\u001B[49m\u001B[43m)\u001B[49m\n",
      "File \u001B[1;32m~\\Documents\\Projects\\summerCourse\\venv\\lib\\site-packages\\pandas\\core\\generic.py:5898\u001B[0m, in \u001B[0;36mNDFrame.astype\u001B[1;34m(self, dtype, copy, errors)\u001B[0m\n\u001B[0;32m   5896\u001B[0m             res_col \u001B[38;5;241m=\u001B[39m col\u001B[38;5;241m.\u001B[39mcopy() \u001B[38;5;28;01mif\u001B[39;00m copy \u001B[38;5;28;01melse\u001B[39;00m col\n\u001B[0;32m   5897\u001B[0m         \u001B[38;5;28;01melse\u001B[39;00m:\n\u001B[1;32m-> 5898\u001B[0m             res_col \u001B[38;5;241m=\u001B[39m \u001B[43mcol\u001B[49m\u001B[38;5;241;43m.\u001B[39;49m\u001B[43mastype\u001B[49m\u001B[43m(\u001B[49m\u001B[43mdtype\u001B[49m\u001B[38;5;241;43m=\u001B[39;49m\u001B[43mcdt\u001B[49m\u001B[43m,\u001B[49m\u001B[43m \u001B[49m\u001B[43mcopy\u001B[49m\u001B[38;5;241;43m=\u001B[39;49m\u001B[43mcopy\u001B[49m\u001B[43m,\u001B[49m\u001B[43m \u001B[49m\u001B[43merrors\u001B[49m\u001B[38;5;241;43m=\u001B[39;49m\u001B[43merrors\u001B[49m\u001B[43m)\u001B[49m\n\u001B[0;32m   5899\u001B[0m         results\u001B[38;5;241m.\u001B[39mappend(res_col)\n\u001B[0;32m   5901\u001B[0m \u001B[38;5;28;01melif\u001B[39;00m is_extension_array_dtype(dtype) \u001B[38;5;129;01mand\u001B[39;00m \u001B[38;5;28mself\u001B[39m\u001B[38;5;241m.\u001B[39mndim \u001B[38;5;241m>\u001B[39m \u001B[38;5;241m1\u001B[39m:\n\u001B[0;32m   5902\u001B[0m     \u001B[38;5;66;03m# GH 18099/22869: columnwise conversion to extension dtype\u001B[39;00m\n\u001B[0;32m   5903\u001B[0m     \u001B[38;5;66;03m# GH 24704: use iloc to handle duplicate column names\u001B[39;00m\n\u001B[0;32m   5904\u001B[0m     \u001B[38;5;66;03m# TODO(EA2D): special case not needed with 2D EAs\u001B[39;00m\n",
      "File \u001B[1;32m~\\Documents\\Projects\\summerCourse\\venv\\lib\\site-packages\\pandas\\core\\generic.py:5912\u001B[0m, in \u001B[0;36mNDFrame.astype\u001B[1;34m(self, dtype, copy, errors)\u001B[0m\n\u001B[0;32m   5905\u001B[0m     results \u001B[38;5;241m=\u001B[39m [\n\u001B[0;32m   5906\u001B[0m         \u001B[38;5;28mself\u001B[39m\u001B[38;5;241m.\u001B[39miloc[:, i]\u001B[38;5;241m.\u001B[39mastype(dtype, copy\u001B[38;5;241m=\u001B[39mcopy)\n\u001B[0;32m   5907\u001B[0m         \u001B[38;5;28;01mfor\u001B[39;00m i \u001B[38;5;129;01min\u001B[39;00m \u001B[38;5;28mrange\u001B[39m(\u001B[38;5;28mlen\u001B[39m(\u001B[38;5;28mself\u001B[39m\u001B[38;5;241m.\u001B[39mcolumns))\n\u001B[0;32m   5908\u001B[0m     ]\n\u001B[0;32m   5910\u001B[0m \u001B[38;5;28;01melse\u001B[39;00m:\n\u001B[0;32m   5911\u001B[0m     \u001B[38;5;66;03m# else, only a single dtype is given\u001B[39;00m\n\u001B[1;32m-> 5912\u001B[0m     new_data \u001B[38;5;241m=\u001B[39m \u001B[38;5;28;43mself\u001B[39;49m\u001B[38;5;241;43m.\u001B[39;49m\u001B[43m_mgr\u001B[49m\u001B[38;5;241;43m.\u001B[39;49m\u001B[43mastype\u001B[49m\u001B[43m(\u001B[49m\u001B[43mdtype\u001B[49m\u001B[38;5;241;43m=\u001B[39;49m\u001B[43mdtype\u001B[49m\u001B[43m,\u001B[49m\u001B[43m \u001B[49m\u001B[43mcopy\u001B[49m\u001B[38;5;241;43m=\u001B[39;49m\u001B[43mcopy\u001B[49m\u001B[43m,\u001B[49m\u001B[43m \u001B[49m\u001B[43merrors\u001B[49m\u001B[38;5;241;43m=\u001B[39;49m\u001B[43merrors\u001B[49m\u001B[43m)\u001B[49m\n\u001B[0;32m   5913\u001B[0m     \u001B[38;5;28;01mreturn\u001B[39;00m \u001B[38;5;28mself\u001B[39m\u001B[38;5;241m.\u001B[39m_constructor(new_data)\u001B[38;5;241m.\u001B[39m__finalize__(\u001B[38;5;28mself\u001B[39m, method\u001B[38;5;241m=\u001B[39m\u001B[38;5;124m\"\u001B[39m\u001B[38;5;124mastype\u001B[39m\u001B[38;5;124m\"\u001B[39m)\n\u001B[0;32m   5915\u001B[0m \u001B[38;5;66;03m# GH 33113: handle empty frame or series\u001B[39;00m\n",
      "File \u001B[1;32m~\\Documents\\Projects\\summerCourse\\venv\\lib\\site-packages\\pandas\\core\\internals\\managers.py:419\u001B[0m, in \u001B[0;36mBaseBlockManager.astype\u001B[1;34m(self, dtype, copy, errors)\u001B[0m\n\u001B[0;32m    418\u001B[0m \u001B[38;5;28;01mdef\u001B[39;00m \u001B[38;5;21mastype\u001B[39m(\u001B[38;5;28mself\u001B[39m: T, dtype, copy: \u001B[38;5;28mbool\u001B[39m \u001B[38;5;241m=\u001B[39m \u001B[38;5;28;01mFalse\u001B[39;00m, errors: \u001B[38;5;28mstr\u001B[39m \u001B[38;5;241m=\u001B[39m \u001B[38;5;124m\"\u001B[39m\u001B[38;5;124mraise\u001B[39m\u001B[38;5;124m\"\u001B[39m) \u001B[38;5;241m-\u001B[39m\u001B[38;5;241m>\u001B[39m T:\n\u001B[1;32m--> 419\u001B[0m     \u001B[38;5;28;01mreturn\u001B[39;00m \u001B[38;5;28;43mself\u001B[39;49m\u001B[38;5;241;43m.\u001B[39;49m\u001B[43mapply\u001B[49m\u001B[43m(\u001B[49m\u001B[38;5;124;43m\"\u001B[39;49m\u001B[38;5;124;43mastype\u001B[39;49m\u001B[38;5;124;43m\"\u001B[39;49m\u001B[43m,\u001B[49m\u001B[43m \u001B[49m\u001B[43mdtype\u001B[49m\u001B[38;5;241;43m=\u001B[39;49m\u001B[43mdtype\u001B[49m\u001B[43m,\u001B[49m\u001B[43m \u001B[49m\u001B[43mcopy\u001B[49m\u001B[38;5;241;43m=\u001B[39;49m\u001B[43mcopy\u001B[49m\u001B[43m,\u001B[49m\u001B[43m \u001B[49m\u001B[43merrors\u001B[49m\u001B[38;5;241;43m=\u001B[39;49m\u001B[43merrors\u001B[49m\u001B[43m)\u001B[49m\n",
      "File \u001B[1;32m~\\Documents\\Projects\\summerCourse\\venv\\lib\\site-packages\\pandas\\core\\internals\\managers.py:304\u001B[0m, in \u001B[0;36mBaseBlockManager.apply\u001B[1;34m(self, f, align_keys, ignore_failures, **kwargs)\u001B[0m\n\u001B[0;32m    302\u001B[0m         applied \u001B[38;5;241m=\u001B[39m b\u001B[38;5;241m.\u001B[39mapply(f, \u001B[38;5;241m*\u001B[39m\u001B[38;5;241m*\u001B[39mkwargs)\n\u001B[0;32m    303\u001B[0m     \u001B[38;5;28;01melse\u001B[39;00m:\n\u001B[1;32m--> 304\u001B[0m         applied \u001B[38;5;241m=\u001B[39m \u001B[38;5;28mgetattr\u001B[39m(b, f)(\u001B[38;5;241m*\u001B[39m\u001B[38;5;241m*\u001B[39mkwargs)\n\u001B[0;32m    305\u001B[0m \u001B[38;5;28;01mexcept\u001B[39;00m (\u001B[38;5;167;01mTypeError\u001B[39;00m, \u001B[38;5;167;01mNotImplementedError\u001B[39;00m):\n\u001B[0;32m    306\u001B[0m     \u001B[38;5;28;01mif\u001B[39;00m \u001B[38;5;129;01mnot\u001B[39;00m ignore_failures:\n",
      "File \u001B[1;32m~\\Documents\\Projects\\summerCourse\\venv\\lib\\site-packages\\pandas\\core\\internals\\blocks.py:580\u001B[0m, in \u001B[0;36mBlock.astype\u001B[1;34m(self, dtype, copy, errors)\u001B[0m\n\u001B[0;32m    562\u001B[0m \u001B[38;5;124;03m\"\"\"\u001B[39;00m\n\u001B[0;32m    563\u001B[0m \u001B[38;5;124;03mCoerce to the new dtype.\u001B[39;00m\n\u001B[0;32m    564\u001B[0m \n\u001B[1;32m   (...)\u001B[0m\n\u001B[0;32m    576\u001B[0m \u001B[38;5;124;03mBlock\u001B[39;00m\n\u001B[0;32m    577\u001B[0m \u001B[38;5;124;03m\"\"\"\u001B[39;00m\n\u001B[0;32m    578\u001B[0m values \u001B[38;5;241m=\u001B[39m \u001B[38;5;28mself\u001B[39m\u001B[38;5;241m.\u001B[39mvalues\n\u001B[1;32m--> 580\u001B[0m new_values \u001B[38;5;241m=\u001B[39m \u001B[43mastype_array_safe\u001B[49m\u001B[43m(\u001B[49m\u001B[43mvalues\u001B[49m\u001B[43m,\u001B[49m\u001B[43m \u001B[49m\u001B[43mdtype\u001B[49m\u001B[43m,\u001B[49m\u001B[43m \u001B[49m\u001B[43mcopy\u001B[49m\u001B[38;5;241;43m=\u001B[39;49m\u001B[43mcopy\u001B[49m\u001B[43m,\u001B[49m\u001B[43m \u001B[49m\u001B[43merrors\u001B[49m\u001B[38;5;241;43m=\u001B[39;49m\u001B[43merrors\u001B[49m\u001B[43m)\u001B[49m\n\u001B[0;32m    582\u001B[0m new_values \u001B[38;5;241m=\u001B[39m maybe_coerce_values(new_values)\n\u001B[0;32m    583\u001B[0m newb \u001B[38;5;241m=\u001B[39m \u001B[38;5;28mself\u001B[39m\u001B[38;5;241m.\u001B[39mmake_block(new_values)\n",
      "File \u001B[1;32m~\\Documents\\Projects\\summerCourse\\venv\\lib\\site-packages\\pandas\\core\\dtypes\\cast.py:1292\u001B[0m, in \u001B[0;36mastype_array_safe\u001B[1;34m(values, dtype, copy, errors)\u001B[0m\n\u001B[0;32m   1289\u001B[0m     dtype \u001B[38;5;241m=\u001B[39m dtype\u001B[38;5;241m.\u001B[39mnumpy_dtype\n\u001B[0;32m   1291\u001B[0m \u001B[38;5;28;01mtry\u001B[39;00m:\n\u001B[1;32m-> 1292\u001B[0m     new_values \u001B[38;5;241m=\u001B[39m \u001B[43mastype_array\u001B[49m\u001B[43m(\u001B[49m\u001B[43mvalues\u001B[49m\u001B[43m,\u001B[49m\u001B[43m \u001B[49m\u001B[43mdtype\u001B[49m\u001B[43m,\u001B[49m\u001B[43m \u001B[49m\u001B[43mcopy\u001B[49m\u001B[38;5;241;43m=\u001B[39;49m\u001B[43mcopy\u001B[49m\u001B[43m)\u001B[49m\n\u001B[0;32m   1293\u001B[0m \u001B[38;5;28;01mexcept\u001B[39;00m (\u001B[38;5;167;01mValueError\u001B[39;00m, \u001B[38;5;167;01mTypeError\u001B[39;00m):\n\u001B[0;32m   1294\u001B[0m     \u001B[38;5;66;03m# e.g. astype_nansafe can fail on object-dtype of strings\u001B[39;00m\n\u001B[0;32m   1295\u001B[0m     \u001B[38;5;66;03m#  trying to convert to float\u001B[39;00m\n\u001B[0;32m   1296\u001B[0m     \u001B[38;5;28;01mif\u001B[39;00m errors \u001B[38;5;241m==\u001B[39m \u001B[38;5;124m\"\u001B[39m\u001B[38;5;124mignore\u001B[39m\u001B[38;5;124m\"\u001B[39m:\n",
      "File \u001B[1;32m~\\Documents\\Projects\\summerCourse\\venv\\lib\\site-packages\\pandas\\core\\dtypes\\cast.py:1237\u001B[0m, in \u001B[0;36mastype_array\u001B[1;34m(values, dtype, copy)\u001B[0m\n\u001B[0;32m   1234\u001B[0m     values \u001B[38;5;241m=\u001B[39m values\u001B[38;5;241m.\u001B[39mastype(dtype, copy\u001B[38;5;241m=\u001B[39mcopy)\n\u001B[0;32m   1236\u001B[0m \u001B[38;5;28;01melse\u001B[39;00m:\n\u001B[1;32m-> 1237\u001B[0m     values \u001B[38;5;241m=\u001B[39m \u001B[43mastype_nansafe\u001B[49m\u001B[43m(\u001B[49m\u001B[43mvalues\u001B[49m\u001B[43m,\u001B[49m\u001B[43m \u001B[49m\u001B[43mdtype\u001B[49m\u001B[43m,\u001B[49m\u001B[43m \u001B[49m\u001B[43mcopy\u001B[49m\u001B[38;5;241;43m=\u001B[39;49m\u001B[43mcopy\u001B[49m\u001B[43m)\u001B[49m\n\u001B[0;32m   1239\u001B[0m \u001B[38;5;66;03m# in pandas we don't store numpy str dtypes, so convert to object\u001B[39;00m\n\u001B[0;32m   1240\u001B[0m \u001B[38;5;28;01mif\u001B[39;00m \u001B[38;5;28misinstance\u001B[39m(dtype, np\u001B[38;5;241m.\u001B[39mdtype) \u001B[38;5;129;01mand\u001B[39;00m \u001B[38;5;28missubclass\u001B[39m(values\u001B[38;5;241m.\u001B[39mdtype\u001B[38;5;241m.\u001B[39mtype, \u001B[38;5;28mstr\u001B[39m):\n",
      "File \u001B[1;32m~\\Documents\\Projects\\summerCourse\\venv\\lib\\site-packages\\pandas\\core\\dtypes\\cast.py:1148\u001B[0m, in \u001B[0;36mastype_nansafe\u001B[1;34m(arr, dtype, copy, skipna)\u001B[0m\n\u001B[0;32m   1145\u001B[0m     \u001B[38;5;28;01mraise\u001B[39;00m \u001B[38;5;167;01mTypeError\u001B[39;00m(\u001B[38;5;124mf\u001B[39m\u001B[38;5;124m\"\u001B[39m\u001B[38;5;124mcannot astype a timedelta from [\u001B[39m\u001B[38;5;132;01m{\u001B[39;00marr\u001B[38;5;241m.\u001B[39mdtype\u001B[38;5;132;01m}\u001B[39;00m\u001B[38;5;124m] to [\u001B[39m\u001B[38;5;132;01m{\u001B[39;00mdtype\u001B[38;5;132;01m}\u001B[39;00m\u001B[38;5;124m]\u001B[39m\u001B[38;5;124m\"\u001B[39m)\n\u001B[0;32m   1147\u001B[0m \u001B[38;5;28;01melif\u001B[39;00m np\u001B[38;5;241m.\u001B[39missubdtype(arr\u001B[38;5;241m.\u001B[39mdtype, np\u001B[38;5;241m.\u001B[39mfloating) \u001B[38;5;129;01mand\u001B[39;00m np\u001B[38;5;241m.\u001B[39missubdtype(dtype, np\u001B[38;5;241m.\u001B[39minteger):\n\u001B[1;32m-> 1148\u001B[0m     \u001B[38;5;28;01mreturn\u001B[39;00m \u001B[43mastype_float_to_int_nansafe\u001B[49m\u001B[43m(\u001B[49m\u001B[43marr\u001B[49m\u001B[43m,\u001B[49m\u001B[43m \u001B[49m\u001B[43mdtype\u001B[49m\u001B[43m,\u001B[49m\u001B[43m \u001B[49m\u001B[43mcopy\u001B[49m\u001B[43m)\u001B[49m\n\u001B[0;32m   1150\u001B[0m \u001B[38;5;28;01melif\u001B[39;00m is_object_dtype(arr\u001B[38;5;241m.\u001B[39mdtype):\n\u001B[0;32m   1151\u001B[0m \n\u001B[0;32m   1152\u001B[0m     \u001B[38;5;66;03m# work around NumPy brokenness, #1987\u001B[39;00m\n\u001B[0;32m   1153\u001B[0m     \u001B[38;5;28;01mif\u001B[39;00m np\u001B[38;5;241m.\u001B[39missubdtype(dtype\u001B[38;5;241m.\u001B[39mtype, np\u001B[38;5;241m.\u001B[39minteger):\n",
      "File \u001B[1;32m~\\Documents\\Projects\\summerCourse\\venv\\lib\\site-packages\\pandas\\core\\dtypes\\cast.py:1193\u001B[0m, in \u001B[0;36mastype_float_to_int_nansafe\u001B[1;34m(values, dtype, copy)\u001B[0m\n\u001B[0;32m   1189\u001B[0m \u001B[38;5;124;03m\"\"\"\u001B[39;00m\n\u001B[0;32m   1190\u001B[0m \u001B[38;5;124;03mastype with a check preventing converting NaN to an meaningless integer value.\u001B[39;00m\n\u001B[0;32m   1191\u001B[0m \u001B[38;5;124;03m\"\"\"\u001B[39;00m\n\u001B[0;32m   1192\u001B[0m \u001B[38;5;28;01mif\u001B[39;00m \u001B[38;5;129;01mnot\u001B[39;00m np\u001B[38;5;241m.\u001B[39misfinite(values)\u001B[38;5;241m.\u001B[39mall():\n\u001B[1;32m-> 1193\u001B[0m     \u001B[38;5;28;01mraise\u001B[39;00m IntCastingNaNError(\n\u001B[0;32m   1194\u001B[0m         \u001B[38;5;124m\"\u001B[39m\u001B[38;5;124mCannot convert non-finite values (NA or inf) to integer\u001B[39m\u001B[38;5;124m\"\u001B[39m\n\u001B[0;32m   1195\u001B[0m     )\n\u001B[0;32m   1196\u001B[0m \u001B[38;5;28;01mreturn\u001B[39;00m values\u001B[38;5;241m.\u001B[39mastype(dtype, copy\u001B[38;5;241m=\u001B[39mcopy)\n",
      "\u001B[1;31mIntCastingNaNError\u001B[0m: Cannot convert non-finite values (NA or inf) to integer"
     ]
    }
   ],
   "source": [
    "melbourne.astype({'Bathroom': 'int'})"
   ]
  },
  {
   "cell_type": "markdown",
   "metadata": {
    "pycharm": {
     "name": "#%% md\n"
    }
   },
   "source": [
    "- How many houses (type `h`), units (`u`) and townhouses (`t`) are there in the data set? Visualize the distribution as a pie chart (hint: use `s.plot.pie()` where `s` is a Pandas series)."
   ]
  },
  {
   "cell_type": "code",
   "execution_count": 16,
   "metadata": {
    "ExecuteTime": {
     "end_time": "2021-09-24T14:49:28.908192Z",
     "start_time": "2021-09-24T14:49:28.772361Z"
    },
    "pycharm": {
     "name": "#%%\n"
    }
   },
   "outputs": [
    {
     "data": {
      "text/plain": "<AxesSubplot:ylabel='Type'>"
     },
     "execution_count": 16,
     "metadata": {},
     "output_type": "execute_result"
    },
    {
     "data": {
      "text/plain": "<Figure size 432x288 with 1 Axes>",
      "image/png": "[encoded data removed]"
     },
     "metadata": {},
     "output_type": "display_data"
    }
   ],
   "source": [
    "melbourne.Type.value_counts().plot.pie()"
   ]
  },
  {
   "cell_type": "markdown",
   "metadata": {
    "pycharm": {
     "name": "#%% md\n"
    }
   },
   "source": [
    "- Add a column to the dataset with the `Date`'s year and name it `Year`."
   ]
  },
  {
   "cell_type": "code",
   "execution_count": 34,
   "metadata": {
    "ExecuteTime": {
     "end_time": "2021-09-24T14:49:31.064030Z",
     "start_time": "2021-09-24T14:49:31.014205Z"
    },
    "scrolled": true,
    "pycharm": {
     "name": "#%%\n"
    }
   },
   "outputs": [],
   "source": [
    "melbourne['Year'] = melbourne['Date'].dt.year"
   ]
  },
  {
   "cell_type": "markdown",
   "metadata": {
    "pycharm": {
     "name": "#%% md\n"
    }
   },
   "source": [
    "- Create a subset of the data consisting of the columns Year, Suburb, Price, Rooms, Type, Bathroom, Car, Landsize, BuildingArea and YearBuilt."
   ]
  },
  {
   "cell_type": "code",
   "execution_count": 35,
   "metadata": {
    "ExecuteTime": {
     "end_time": "2021-09-24T14:49:40.768793Z",
     "start_time": "2021-09-24T14:49:40.737942Z"
    },
    "pycharm": {
     "name": "#%%\n"
    }
   },
   "outputs": [],
   "source": [
    "melbourne_subset = melbourne[['Year', 'Suburb', 'Price', 'Rooms', 'Type', 'Bathroom', 'Car', 'Landsize', 'BuildingArea', 'YearBuilt']]"
   ]
  },
  {
   "cell_type": "markdown",
   "metadata": {
    "pycharm": {
     "name": "#%% md\n"
    }
   },
   "source": [
    "- Print the summary statistics for these attributes."
   ]
  },
  {
   "cell_type": "code",
   "execution_count": 36,
   "metadata": {
    "ExecuteTime": {
     "end_time": "2021-09-24T14:49:45.583646Z",
     "start_time": "2021-09-24T14:49:45.532577Z"
    },
    "pycharm": {
     "name": "#%%\n"
    }
   },
   "outputs": [
    {
     "data": {
      "text/plain": "               Year         Price         Rooms      Bathroom           Car  \\\ncount  34857.000000  2.724700e+04  34857.000000  26631.000000  26129.000000   \nmean    2016.839946  1.050173e+06      3.031012      1.624798      1.728845   \nstd        0.636292  6.414671e+05      0.969933      0.724212      1.010771   \nmin     2016.000000  8.500000e+04      1.000000      0.000000      0.000000   \n25%     2016.000000  6.350000e+05      2.000000      1.000000      1.000000   \n50%     2017.000000  8.700000e+05      3.000000      2.000000      2.000000   \n75%     2017.000000  1.295000e+06      4.000000      2.000000      2.000000   \nmax     2018.000000  1.120000e+07     16.000000     12.000000     26.000000   \n\n            Landsize  BuildingArea     YearBuilt  \ncount   23047.000000   13742.00000  15551.000000  \nmean      593.598993     160.25640   1965.289885  \nstd      3398.841946     401.26706     37.328178  \nmin         0.000000       0.00000   1196.000000  \n25%       224.000000     102.00000   1940.000000  \n50%       521.000000     136.00000   1970.000000  \n75%       670.000000     188.00000   2000.000000  \nmax    433014.000000   44515.00000   2106.000000  ",
      "text/html": "<div>\n<style scoped>\n    .dataframe tbody tr th:only-of-type {\n        vertical-align: middle;\n    }\n\n    .dataframe tbody tr th {\n        vertical-align: top;\n    }\n\n    .dataframe thead th {\n        text-align: right;\n    }\n</style>\n<table border=\"1\" class=\"dataframe\">\n  <thead>\n    <tr style=\"text-align: right;\">\n      <th></th>\n      <th>Year</th>\n      <th>Price</th>\n      <th>Rooms</th>\n      <th>Bathroom</th>\n      <th>Car</th>\n      <th>Landsize</th>\n      <th>BuildingArea</th>\n      <th>YearBuilt</th>\n    </tr>\n  </thead>\n  <tbody>\n    <tr>\n      <th>count</th>\n      <td>34857.000000</td>\n      <td>2.724700e+04</td>\n      <td>34857.000000</td>\n      <td>26631.000000</td>\n      <td>26129.000000</td>\n      <td>23047.000000</td>\n      <td>13742.00000</td>\n      <td>15551.000000</td>\n    </tr>\n    <tr>\n      <th>mean</th>\n      <td>2016.839946</td>\n      <td>1.050173e+06</td>\n      <td>3.031012</td>\n      <td>1.624798</td>\n      <td>1.728845</td>\n      <td>593.598993</td>\n      <td>160.25640</td>\n      <td>1965.289885</td>\n    </tr>\n    <tr>\n      <th>std</th>\n      <td>0.636292</td>\n      <td>6.414671e+05</td>\n      <td>0.969933</td>\n      <td>0.724212</td>\n      <td>1.010771</td>\n      <td>3398.841946</td>\n      <td>401.26706</td>\n      <td>37.328178</td>\n    </tr>\n    <tr>\n      <th>min</th>\n      <td>2016.000000</td>\n      <td>8.500000e+04</td>\n      <td>1.000000</td>\n      <td>0.000000</td>\n      <td>0.000000</td>\n      <td>0.000000</td>\n      <td>0.00000</td>\n      <td>1196.000000</td>\n    </tr>\n    <tr>\n      <th>25%</th>\n      <td>2016.000000</td>\n      <td>6.350000e+05</td>\n      <td>2.000000</td>\n      <td>1.000000</td>\n      <td>1.000000</td>\n      <td>224.000000</td>\n      <td>102.00000</td>\n      <td>1940.000000</td>\n    </tr>\n    <tr>\n      <th>50%</th>\n      <td>2017.000000</td>\n      <td>8.700000e+05</td>\n      <td>3.000000</td>\n      <td>2.000000</td>\n      <td>2.000000</td>\n      <td>521.000000</td>\n      <td>136.00000</td>\n      <td>1970.000000</td>\n    </tr>\n    <tr>\n      <th>75%</th>\n      <td>2017.000000</td>\n      <td>1.295000e+06</td>\n      <td>4.000000</td>\n      <td>2.000000</td>\n      <td>2.000000</td>\n      <td>670.000000</td>\n      <td>188.00000</td>\n      <td>2000.000000</td>\n    </tr>\n    <tr>\n      <th>max</th>\n      <td>2018.000000</td>\n      <td>1.120000e+07</td>\n      <td>16.000000</td>\n      <td>12.000000</td>\n      <td>26.000000</td>\n      <td>433014.000000</td>\n      <td>44515.00000</td>\n      <td>2106.000000</td>\n    </tr>\n  </tbody>\n</table>\n</div>"
     },
     "execution_count": 36,
     "metadata": {},
     "output_type": "execute_result"
    }
   ],
   "source": [
    "melbourne_subset.describe()"
   ]
  },
  {
   "cell_type": "markdown",
   "metadata": {
    "pycharm": {
     "name": "#%% md\n"
    }
   },
   "source": [
    "- Show the most 10 expensive properties."
   ]
  },
  {
   "cell_type": "code",
   "execution_count": 39,
   "metadata": {
    "ExecuteTime": {
     "end_time": "2021-09-24T14:49:52.190622Z",
     "start_time": "2021-09-24T14:49:52.162891Z"
    },
    "scrolled": true,
    "pycharm": {
     "name": "#%%\n"
    }
   },
   "outputs": [
    {
     "data": {
      "text/plain": "       Year      Suburb       Price  Rooms Type  Bathroom  Car  Landsize  \\\n25635  2017    Brighton  11200000.0      4    h       3.0  2.0    1400.0   \n19583  2017    Mulgrave   9000000.0      3    h       1.0  1.0     744.0   \n12539  2017  Canterbury   8000000.0      5    h       5.0  4.0    2079.0   \n15696  2017    Hawthorn   7650000.0      4    h       2.0  4.0    1690.0   \n28334  2017    Armadale   7000000.0      4    h       NaN  NaN       NaN   \n20924  2017    Armadale   6800000.0      4    h       2.0  2.0       NaN   \n30551  2017     Malvern   6600000.0      5    h       3.0  2.0       NaN   \n25204  2017   Melbourne   6500000.0      3    u       NaN  NaN       NaN   \n5937   2016         Kew   6500000.0      6    h       6.0  3.0    1334.0   \n16003  2017      Toorak   6460000.0      4    h       NaN  NaN       NaN   \n\n       BuildingArea  YearBuilt  \n25635           NaN        NaN  \n19583         117.0     1960.0  \n12539         464.3     1880.0  \n15696         284.0     1863.0  \n28334           NaN        NaN  \n20924           NaN        NaN  \n30551         465.0     1940.0  \n25204           NaN        NaN  \n5937          365.0     1890.0  \n16003           NaN        NaN  ",
      "text/html": "<div>\n<style scoped>\n    .dataframe tbody tr th:only-of-type {\n        vertical-align: middle;\n    }\n\n    .dataframe tbody tr th {\n        vertical-align: top;\n    }\n\n    .dataframe thead th {\n        text-align: right;\n    }\n</style>\n<table border=\"1\" class=\"dataframe\">\n  <thead>\n    <tr style=\"text-align: right;\">\n      <th></th>\n      <th>Year</th>\n      <th>Suburb</th>\n      <th>Price</th>\n      <th>Rooms</th>\n      <th>Type</th>\n      <th>Bathroom</th>\n      <th>Car</th>\n      <th>Landsize</th>\n      <th>BuildingArea</th>\n      <th>YearBuilt</th>\n    </tr>\n  </thead>\n  <tbody>\n    <tr>\n      <th>25635</th>\n      <td>2017</td>\n      <td>Brighton</td>\n      <td>11200000.0</td>\n      <td>4</td>\n      <td>h</td>\n      <td>3.0</td>\n      <td>2.0</td>\n      <td>1400.0</td>\n      <td>NaN</td>\n      <td>NaN</td>\n    </tr>\n    <tr>\n      <th>19583</th>\n      <td>2017</td>\n      <td>Mulgrave</td>\n      <td>9000000.0</td>\n      <td>3</td>\n      <td>h</td>\n      <td>1.0</td>\n      <td>1.0</td>\n      <td>744.0</td>\n      <td>117.0</td>\n      <td>1960.0</td>\n    </tr>\n    <tr>\n      <th>12539</th>\n      <td>2017</td>\n      <td>Canterbury</td>\n      <td>8000000.0</td>\n      <td>5</td>\n      <td>h</td>\n      <td>5.0</td>\n      <td>4.0</td>\n      <td>2079.0</td>\n      <td>464.3</td>\n      <td>1880.0</td>\n    </tr>\n    <tr>\n      <th>15696</th>\n      <td>2017</td>\n      <td>Hawthorn</td>\n      <td>7650000.0</td>\n      <td>4</td>\n      <td>h</td>\n      <td>2.0</td>\n      <td>4.0</td>\n      <td>1690.0</td>\n      <td>284.0</td>\n      <td>1863.0</td>\n    </tr>\n    <tr>\n      <th>28334</th>\n      <td>2017</td>\n      <td>Armadale</td>\n      <td>7000000.0</td>\n      <td>4</td>\n      <td>h</td>\n      <td>NaN</td>\n      <td>NaN</td>\n      <td>NaN</td>\n      <td>NaN</td>\n      <td>NaN</td>\n    </tr>\n    <tr>\n      <th>20924</th>\n      <td>2017</td>\n      <td>Armadale</td>\n      <td>6800000.0</td>\n      <td>4</td>\n      <td>h</td>\n      <td>2.0</td>\n      <td>2.0</td>\n      <td>NaN</td>\n      <td>NaN</td>\n      <td>NaN</td>\n    </tr>\n    <tr>\n      <th>30551</th>\n      <td>2017</td>\n      <td>Malvern</td>\n      <td>6600000.0</td>\n      <td>5</td>\n      <td>h</td>\n      <td>3.0</td>\n      <td>2.0</td>\n      <td>NaN</td>\n      <td>465.0</td>\n      <td>1940.0</td>\n    </tr>\n    <tr>\n      <th>25204</th>\n      <td>2017</td>\n      <td>Melbourne</td>\n      <td>6500000.0</td>\n      <td>3</td>\n      <td>u</td>\n      <td>NaN</td>\n      <td>NaN</td>\n      <td>NaN</td>\n      <td>NaN</td>\n      <td>NaN</td>\n    </tr>\n    <tr>\n      <th>5937</th>\n      <td>2016</td>\n      <td>Kew</td>\n      <td>6500000.0</td>\n      <td>6</td>\n      <td>h</td>\n      <td>6.0</td>\n      <td>3.0</td>\n      <td>1334.0</td>\n      <td>365.0</td>\n      <td>1890.0</td>\n    </tr>\n    <tr>\n      <th>16003</th>\n      <td>2017</td>\n      <td>Toorak</td>\n      <td>6460000.0</td>\n      <td>4</td>\n      <td>h</td>\n      <td>NaN</td>\n      <td>NaN</td>\n      <td>NaN</td>\n      <td>NaN</td>\n      <td>NaN</td>\n    </tr>\n  </tbody>\n</table>\n</div>"
     },
     "execution_count": 39,
     "metadata": {},
     "output_type": "execute_result"
    }
   ],
   "source": [
    "melbourne_subset.sort_values(\"Price\",ascending=False).head(10)"
   ]
  },
  {
   "cell_type": "markdown",
   "metadata": {
    "pycharm": {
     "name": "#%% md\n"
    }
   },
   "source": [
    "- What is the average price? What is the maximum number of rooms? What is the average number of baths? Are there bathrooms in all properties? In which year was the newest property built? (Comment on the answer to the last question.)"
   ]
  },
  {
   "cell_type": "code",
   "execution_count": 45,
   "metadata": {
    "ExecuteTime": {
     "end_time": "2021-09-24T14:50:16.811117Z",
     "start_time": "2021-09-24T14:50:16.803581Z"
    },
    "pycharm": {
     "name": "#%%\n"
    }
   },
   "outputs": [
    {
     "data": {
      "text/plain": "2018"
     },
     "execution_count": 45,
     "metadata": {},
     "output_type": "execute_result"
    }
   ],
   "source": [
    "melbourne_subset['Price'].mean()\n",
    "melbourne_subset['Rooms'].max()\n",
    "melbourne_subset['Bathroom'].mean()\n",
    "# melbourne_subset['Bathroom'].astype('int')\n",
    "melbourne_subset['Year'].max()"
   ]
  },
  {
   "cell_type": "markdown",
   "metadata": {
    "pycharm": {
     "name": "#%% md\n"
    }
   },
   "source": [
    "- What were the average prices in 2016, 2017 and 2018?"
   ]
  },
  {
   "cell_type": "code",
   "execution_count": 48,
   "metadata": {
    "ExecuteTime": {
     "end_time": "2021-09-24T14:50:21.990817Z",
     "start_time": "2021-09-24T14:50:21.978535Z"
    },
    "pycharm": {
     "name": "#%%\n"
    }
   },
   "outputs": [
    {
     "data": {
      "text/plain": "Year\n2016    1.063227e+06\n2017    1.051144e+06\n2018    1.017458e+06\nName: Price, dtype: float64"
     },
     "execution_count": 48,
     "metadata": {},
     "output_type": "execute_result"
    }
   ],
   "source": [
    "melbourne_subset.groupby('Year').mean()['Price']"
   ]
  },
  {
   "cell_type": "markdown",
   "metadata": {
    "pycharm": {
     "name": "#%% md\n"
    }
   },
   "source": [
    "- What is the average price for all properties with at least three rooms and at least two bathrooms in the Newport area? How many such properties are in this area?"
   ]
  },
  {
   "cell_type": "code",
   "execution_count": 54,
   "metadata": {
    "ExecuteTime": {
     "end_time": "2021-09-24T14:50:24.614766Z",
     "start_time": "2021-09-24T14:50:24.602742Z"
    },
    "pycharm": {
     "name": "#%%\n"
    }
   },
   "outputs": [
    {
     "name": "stdout",
     "output_type": "stream",
     "text": [
      "1178301.3157894737\n",
      "76\n"
     ]
    }
   ],
   "source": [
    "Newport = melbourne_subset.loc[(melbourne_subset['Rooms'] >= 3) & (melbourne_subset['Bathroom'] >= 2) & (melbourne_subset['Suburb'] == 'Newport'), 'Price']\n",
    "print(Newport.mean())\n",
    "print(Newport.count())"
   ]
  },
  {
   "cell_type": "markdown",
   "metadata": {
    "pycharm": {
     "name": "#%% md\n"
    }
   },
   "source": [
    "## Tesla stock prices"
   ]
  },
  {
   "cell_type": "markdown",
   "metadata": {
    "pycharm": {
     "name": "#%% md\n"
    }
   },
   "source": [
    "The dataset TSLA.csv contains historical open, high, low, close and adj. close prices as well as the trading volume for the TSLA stock on each trading day in 2020."
   ]
  },
  {
   "cell_type": "markdown",
   "metadata": {
    "pycharm": {
     "name": "#%% md\n"
    }
   },
   "source": [
    "- Import the dataset. Use the date as the index (do not forget to import it as a date column)."
   ]
  },
  {
   "cell_type": "code",
   "execution_count": 55,
   "metadata": {
    "ExecuteTime": {
     "end_time": "2021-09-24T12:30:21.215798Z",
     "start_time": "2021-09-24T12:30:21.198263Z"
    },
    "pycharm": {
     "name": "#%%\n"
    }
   },
   "outputs": [],
   "source": [
    "tesla = pd.read_csv('data/TSLA.csv', index_col='Date', parse_dates=True)"
   ]
  },
  {
   "cell_type": "markdown",
   "metadata": {
    "pycharm": {
     "name": "#%% md\n"
    }
   },
   "source": [
    "- Select the data for March 2020."
   ]
  },
  {
   "cell_type": "code",
   "execution_count": 56,
   "metadata": {
    "ExecuteTime": {
     "end_time": "2021-09-24T12:30:22.041541Z",
     "start_time": "2021-09-24T12:30:22.021814Z"
    },
    "pycharm": {
     "name": "#%%\n"
    }
   },
   "outputs": [
    {
     "data": {
      "text/plain": "                  Open        High         Low       Close   Adj Close  \\\nDate                                                                     \n2020-03-02  142.251999  148.738007  137.334000  148.723999  148.723999   \n2020-03-03  161.000000  161.395996  143.222000  149.102005  149.102005   \n2020-03-04  152.792007  153.304001  144.945999  149.899994  149.899994   \n2020-03-05  144.753998  149.149994  143.613998  144.908005  144.908005   \n2020-03-06  138.000000  141.399994  136.854004  140.695999  140.695999   \n2020-03-09  121.078003  132.600006  121.000000  121.599998  121.599998   \n2020-03-10  131.886002  133.600006  121.599998  129.065994  129.065994   \n2020-03-11  128.039993  130.716003  122.599998  126.846001  126.846001   \n2020-03-12  116.178001  118.900002  109.250000  112.110001  112.110001   \n2020-03-13  119.000000  121.514000  100.400002  109.323997  109.323997   \n2020-03-16   93.900002   98.973999   88.433998   89.014000   89.014000   \n2020-03-17   88.001999   94.370003   79.199997   86.040001   86.040001   \n2020-03-18   77.800003   80.972000   70.101997   72.244003   72.244003   \n2020-03-19   74.940002   90.400002   71.692001   85.528000   85.528000   \n2020-03-20   87.639999   95.400002   85.157997   85.505997   85.505997   \n2020-03-23   86.720001   88.400002   82.099998   86.858002   86.858002   \n2020-03-24   95.459999  102.737999   94.800003  101.000000  101.000000   \n2020-03-25  109.050003  111.400002  102.222000  107.849998  107.849998   \n2020-03-26  109.477997  112.000000  102.449997  105.632004  105.632004   \n2020-03-27  101.000000  105.160004   98.806000  102.872002  102.872002   \n2020-03-30  102.052002  103.330002   98.246002  100.426003  100.426003   \n2020-03-31  100.250000  108.592003   99.400002  104.800003  104.800003   \n\n               Volume  \nDate                   \n2020-03-02  100975000  \n2020-03-03  128920000  \n2020-03-04   75245000  \n2020-03-05   54263500  \n2020-03-06   63314500  \n2020-03-09   85368500  \n2020-03-10   77972000  \n2020-03-11   66612500  \n2020-03-12   94545500  \n2020-03-13  113201500  \n2020-03-16  102447500  \n2020-03-17  119973000  \n2020-03-18  118931000  \n2020-03-19  150977500  \n2020-03-20  141427500  \n2020-03-23   82272500  \n2020-03-24  114476000  \n2020-03-25  106113500  \n2020-03-26   86903500  \n2020-03-27   71887000  \n2020-03-30   59990500  \n2020-03-31   88857500  ",
      "text/html": "<div>\n<style scoped>\n    .dataframe tbody tr th:only-of-type {\n        vertical-align: middle;\n    }\n\n    .dataframe tbody tr th {\n        vertical-align: top;\n    }\n\n    .dataframe thead th {\n        text-align: right;\n    }\n</style>\n<table border=\"1\" class=\"dataframe\">\n  <thead>\n    <tr style=\"text-align: right;\">\n      <th></th>\n      <th>Open</th>\n      <th>High</th>\n      <th>Low</th>\n      <th>Close</th>\n      <th>Adj Close</th>\n      <th>Volume</th>\n    </tr>\n    <tr>\n      <th>Date</th>\n      <th></th>\n      <th></th>\n      <th></th>\n      <th></th>\n      <th></th>\n      <th></th>\n    </tr>\n  </thead>\n  <tbody>\n    <tr>\n      <th>2020-03-02</th>\n      <td>142.251999</td>\n      <td>148.738007</td>\n      <td>137.334000</td>\n      <td>148.723999</td>\n      <td>148.723999</td>\n      <td>100975000</td>\n    </tr>\n    <tr>\n      <th>2020-03-03</th>\n      <td>161.000000</td>\n      <td>161.395996</td>\n      <td>143.222000</td>\n      <td>149.102005</td>\n      <td>149.102005</td>\n      <td>128920000</td>\n    </tr>\n    <tr>\n      <th>2020-03-04</th>\n      <td>152.792007</td>\n      <td>153.304001</td>\n      <td>144.945999</td>\n      <td>149.899994</td>\n      <td>149.899994</td>\n      <td>75245000</td>\n    </tr>\n    <tr>\n      <th>2020-03-05</th>\n      <td>144.753998</td>\n      <td>149.149994</td>\n      <td>143.613998</td>\n      <td>144.908005</td>\n      <td>144.908005</td>\n      <td>54263500</td>\n    </tr>\n    <tr>\n      <th>2020-03-06</th>\n      <td>138.000000</td>\n      <td>141.399994</td>\n      <td>136.854004</td>\n      <td>140.695999</td>\n      <td>140.695999</td>\n      <td>63314500</td>\n    </tr>\n    <tr>\n      <th>2020-03-09</th>\n      <td>121.078003</td>\n      <td>132.600006</td>\n      <td>121.000000</td>\n      <td>121.599998</td>\n      <td>121.599998</td>\n      <td>85368500</td>\n    </tr>\n    <tr>\n      <th>2020-03-10</th>\n      <td>131.886002</td>\n      <td>133.600006</td>\n      <td>121.599998</td>\n      <td>129.065994</td>\n      <td>129.065994</td>\n      <td>77972000</td>\n    </tr>\n    <tr>\n      <th>2020-03-11</th>\n      <td>128.039993</td>\n      <td>130.716003</td>\n      <td>122.599998</td>\n      <td>126.846001</td>\n      <td>126.846001</td>\n      <td>66612500</td>\n    </tr>\n    <tr>\n      <th>2020-03-12</th>\n      <td>116.178001</td>\n      <td>118.900002</td>\n      <td>109.250000</td>\n      <td>112.110001</td>\n      <td>112.110001</td>\n      <td>94545500</td>\n    </tr>\n    <tr>\n      <th>2020-03-13</th>\n      <td>119.000000</td>\n      <td>121.514000</td>\n      <td>100.400002</td>\n      <td>109.323997</td>\n      <td>109.323997</td>\n      <td>113201500</td>\n    </tr>\n    <tr>\n      <th>2020-03-16</th>\n      <td>93.900002</td>\n      <td>98.973999</td>\n      <td>88.433998</td>\n      <td>89.014000</td>\n      <td>89.014000</td>\n      <td>102447500</td>\n    </tr>\n    <tr>\n      <th>2020-03-17</th>\n      <td>88.001999</td>\n      <td>94.370003</td>\n      <td>79.199997</td>\n      <td>86.040001</td>\n      <td>86.040001</td>\n      <td>119973000</td>\n    </tr>\n    <tr>\n      <th>2020-03-18</th>\n      <td>77.800003</td>\n      <td>80.972000</td>\n      <td>70.101997</td>\n      <td>72.244003</td>\n      <td>72.244003</td>\n      <td>118931000</td>\n    </tr>\n    <tr>\n      <th>2020-03-19</th>\n      <td>74.940002</td>\n      <td>90.400002</td>\n      <td>71.692001</td>\n      <td>85.528000</td>\n      <td>85.528000</td>\n      <td>150977500</td>\n    </tr>\n    <tr>\n      <th>2020-03-20</th>\n      <td>87.639999</td>\n      <td>95.400002</td>\n      <td>85.157997</td>\n      <td>85.505997</td>\n      <td>85.505997</td>\n      <td>141427500</td>\n    </tr>\n    <tr>\n      <th>2020-03-23</th>\n      <td>86.720001</td>\n      <td>88.400002</td>\n      <td>82.099998</td>\n      <td>86.858002</td>\n      <td>86.858002</td>\n      <td>82272500</td>\n    </tr>\n    <tr>\n      <th>2020-03-24</th>\n      <td>95.459999</td>\n      <td>102.737999</td>\n      <td>94.800003</td>\n      <td>101.000000</td>\n      <td>101.000000</td>\n      <td>114476000</td>\n    </tr>\n    <tr>\n      <th>2020-03-25</th>\n      <td>109.050003</td>\n      <td>111.400002</td>\n      <td>102.222000</td>\n      <td>107.849998</td>\n      <td>107.849998</td>\n      <td>106113500</td>\n    </tr>\n    <tr>\n      <th>2020-03-26</th>\n      <td>109.477997</td>\n      <td>112.000000</td>\n      <td>102.449997</td>\n      <td>105.632004</td>\n      <td>105.632004</td>\n      <td>86903500</td>\n    </tr>\n    <tr>\n      <th>2020-03-27</th>\n      <td>101.000000</td>\n      <td>105.160004</td>\n      <td>98.806000</td>\n      <td>102.872002</td>\n      <td>102.872002</td>\n      <td>71887000</td>\n    </tr>\n    <tr>\n      <th>2020-03-30</th>\n      <td>102.052002</td>\n      <td>103.330002</td>\n      <td>98.246002</td>\n      <td>100.426003</td>\n      <td>100.426003</td>\n      <td>59990500</td>\n    </tr>\n    <tr>\n      <th>2020-03-31</th>\n      <td>100.250000</td>\n      <td>108.592003</td>\n      <td>99.400002</td>\n      <td>104.800003</td>\n      <td>104.800003</td>\n      <td>88857500</td>\n    </tr>\n  </tbody>\n</table>\n</div>"
     },
     "execution_count": 56,
     "metadata": {},
     "output_type": "execute_result"
    }
   ],
   "source": [
    "tesla.loc['2020-03']"
   ]
  },
  {
   "cell_type": "markdown",
   "metadata": {
    "pycharm": {
     "name": "#%% md\n"
    }
   },
   "source": [
    "- Create a line plot of the close price (as a function of time)."
   ]
  },
  {
   "cell_type": "code",
   "execution_count": 57,
   "metadata": {
    "ExecuteTime": {
     "end_time": "2021-09-24T12:30:23.316984Z",
     "start_time": "2021-09-24T12:30:22.925622Z"
    },
    "pycharm": {
     "name": "#%%\n"
    }
   },
   "outputs": [
    {
     "data": {
      "text/plain": "<AxesSubplot:xlabel='Date'>"
     },
     "execution_count": 57,
     "metadata": {},
     "output_type": "execute_result"
    },
    {
     "data": {
      "text/plain": "<Figure size 432x288 with 1 Axes>",
      "image/png": "[encoded data removed]"
     },
     "metadata": {
      "needs_background": "light"
     },
     "output_type": "display_data"
    }
   ],
   "source": [
    "tesla.plot.line(y='Close')"
   ]
  },
  {
   "cell_type": "markdown",
   "metadata": {
    "pycharm": {
     "name": "#%% md\n"
    }
   },
   "source": [
    "- Calculate and plot the daily returns (in percents). (Hint: look up the `shift` method in the documentation.)"
   ]
  },
  {
   "cell_type": "code",
   "execution_count": 59,
   "metadata": {
    "scrolled": true,
    "pycharm": {
     "name": "#%%\n"
    }
   },
   "outputs": [
    {
     "data": {
      "text/plain": "<AxesSubplot:xlabel='Date'>"
     },
     "execution_count": 59,
     "metadata": {},
     "output_type": "execute_result"
    },
    {
     "data": {
      "text/plain": "<Figure size 432x288 with 1 Axes>",
      "image/png": "[encoded data removed]"
     },
     "metadata": {
      "needs_background": "light"
     },
     "output_type": "display_data"
    }
   ],
   "source": [
    "tesla['Returns'] = tesla['Close'].pct_change()\n",
    "tesla.plot.line(y='Returns')"
   ]
  }
 ],
 "metadata": {
  "kernelspec": {
   "display_name": "Python 3 (ipykernel)",
   "language": "python",
   "name": "python3"
  },
  "language_info": {
   "codemirror_mode": {
    "name": "ipython",
    "version": 3
   },
   "file_extension": ".py",
   "mimetype": "text/x-python",
   "name": "python",
   "nbconvert_exporter": "python",
   "pygments_lexer": "ipython3",
   "version": "3.9.12"
  }
 },
 "nbformat": 4,
 "nbformat_minor": 2
}