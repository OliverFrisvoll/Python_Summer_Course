{
 "cells": [
  {
   "cell_type": "markdown",
   "id": "ab31fbbf",
   "metadata": {
    "pycharm": {
     "name": "#%% md\n"
    }
   },
   "source": [
    "# Merge example"
   ]
  },
  {
   "cell_type": "code",
   "execution_count": 1,
   "id": "88234885",
   "metadata": {
    "pycharm": {
     "name": "#%%\n"
    }
   },
   "outputs": [],
   "source": [
    "import pandas as pd"
   ]
  },
  {
   "cell_type": "code",
   "execution_count": 4,
   "id": "b3837648",
   "metadata": {
    "pycharm": {
     "name": "#%%\n"
    }
   },
   "outputs": [
    {
     "data": {
      "text/plain": "              city\ncode              \n5304      HETLEVIK\n5695        UGGDAL\n3002       DRAMMEN\n6533        AVERØY\n9536   KORSFJORDEN\n5243          FANA\n2404       ELVERUM\n2058  SESSVOLLMOEN\n6083    GJERDSVIKA\n6292      KJERSTAD",
      "text/html": "<div>\n<style scoped>\n    .dataframe tbody tr th:only-of-type {\n        vertical-align: middle;\n    }\n\n    .dataframe tbody tr th {\n        vertical-align: top;\n    }\n\n    .dataframe thead th {\n        text-align: right;\n    }\n</style>\n<table border=\"1\" class=\"dataframe\">\n  <thead>\n    <tr style=\"text-align: right;\">\n      <th></th>\n      <th>city</th>\n    </tr>\n    <tr>\n      <th>code</th>\n      <th></th>\n    </tr>\n  </thead>\n  <tbody>\n    <tr>\n      <th>5304</th>\n      <td>HETLEVIK</td>\n    </tr>\n    <tr>\n      <th>5695</th>\n      <td>UGGDAL</td>\n    </tr>\n    <tr>\n      <th>3002</th>\n      <td>DRAMMEN</td>\n    </tr>\n    <tr>\n      <th>6533</th>\n      <td>AVERØY</td>\n    </tr>\n    <tr>\n      <th>9536</th>\n      <td>KORSFJORDEN</td>\n    </tr>\n    <tr>\n      <th>5243</th>\n      <td>FANA</td>\n    </tr>\n    <tr>\n      <th>2404</th>\n      <td>ELVERUM</td>\n    </tr>\n    <tr>\n      <th>2058</th>\n      <td>SESSVOLLMOEN</td>\n    </tr>\n    <tr>\n      <th>6083</th>\n      <td>GJERDSVIKA</td>\n    </tr>\n    <tr>\n      <th>6292</th>\n      <td>KJERSTAD</td>\n    </tr>\n  </tbody>\n</table>\n</div>"
     },
     "execution_count": 4,
     "metadata": {},
     "output_type": "execute_result"
    }
   ],
   "source": [
    "postcodes = pd.read_excel(\"data/postcodes.xlsx\", dtype=\"string\").set_index(\"code\")\n",
    "postcodes.sample(10)"
   ]
  },
  {
   "cell_type": "code",
   "execution_count": 5,
   "id": "f739d862",
   "metadata": {
    "hide_input": false,
    "scrolled": true,
    "pycharm": {
     "name": "#%%\n"
    }
   },
   "outputs": [
    {
     "data": {
      "text/plain": "  first_name     last_name postcode\n0      Oscar           Aga     7770\n1       Tina  Alexandersen     3740\n2      Bernt         Alnes     5644\n3      Sigve      Askevold     9999\n4      Runar           Asp     5841",
      "text/html": "<div>\n<style scoped>\n    .dataframe tbody tr th:only-of-type {\n        vertical-align: middle;\n    }\n\n    .dataframe tbody tr th {\n        vertical-align: top;\n    }\n\n    .dataframe thead th {\n        text-align: right;\n    }\n</style>\n<table border=\"1\" class=\"dataframe\">\n  <thead>\n    <tr style=\"text-align: right;\">\n      <th></th>\n      <th>first_name</th>\n      <th>last_name</th>\n      <th>postcode</th>\n    </tr>\n  </thead>\n  <tbody>\n    <tr>\n      <th>0</th>\n      <td>Oscar</td>\n      <td>Aga</td>\n      <td>7770</td>\n    </tr>\n    <tr>\n      <th>1</th>\n      <td>Tina</td>\n      <td>Alexandersen</td>\n      <td>3740</td>\n    </tr>\n    <tr>\n      <th>2</th>\n      <td>Bernt</td>\n      <td>Alnes</td>\n      <td>5644</td>\n    </tr>\n    <tr>\n      <th>3</th>\n      <td>Sigve</td>\n      <td>Askevold</td>\n      <td>9999</td>\n    </tr>\n    <tr>\n      <th>4</th>\n      <td>Runar</td>\n      <td>Asp</td>\n      <td>5841</td>\n    </tr>\n  </tbody>\n</table>\n</div>"
     },
     "execution_count": 5,
     "metadata": {},
     "output_type": "execute_result"
    }
   ],
   "source": [
    "people = pd.DataFrame([\n",
    "    ['Oscar', 'Aga', '7770'],\n",
    "    ['Tina', 'Alexandersen', '3740'],\n",
    "    ['Bernt', 'Alnes', '5644'],\n",
    "    ['Sigve', 'Askevold', '9999'],\n",
    "    ['Runar', 'Asp', '5841']\n",
    "], columns=['first_name', 'last_name', 'postcode'])\n",
    "people.head()"
   ]
  },
  {
   "cell_type": "markdown",
   "id": "26549eda",
   "metadata": {
    "pycharm": {
     "name": "#%% md\n"
    }
   },
   "source": [
    "We would like to add the `city` column based on the `postcode`:"
   ]
  },
  {
   "cell_type": "code",
   "execution_count": 6,
   "id": "13d2157b",
   "metadata": {
    "pycharm": {
     "name": "#%%\n"
    }
   },
   "outputs": [
    {
     "data": {
      "text/plain": "  first_name     last_name postcode       city\n0      Oscar           Aga     7770  FLATANGER\n1       Tina  Alexandersen     3740      SKIEN\n2      Bernt         Alnes     5644   SÆVAREID\n3      Sigve      Askevold     9999       <NA>\n4      Runar           Asp     5841     BERGEN",
      "text/html": "<div>\n<style scoped>\n    .dataframe tbody tr th:only-of-type {\n        vertical-align: middle;\n    }\n\n    .dataframe tbody tr th {\n        vertical-align: top;\n    }\n\n    .dataframe thead th {\n        text-align: right;\n    }\n</style>\n<table border=\"1\" class=\"dataframe\">\n  <thead>\n    <tr style=\"text-align: right;\">\n      <th></th>\n      <th>first_name</th>\n      <th>last_name</th>\n      <th>postcode</th>\n      <th>city</th>\n    </tr>\n  </thead>\n  <tbody>\n    <tr>\n      <th>0</th>\n      <td>Oscar</td>\n      <td>Aga</td>\n      <td>7770</td>\n      <td>FLATANGER</td>\n    </tr>\n    <tr>\n      <th>1</th>\n      <td>Tina</td>\n      <td>Alexandersen</td>\n      <td>3740</td>\n      <td>SKIEN</td>\n    </tr>\n    <tr>\n      <th>2</th>\n      <td>Bernt</td>\n      <td>Alnes</td>\n      <td>5644</td>\n      <td>SÆVAREID</td>\n    </tr>\n    <tr>\n      <th>3</th>\n      <td>Sigve</td>\n      <td>Askevold</td>\n      <td>9999</td>\n      <td>&lt;NA&gt;</td>\n    </tr>\n    <tr>\n      <th>4</th>\n      <td>Runar</td>\n      <td>Asp</td>\n      <td>5841</td>\n      <td>BERGEN</td>\n    </tr>\n  </tbody>\n</table>\n</div>"
     },
     "execution_count": 6,
     "metadata": {},
     "output_type": "execute_result"
    }
   ],
   "source": [
    "pd.merge(people, postcodes, how=\"left\", left_on=\"postcode\", right_index=True)"
   ]
  }
 ],
 "metadata": {
  "kernelspec": {
   "display_name": "Python 3 (ipykernel)",
   "language": "python",
   "name": "python3"
  },
  "language_info": {
   "codemirror_mode": {
    "name": "ipython",
    "version": 3
   },
   "file_extension": ".py",
   "mimetype": "text/x-python",
   "name": "python",
   "nbconvert_exporter": "python",
   "pygments_lexer": "ipython3",
   "version": "3.9.12"
  }
 },
 "nbformat": 4,
 "nbformat_minor": 5
}