{
 "cells": [
  {
   "cell_type": "markdown",
   "metadata": {
    "pycharm": {
     "name": "#%% md\n"
    }
   },
   "source": [
    "# Problem set 3"
   ]
  },
  {
   "cell_type": "code",
   "execution_count": null,
   "metadata": {
    "ExecuteTime": {
     "end_time": "2021-09-20T11:15:40.291417Z",
     "start_time": "2021-09-20T11:15:40.288305Z"
    },
    "pycharm": {
     "name": "#%%\n"
    }
   },
   "outputs": [],
   "source": [
    "import numpy as np\n",
    "import numpy.random as npr"
   ]
  },
  {
   "cell_type": "markdown",
   "metadata": {
    "pycharm": {
     "name": "#%% md\n"
    }
   },
   "source": [
    "### Exercise 1\n",
    "\n",
    "Write a Python function that accepts a list and checks if all elements are distinct.\n",
    "\n",
    "#### Sample arguments and return values:\n",
    "\n",
    "    Argument: [1, 2, 3, 4, 5]\n",
    "    Returns: True\n",
    "    \n",
    "    Argument: [1, 2, 3, 2, 5]\n",
    "    Returns: False"
   ]
  },
  {
   "cell_type": "code",
   "execution_count": null,
   "metadata": {
    "ExecuteTime": {
     "end_time": "2021-09-20T10:53:54.506307Z",
     "start_time": "2021-09-20T10:53:54.501404Z"
    },
    "pycharm": {
     "name": "#%%\n"
    }
   },
   "outputs": [],
   "source": [
    "def is_unique(lst):\n",
    "    # Your code here\n",
    "\n",
    "print(is_unique([1, 2, 3, 4, 5]))\n",
    "print(is_unique([1, 2, 3, 2, 5]))"
   ]
  },
  {
   "cell_type": "markdown",
   "metadata": {
    "pycharm": {
     "name": "#%% md\n"
    }
   },
   "source": [
    "### Exercise 2\n",
    "\n",
    "1. Write (and test) a function that checks if 3 (an integer) is in a given list.\n",
    "1. Write (and test) a function that returns the count of all 3s in a given list.\n",
    "1. Write (and test) a function that checks if there are at least two consecutive elements both being 3.\n",
    "1. Write (and test) a function that returns indexes of all 3s in a given list.\n",
    "1. Write (and test) a function that returns a copy of a given list with all 3s replaced with 4.\n",
    "1. Write (and test) a function that swaps the elements at indexes 3 and 4. (Assume that the list has at least 5 elements. You can choose if you want to do it in-place or return a new list.)"
   ]
  },
  {
   "cell_type": "code",
   "execution_count": null,
   "metadata": {
    "ExecuteTime": {
     "end_time": "2021-06-25T08:57:29.166579Z",
     "start_time": "2021-06-25T08:57:29.154019Z"
    },
    "hide_input": false,
    "pycharm": {
     "name": "#%%\n"
    }
   },
   "outputs": [],
   "source": []
  },
  {
   "cell_type": "markdown",
   "metadata": {
    "pycharm": {
     "name": "#%% md\n"
    }
   },
   "source": [
    "### Exercise 3\n",
    "\n",
    "Implement the game of [Rock paper scissors](https://en.wikipedia.org/wiki/Rock_paper_scissors) in Python. Ask the user for the shapes selected by both players and then print out who the winner is (or if it is a tie). You can assume that the user enters valid shapes.\n",
    "\n",
    "#### Sample executions:\n",
    "    \n",
    "    Player 1 [rock/paper/scissors]: rock\n",
    "    Player 2 [rock/paper/scissors]: paper\n",
    "    Player 2 has won.\n",
    "\n",
    "    Player 1 [rock/paper/scissors]: scissors\n",
    "    Player 2 [rock/paper/scissors]: paper\n",
    "    Player 1 has won.\n",
    "\n",
    "    Player 1 [rock/paper/scissors]: paper\n",
    "    Player 2 [rock/paper/scissors]: paper\n",
    "    It is a tie!"
   ]
  },
  {
   "cell_type": "code",
   "execution_count": null,
   "metadata": {
    "ExecuteTime": {
     "end_time": "2021-09-20T11:54:36.259522Z",
     "start_time": "2021-09-20T11:54:30.291501Z"
    },
    "pycharm": {
     "name": "#%%\n"
    }
   },
   "outputs": [],
   "source": []
  },
  {
   "cell_type": "markdown",
   "metadata": {
    "pycharm": {
     "name": "#%% md\n"
    }
   },
   "source": [
    "### Exercise 4\n",
    "\n",
    "Define the following 2-dimensional NumPy array:\n",
    "\n",
    "$$ Y=\\left[\\begin{array}{ccc}\n",
    "1 & 2 & 3\\\\\n",
    "4 & 5 & 6\\\\\n",
    "7 & 8 & 9\n",
    "\\end{array}\\right] $$\n",
    "         \n",
    "- Print the shape and size of $Y$.\n",
    "- Compute the rank of $Y$ (use online resources to learn what the rank is and what NumPy function or method to use).\n",
    "- Compute the transpose of $Y$.\n",
    "- Select the following sub-matrices of $Y$:\n",
    "\n",
    "  $$ Y_1 = \\left[\\begin{array}{cc}\n",
    "  1 & 2\\\\\n",
    "  4 & 5\n",
    "  \\end{array}\\right] $$\n",
    "          \n",
    "  $$ Y_2 =\\left[\\begin{array}{cc}\n",
    "  5 & 6\\\\\n",
    "  8 & 9\n",
    "  \\end{array}\\right] $$\n",
    "\n",
    "- Compute $Y_1 + Y_2$.\n",
    "- Compute the matrix product $Y_1 Y_2$ and element-wise product $Y_1 \\circ Y_2$ (also known as Hadamard product)."
   ]
  },
  {
   "cell_type": "code",
   "execution_count": null,
   "metadata": {
    "ExecuteTime": {
     "end_time": "2021-09-20T11:12:44.018111Z",
     "start_time": "2021-09-20T11:12:44.008492Z"
    },
    "pycharm": {
     "name": "#%%\n"
    }
   },
   "outputs": [],
   "source": []
  },
  {
   "cell_type": "markdown",
   "metadata": {
    "pycharm": {
     "name": "#%% md\n"
    }
   },
   "source": [
    "### Exercise 5\n",
    "\n",
    "Recall Exercise 7 from the last set:\n",
    "\n",
    "*Write a program that asks the user for floating-point numbers in a loop until the user enters \"done\", and then prints the maximum and minimum of these numbers.*\n",
    "\n",
    "Update the program and store the numbers in a NumPy array. Instead of maximum and minimum, calculate the mean, the standard deviation, the 1st quartile, the median, and the 3rd quartile (hint: use `quantile` or `percentile` method).\n",
    "\n",
    "Sample input and output:\n",
    "\n",
    "    Enter a number: 6.1\n",
    "    Enter a number: 2.7\n",
    "    Enter a number: -9.5\n",
    "    Enter a number: 3.4\n",
    "    Enter a number: 5.8\n",
    "    Enter a number: done\n",
    "    Mean: 1.70\n",
    "    Std. deviation: 5.75\n",
    "    1st quartile: 2.70\n",
    "    Median: 3.40\n",
    "    3rd quartile: 5.80"
   ]
  },
  {
   "cell_type": "code",
   "execution_count": null,
   "metadata": {
    "ExecuteTime": {
     "end_time": "2021-09-20T10:22:53.873052Z",
     "start_time": "2021-09-20T10:22:45.128045Z"
    },
    "scrolled": true,
    "pycharm": {
     "name": "#%%\n"
    }
   },
   "outputs": [],
   "source": []
  },
  {
   "cell_type": "markdown",
   "metadata": {
    "pycharm": {
     "name": "#%% md\n"
    }
   },
   "source": [
    "### Exercise 6 (Sudoku)\n",
    "\n",
    "Write a function that will check if a 9 x 9 grid with numbers (given as a NumPy array of integers) is a valid solution of classic [Sudoku](https://en.wikipedia.org/wiki/Sudoku), in other words, a function that checks if:\n",
    "\n",
    "- each row contains all digits from 1 to 9,\n",
    "- each column contains all digits from 1 to 9,\n",
    "- each of the nine 3 x 3 blocks that compose the grid contains all digits from 1 to 9.\n",
    "\n",
    "Hint:\n",
    "- To check if all digits from 1 to 9 are in a NumPy sub-array `x`, you can use `sorted(x.flatten()) == [1, 2, 3, 4, 5, 6, 7, 8, 9]`.\n",
    "\n",
    "Example of a valid Sudoku solution:\n",
    "```\n",
    "grid = np.array([[6, 5, 1, 2, 3, 8, 4, 9, 7],\n",
    "                 [7, 9, 2, 1, 4, 5, 8, 6, 3],\n",
    "                 [4, 3, 8, 6, 7, 9, 5, 2, 1],\n",
    "                 [3, 8, 6, 5, 2, 7, 9, 1, 4],\n",
    "                 [2, 1, 7, 4, 9, 3, 6, 8, 5],\n",
    "                 [5, 4, 9, 8, 6, 1, 7, 3, 2],\n",
    "                 [1, 7, 3, 9, 8, 4, 2, 5, 6],\n",
    "                 [9, 2, 4, 3, 5, 6, 1, 7, 8],\n",
    "                 [8, 6, 5, 7, 1, 2, 3, 4, 9]])\n",
    "```\n",
    "Find also examples that are not valid Sudoku solutions and check that your function returns `False`."
   ]
  },
  {
   "cell_type": "code",
   "execution_count": null,
   "metadata": {
    "pycharm": {
     "name": "#%%\n"
    }
   },
   "outputs": [],
   "source": []
  },
  {
   "cell_type": "markdown",
   "metadata": {
    "pycharm": {
     "name": "#%% md\n"
    }
   },
   "source": [
    "### Exercise 7 (Linear regression)\n",
    "\n",
    "1. Prepare a data set which we will use for a linear regression analysis in step 2.\n",
    "\n",
    "   - Generate a column vector $\\mathbf{x} = \\{x_i\\}$ consisting of 8 samples $x_i$ drawn randomly from a uniform distribution between 0 and 10.\n",
    "   - Generate a column vector $\\mathbf{y} = \\{y_i\\}$, where $y_i = 20 + 2 x_i + \\epsilon_i$, where $\\epsilon_i$ denotes random noise drawn from a Gaussian distribution with zero mean and standard deviation 1.5.\n",
    "\n",
    "\n",
    "2. Use the normal equation\n",
    "   $$ \\hat{\\boldsymbol{\\beta}} = \\left(\\mathrm{X}^{\\mathsf{T}}\\mathrm{X}\\right)^{-1}\\mathrm{X}^{\\mathsf{T}}\\mathbf{y} $$\n",
    "   to estimate the coefficient vector $\\boldsymbol{\\beta}$ (with the intercept and the slope) of the least-squares line. In the equation, $\\mathrm{X}$ denotes a matrix that consists of two columns: the elements in the first column are all ones, the second column is the vector $\\mathbf{x}$.\n"
   ]
  },
  {
   "cell_type": "code",
   "execution_count": null,
   "metadata": {
    "pycharm": {
     "name": "#%%\n"
    }
   },
   "outputs": [],
   "source": []
  }
 ],
 "metadata": {
  "kernelspec": {
   "display_name": "Python 3 (ipykernel)",
   "language": "python",
   "name": "python3"
  },
  "language_info": {
   "codemirror_mode": {
    "name": "ipython",
    "version": 3
   },
   "file_extension": ".py",
   "mimetype": "text/x-python",
   "name": "python",
   "nbconvert_exporter": "python",
   "pygments_lexer": "ipython3",
   "version": "3.9.12"
  },
  "varInspector": {
   "cols": {
    "lenName": 16,
    "lenType": 16,
    "lenVar": 40
   },
   "kernels_config": {
    "python": {
     "delete_cmd_postfix": "",
     "delete_cmd_prefix": "del ",
     "library": "var_list.py",
     "varRefreshCmd": "print(var_dic_list())"
    },
    "r": {
     "delete_cmd_postfix": ") ",
     "delete_cmd_prefix": "rm(",
     "library": "var_list.r",
     "varRefreshCmd": "cat(var_dic_list()) "
    }
   },
   "types_to_exclude": [
    "module",
    "function",
    "builtin_function_or_method",
    "instance",
    "_Feature"
   ],
   "window_display": false
  }
 },
 "nbformat": 4,
 "nbformat_minor": 2
}