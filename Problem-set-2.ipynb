{
 "cells": [
  {
   "cell_type": "markdown",
   "metadata": {
    "pycharm": {
     "name": "#%% md\n"
    }
   },
   "source": [
    "# Problem set 2"
   ]
  },
  {
   "cell_type": "markdown",
   "metadata": {
    "pycharm": {
     "name": "#%% md\n"
    }
   },
   "source": [
    "### Exercise 1\n",
    "\n",
    "Using a loop, create the following lists:\n",
    "\n",
    "1. a list containing the squares of all numbers between 5 and 25,\n",
    "2. a list with all numbers between 1 and 50 that are divisible by 3."
   ]
  },
  {
   "cell_type": "code",
   "execution_count": null,
   "metadata": {
    "pycharm": {
     "name": "#%%\n"
    }
   },
   "outputs": [],
   "source": []
  },
  {
   "cell_type": "markdown",
   "metadata": {
    "pycharm": {
     "name": "#%% md\n"
    }
   },
   "source": [
    "### Exercise 2\n",
    "\n",
    "Create the lists from the previous exercise using list comprehensions."
   ]
  },
  {
   "cell_type": "code",
   "execution_count": null,
   "metadata": {
    "pycharm": {
     "name": "#%%\n"
    }
   },
   "outputs": [],
   "source": []
  },
  {
   "cell_type": "markdown",
   "metadata": {
    "pycharm": {
     "name": "#%% md\n"
    }
   },
   "source": [
    "### Exercise 3\n",
    "\n",
    "Write a function that accepts two lists and returns their intersection, i.e. elements that exist in both arrays. (You can assume that there are no duplicate elements in either of the lists.)\n",
    "\n",
    "1. Use a `for` loop.\n",
    "2. Change the function and use a list comprehension.\n",
    "\n",
    "Test your function using the following lists:\n",
    "\n",
    "    [1, 2, 3, 4, 6, 9]\n",
    "\t[2, 3, 4, 5]"
   ]
  },
  {
   "cell_type": "code",
   "execution_count": null,
   "metadata": {
    "pycharm": {
     "name": "#%%\n"
    }
   },
   "outputs": [],
   "source": [
    "def list_intersection(list1, list2):\n",
    "    pass\n",
    "    # Your code here\n",
    "\n",
    "# Test your function here"
   ]
  },
  {
   "cell_type": "markdown",
   "metadata": {
    "pycharm": {
     "name": "#%% md\n"
    }
   },
   "source": [
    "### Exercise 4\n",
    "\n",
    "Write a function that accepts a list, and returns a its copy without duplicates.\n",
    "\n",
    "For example, if the input is `[1, 1, 2, 1, 3, 2, 4, 4, 5]`, the function returns `[1, 2, 3, 4, 5]`."
   ]
  },
  {
   "cell_type": "code",
   "execution_count": null,
   "metadata": {
    "pycharm": {
     "name": "#%%\n"
    }
   },
   "outputs": [],
   "source": [
    "def unique(alist):\n",
    "    pass\n",
    "    # Your code here\n",
    "\n",
    "# Test your function here"
   ]
  },
  {
   "cell_type": "markdown",
   "metadata": {
    "pycharm": {
     "name": "#%% md\n"
    }
   },
   "source": [
    "### Exercise 5\n",
    "\n",
    "Write a function to multiply all (integer) numbers in a list.\n",
    "\n",
    "For example, if the input is `[1, 2, 3, -4]`, the function returns `-24`."
   ]
  },
  {
   "cell_type": "code",
   "execution_count": null,
   "metadata": {
    "scrolled": true,
    "pycharm": {
     "name": "#%%\n"
    }
   },
   "outputs": [],
   "source": [
    "def product(numbers):\n",
    "    pass\n",
    "    # Your code here\n",
    "    \n",
    "# Test your function here"
   ]
  },
  {
   "cell_type": "markdown",
   "metadata": {
    "pycharm": {
     "name": "#%% md\n"
    }
   },
   "source": [
    "### Exercise 6\n",
    "\n",
    "1. Create an empty tuple.\n",
    "2. Create a tuple containing values of different types.\n",
    "3. Convert this tuple to a list.\n",
    "4. Write a function that accepts a tuple and moves the first element to the end of the tuple, and returns the new tuple. Remember that tuples are immutable. For example, if the argument of the function is `(1, 2, 3)`, the function will return `(2, 3, 1)`."
   ]
  },
  {
   "cell_type": "code",
   "execution_count": null,
   "metadata": {
    "pycharm": {
     "name": "#%%\n"
    }
   },
   "outputs": [],
   "source": []
  },
  {
   "cell_type": "markdown",
   "metadata": {
    "pycharm": {
     "name": "#%% md\n"
    }
   },
   "source": [
    "### Exercise 7\n",
    "\n",
    "Write a program that asks the user for floating-point numbers in a loop until the user enters \"done\", and then prints the maximum and minimum of these numbers. (Store the numbers in a list and use the `max` and `min` functions to calculate the maximum and minimum.)\n",
    "\n",
    "Sample input and output:\n",
    "\n",
    "    Enter a number: 6\n",
    "    Enter a number: 2\n",
    "    Enter a number: 9\n",
    "    Enter a number: 3\n",
    "    Enter a number: 5\n",
    "    Enter a number: done\n",
    "    Maximum: 9.0\n",
    "    Minimum: 2.0"
   ]
  },
  {
   "cell_type": "code",
   "execution_count": null,
   "metadata": {
    "pycharm": {
     "name": "#%%\n"
    }
   },
   "outputs": [],
   "source": []
  },
  {
   "cell_type": "markdown",
   "metadata": {
    "pycharm": {
     "name": "#%% md\n"
    }
   },
   "source": [
    "### Exercise 8\n",
    "\n",
    "The file `quiz_score.txt` contains a list of scores between 0 and 10. Inspect the file and note that each score is on a separate line. Count and print the number of occurrence for each score. (Loop over all possible score values and use the `count` method to get the number of occurrences.)"
   ]
  },
  {
   "cell_type": "code",
   "execution_count": null,
   "metadata": {
    "pycharm": {
     "name": "#%%\n"
    }
   },
   "outputs": [],
   "source": []
  },
  {
   "cell_type": "markdown",
   "metadata": {
    "pycharm": {
     "name": "#%% md\n"
    }
   },
   "source": [
    "### Exercise 9\n",
    "\n",
    "1. Store (using Python) the following text in a text file:\n",
    "\n",
    "   ```\n",
    "   4\n",
    "   Homer: 23\n",
    "   Marge: 86\n",
    "   Bart: 38\n",
    "   Lisa: 97\n",
    "   ```\n",
    "\n",
    "   The first line contains the number of students. All following lines contain the name and (integer) exam score for all students using the format shown above. (Assume that all names are unique.)\n",
    "\n",
    "2. Write a program that reads the file you created in the first part of the exercise, and creates a dictionary with the exam scores using the name as the key. Using the example from above, the dictionary should be:\n",
    "\n",
    "   ```python\n",
    "   {'Homer': 23, 'Marge': 86, 'Bart': 38, 'Lisa': 97}\n",
    "   ```\n",
    "   \n",
    "   (Use the `readline` method to read lines from a file.)"
   ]
  },
  {
   "cell_type": "code",
   "execution_count": null,
   "metadata": {
    "pycharm": {
     "name": "#%%\n"
    }
   },
   "outputs": [],
   "source": []
  },
  {
   "cell_type": "markdown",
   "metadata": {
    "collapsed": true,
    "pycharm": {
     "name": "#%% md\n"
    }
   },
   "source": [
    "### Exercise 10\n",
    "\n",
    "We know that money deposited in a bank account earns interest, and this interest accumulates as the years pass. The amount of money $V_t$ after $t$ years can be calculated iteratively using the following formula:\n",
    "\n",
    "$V_t = (1+r) V_{t-1} $\n",
    "\n",
    "where $V_0$ denote the initial investment, and $r$ denotes the annual interest rate (as a decimal number).\n",
    "\n",
    "Write a function to determine the future value of an investment, with the following three parameters: the initial investment, the annual interest rate, and the time in years. \n",
    "\n",
    "Calculate the future value of the initial investment 2000 after 7 years if the interest rate is 10%."
   ]
  },
  {
   "cell_type": "code",
   "execution_count": null,
   "metadata": {
    "pycharm": {
     "name": "#%%\n"
    }
   },
   "outputs": [],
   "source": []
  },
  {
   "cell_type": "markdown",
   "metadata": {
    "pycharm": {
     "name": "#%% md\n"
    }
   },
   "source": [
    "### Exercise 11\n",
    "\n",
    "Use the string `format` method and print $2/3$ using 4 decimal digits."
   ]
  },
  {
   "cell_type": "code",
   "execution_count": null,
   "metadata": {
    "pycharm": {
     "name": "#%%\n"
    }
   },
   "outputs": [],
   "source": []
  },
  {
   "cell_type": "markdown",
   "metadata": {
    "pycharm": {
     "name": "#%% md\n"
    }
   },
   "source": [
    "### Exercise 12\n",
    "\n",
    "Run the following code: \n",
    "    \n",
    "    string = '\\t\\tEric\\t\\t'\n",
    "    \n",
    "Print the content of the *string* variable and then use the `strip` method to remove the leading and trailing tabs."
   ]
  },
  {
   "cell_type": "code",
   "execution_count": null,
   "metadata": {
    "pycharm": {
     "name": "#%%\n"
    }
   },
   "outputs": [],
   "source": []
  },
  {
   "cell_type": "markdown",
   "metadata": {
    "pycharm": {
     "name": "#%% md\n"
    }
   },
   "source": [
    "### Exercise 13\n",
    "\n",
    "There is a string method called `count`. Look up the function in the documentation, and use it to count the number of times the letter \"a\" occurs in *banana*."
   ]
  },
  {
   "cell_type": "code",
   "execution_count": null,
   "metadata": {
    "pycharm": {
     "name": "#%%\n"
    }
   },
   "outputs": [],
   "source": []
  },
  {
   "cell_type": "markdown",
   "metadata": {
    "pycharm": {
     "name": "#%% md\n"
    }
   },
   "source": [
    "### Exercise 14\n",
    "\n",
    "Referring to the previous exercises, what are the positions (indexes) of all three occurrences?"
   ]
  },
  {
   "cell_type": "code",
   "execution_count": null,
   "metadata": {
    "pycharm": {
     "name": "#%%\n"
    }
   },
   "outputs": [],
   "source": []
  }
 ],
 "metadata": {
  "kernelspec": {
   "display_name": "Python 3 (ipykernel)",
   "language": "python",
   "name": "python3"
  },
  "language_info": {
   "codemirror_mode": {
    "name": "ipython",
    "version": 3
   },
   "file_extension": ".py",
   "mimetype": "text/x-python",
   "name": "python",
   "nbconvert_exporter": "python",
   "pygments_lexer": "ipython3",
   "version": "3.9.12"
  },
  "varInspector": {
   "cols": {
    "lenName": 16,
    "lenType": 16,
    "lenVar": 40
   },
   "kernels_config": {
    "python": {
     "delete_cmd_postfix": "",
     "delete_cmd_prefix": "del ",
     "library": "var_list.py",
     "varRefreshCmd": "print(var_dic_list())"
    },
    "r": {
     "delete_cmd_postfix": ") ",
     "delete_cmd_prefix": "rm(",
     "library": "var_list.r",
     "varRefreshCmd": "cat(var_dic_list()) "
    }
   },
   "types_to_exclude": [
    "module",
    "function",
    "builtin_function_or_method",
    "instance",
    "_Feature"
   ],
   "window_display": false
  }
 },
 "nbformat": 4,
 "nbformat_minor": 2
}