{
 "cells": [
  {
   "cell_type": "markdown",
   "metadata": {
    "pycharm": {
     "name": "#%% md\n"
    }
   },
   "source": [
    "# Problem set 2"
   ]
  },
  {
   "cell_type": "markdown",
   "metadata": {
    "pycharm": {
     "name": "#%% md\n"
    }
   },
   "source": [
    "### Exercise 1\n",
    "\n",
    "Using a loop, create the following lists:\n",
    "\n",
    "1. a list containing the squares of all numbers between 5 and 25,\n",
    "2. a list with all numbers between 1 and 50 that are divisible by 3."
   ]
  },
  {
   "cell_type": "code",
   "execution_count": 6,
   "metadata": {
    "pycharm": {
     "name": "#%%\n"
    }
   },
   "outputs": [
    {
     "name": "stdout",
     "output_type": "stream",
     "text": [
      "[25, 36, 49, 64, 81, 100, 121, 144, 169, 196, 225, 256, 289, 324, 361, 400, 441, 484, 529, 576]\n",
      "[3, 6, 9, 12, 15, 18, 21, 24, 27, 30, 33, 36, 39, 42, 45, 48]\n"
     ]
    }
   ],
   "source": [
    "list_of_squares = [number ** 2 for number in range(5, 25)]\n",
    "list_of_divisible = [number for number in range(1, 50) if number % 3 == 0]\n",
    "\n",
    "print(list_of_squares)\n",
    "print(list_of_divisible)"
   ]
  },
  {
   "cell_type": "markdown",
   "metadata": {
    "pycharm": {
     "name": "#%% md\n"
    }
   },
   "source": [
    "### Exercise 2\n",
    "\n",
    "Create the lists from the previous exercise using list comprehensions."
   ]
  },
  {
   "cell_type": "code",
   "execution_count": null,
   "metadata": {
    "pycharm": {
     "name": "#%%\n"
    }
   },
   "outputs": [],
   "source": [
    "# Already did"
   ]
  },
  {
   "cell_type": "markdown",
   "metadata": {
    "pycharm": {
     "name": "#%% md\n"
    }
   },
   "source": [
    "### Exercise 3\n",
    "\n",
    "Write a function that accepts two lists and returns their intersection, i.e. elements that exist in both arrays. (You can assume that there are no duplicate elements in either of the lists.)\n",
    "\n",
    "1. Use a `for` loop.\n",
    "2. Change the function and use a list comprehension.\n",
    "\n",
    "Test your function using the following lists:\n",
    "\n",
    "    [1, 2, 3, 4, 6, 9]\n",
    "\t[2, 3, 4, 5]"
   ]
  },
  {
   "cell_type": "code",
   "execution_count": 11,
   "metadata": {
    "pycharm": {
     "name": "#%%\n"
    }
   },
   "outputs": [
    {
     "data": {
      "text/plain": "[2, 3, 4]"
     },
     "execution_count": 11,
     "metadata": {},
     "output_type": "execute_result"
    }
   ],
   "source": [
    "# Part 1\n",
    "def list_intersection_1(list1, list2):\n",
    "    temp = []\n",
    "    for value in list1:\n",
    "        if value in list2:\n",
    "            temp.append(value)\n",
    "    return temp\n",
    "\n",
    "\n",
    "# Part 2\n",
    "def list_intersection_2(list1, list2):\n",
    "    return [value for value in list1 if value in list2]\n",
    "\n",
    "\n",
    "list1, list2 = [1, 2, 3, 4, 6, 9], [2, 3, 4, 5]\n",
    "print(list_intersection_1(list1, list2))\n",
    "print(list_intersection_2(list1, list2))"
   ]
  },
  {
   "cell_type": "markdown",
   "metadata": {
    "pycharm": {
     "name": "#%% md\n"
    }
   },
   "source": [
    "### Exercise 4\n",
    "\n",
    "Write a function that accepts a list, and returns a its copy without duplicates.\n",
    "\n",
    "For example, if the input is `[1, 1, 2, 1, 3, 2, 4, 4, 5]`, the function returns `[1, 2, 3, 4, 5]`."
   ]
  },
  {
   "cell_type": "code",
   "execution_count": 15,
   "metadata": {
    "pycharm": {
     "name": "#%%\n"
    }
   },
   "outputs": [
    {
     "name": "stdout",
     "output_type": "stream",
     "text": [
      "[1, 2, 3, 4, 5]\n"
     ]
    }
   ],
   "source": [
    "def unique(alist):\n",
    "    return list(set(alist))\n",
    "\n",
    "\n",
    "print(unique([1, 1, 2, 1, 3, 2, 4, 4, 5]))"
   ]
  },
  {
   "cell_type": "markdown",
   "metadata": {
    "pycharm": {
     "name": "#%% md\n"
    }
   },
   "source": [
    "### Exercise 5\n",
    "\n",
    "Write a function to multiply all (integer) numbers in a list.\n",
    "\n",
    "For example, if the input is `[1, 2, 3, -4]`, the function returns `-24`."
   ]
  },
  {
   "cell_type": "code",
   "execution_count": 16,
   "metadata": {
    "scrolled": true,
    "pycharm": {
     "name": "#%%\n"
    }
   },
   "outputs": [
    {
     "name": "stdout",
     "output_type": "stream",
     "text": [
      "-24\n"
     ]
    }
   ],
   "source": [
    "from math import prod\n",
    "\n",
    "\n",
    "def product(numbers):\n",
    "    return prod(numbers)\n",
    "\n",
    "\n",
    "print(product([1, 2, 3, -4]))"
   ]
  },
  {
   "cell_type": "markdown",
   "metadata": {
    "pycharm": {
     "name": "#%% md\n"
    }
   },
   "source": [
    "### Exercise 6\n",
    "\n",
    "1. Create an empty tuple.\n",
    "2. Create a tuple containing values of different types.\n",
    "3. Convert this tuple to a list.\n",
    "4. Write a function that accepts a tuple and moves the first element to the end of the tuple, and returns the new tuple. Remember that tuples are immutable. For example, if the argument of the function is `(1, 2, 3)`, the function will return `(2, 3, 1)`."
   ]
  },
  {
   "cell_type": "code",
   "execution_count": 24,
   "metadata": {
    "pycharm": {
     "name": "#%%\n"
    }
   },
   "outputs": [
    {
     "name": "stdout",
     "output_type": "stream",
     "text": [
      "(2, 3, 1)\n"
     ]
    }
   ],
   "source": [
    "empty_tuple = ()\n",
    "tuple_with_things = (\"word\", 23)\n",
    "list_from_tuple = list(tuple_with_things)\n",
    "\n",
    "\n",
    "def tuple_mover(the_tuple_in_question):\n",
    "    temp = list(the_tuple_in_question[1:])\n",
    "    temp.append(the_tuple_in_question[0])\n",
    "    return tuple(temp)\n",
    "\n",
    "\n",
    "print(tuple_mover((1, 2, 3)))"
   ]
  },
  {
   "cell_type": "markdown",
   "metadata": {
    "pycharm": {
     "name": "#%% md\n"
    }
   },
   "source": [
    "### Exercise 7\n",
    "\n",
    "Write a program that asks the user for floating-point numbers in a loop until the user enters \"done\", and then prints the maximum and minimum of these numbers. (Store the numbers in a list and use the `max` and `min` functions to calculate the maximum and minimum.)\n",
    "\n",
    "Sample input and output:\n",
    "\n",
    "    Enter a number: 6\n",
    "    Enter a number: 2\n",
    "    Enter a number: 9\n",
    "    Enter a number: 3\n",
    "    Enter a number: 5\n",
    "    Enter a number: done\n",
    "    Maximum: 9.0\n",
    "    Minimum: 2.0"
   ]
  },
  {
   "cell_type": "code",
   "execution_count": 70,
   "metadata": {
    "pycharm": {
     "name": "#%%\n"
    }
   },
   "outputs": [
    {
     "name": "stdout",
     "output_type": "stream",
     "text": [
      "Max: 3673.0\n",
      "Min: 1.0\n"
     ]
    }
   ],
   "source": [
    "temp = []\n",
    "\n",
    "while True:\n",
    "    text = input(f'Enter a number: ')\n",
    "    if text.upper() == \"DONE\":\n",
    "        break\n",
    "    try:\n",
    "        temp.append(float(text))\n",
    "    except ValueError:\n",
    "        print(f'{text} is not recognised as a valid input')\n",
    "\n",
    "print(f'Max: {max(temp)}\\nMin: {min(temp)}')"
   ]
  },
  {
   "cell_type": "markdown",
   "metadata": {
    "pycharm": {
     "name": "#%% md\n"
    }
   },
   "source": [
    "### Exercise 8\n",
    "\n",
    "The file `quiz_score.txt` contains a list of scores between 0 and 10. Inspect the file and note that each score is on a separate line. Count and print the number of occurrence for each score. (Loop over all possible score values and use the `count` method to get the number of occurrences.)"
   ]
  },
  {
   "cell_type": "code",
   "execution_count": 37,
   "metadata": {
    "pycharm": {
     "name": "#%%\n"
    }
   },
   "outputs": [
    {
     "name": "stdout",
     "output_type": "stream",
     "text": [
      "The score: 0 occurred 11 time(s)\n",
      "The score: 1 occurred 5 time(s)\n",
      "The score: 2 occurred 3 time(s)\n",
      "The score: 3 occurred 13 time(s)\n",
      "The score: 4 occurred 6 time(s)\n",
      "The score: 5 occurred 5 time(s)\n",
      "The score: 6 occurred 5 time(s)\n",
      "The score: 7 occurred 13 time(s)\n",
      "The score: 8 occurred 11 time(s)\n",
      "The score: 9 occurred 14 time(s)\n",
      "The score: 10 occurred 14 time(s)\n"
     ]
    }
   ],
   "source": [
    "QUIZ_FILE = \"data/quiz_score.txt\"\n",
    "\n",
    "\n",
    "def score_observations(file):\n",
    "    with open(file, 'r') as f:\n",
    "        scores = [int(score) for score in f.readlines()]\n",
    "\n",
    "    for score in set(scores):\n",
    "        print(f\"The score: {score} occurred {scores.count(score)} time(s)\")\n",
    "\n",
    "\n",
    "score_observations(QUIZ_FILE)"
   ]
  },
  {
   "cell_type": "markdown",
   "metadata": {
    "pycharm": {
     "name": "#%% md\n"
    }
   },
   "source": [
    "### Exercise 9\n",
    "\n",
    "1. Store (using Python) the following text in a text file:\n",
    "\n",
    "   ```\n",
    "   4\n",
    "   Homer: 23\n",
    "   Marge: 86\n",
    "   Bart: 38\n",
    "   Lisa: 97\n",
    "   ```\n",
    "\n",
    "   The first line contains the number of students. All following lines contain the name and (integer) exam score for all students using the format shown above. (Assume that all names are unique.)\n",
    "\n",
    "2. Write a program that reads the file you created in the first part of the exercise, and creates a dictionary with the exam scores using the name as the key. Using the example from above, the dictionary should be:\n",
    "\n",
    "   ```python\n",
    "   {'Homer': 23, 'Marge': 86, 'Bart': 38, 'Lisa': 97}\n",
    "   ```\n",
    "   \n",
    "   (Use the `readline` method to read lines from a file.)"
   ]
  },
  {
   "cell_type": "code",
   "execution_count": 52,
   "metadata": {
    "pycharm": {
     "name": "#%%\n"
    }
   },
   "outputs": [
    {
     "name": "stdout",
     "output_type": "stream",
     "text": [
      "Finished writing to file: data/problem_set2_ex9.txt\n",
      "{'Homer': 23, 'Marge': 86, 'Bart': 38, 'Lisa': 97}\n"
     ]
    }
   ],
   "source": [
    "TEXT_FILE = \"data/problem_set2_ex9.txt\"\n",
    "STUDENT_SCORES = {\n",
    "    \"Homer\": 23,\n",
    "    \"Marge\": 86,\n",
    "    \"Bart\": 38,\n",
    "    \"Lisa\": 97\n",
    "}\n",
    "\n",
    "\n",
    "def write_to_file(file, students):\n",
    "    with open(file, \"w\") as f:\n",
    "        f.writelines(f'{len(students.keys())}\\n')\n",
    "        for student, score in students.items():\n",
    "            f.writelines(f'{student}: {score}\\n')\n",
    "    return f\"Finished writing to file: {file}\"\n",
    "\n",
    "\n",
    "def read_from_file(file):\n",
    "    student_scores = {}\n",
    "    with open(file, \"r\") as f:\n",
    "        students = int(f.readline())\n",
    "        for _ in range(students):\n",
    "            line = str(f.readline()).split(\": \")\n",
    "            student_scores[line[0]] = int(line[1])\n",
    "    return student_scores\n",
    "\n",
    "\n",
    "print(write_to_file(TEXT_FILE, STUDENT_SCORES))\n",
    "print(read_from_file(TEXT_FILE))"
   ]
  },
  {
   "cell_type": "markdown",
   "metadata": {
    "collapsed": true,
    "pycharm": {
     "name": "#%% md\n"
    }
   },
   "source": [
    "### Exercise 10\n",
    "\n",
    "We know that money deposited in a bank account earns interest, and this interest accumulates as the years pass. The amount of money $V_t$ after $t$ years can be calculated iteratively using the following formula:\n",
    "\n",
    "$V_t = (1+r) V_{t-1} $\n",
    "\n",
    "where $V_0$ denote the initial investment, and $r$ denotes the annual interest rate (as a decimal number).\n",
    "\n",
    "Write a function to determine the future value of an investment, with the following three parameters: the initial investment, the annual interest rate, and the time in years. \n",
    "\n",
    "Calculate the future value of the initial investment 2000 after 7 years if the interest rate is 10%."
   ]
  },
  {
   "cell_type": "code",
   "execution_count": 54,
   "metadata": {
    "pycharm": {
     "name": "#%%\n"
    }
   },
   "outputs": [
    {
     "data": {
      "text/plain": "3897.4342000000024"
     },
     "execution_count": 54,
     "metadata": {},
     "output_type": "execute_result"
    }
   ],
   "source": [
    "def future_value(initial_value: float, interest_rate: float, time: float) -> float:\n",
    "    return initial_value * (1 + interest_rate) ** time\n",
    "\n",
    "\n",
    "future_value(2000, 0.10, 7)"
   ]
  },
  {
   "cell_type": "markdown",
   "metadata": {
    "pycharm": {
     "name": "#%% md\n"
    }
   },
   "source": [
    "### Exercise 11\n",
    "\n",
    "Use the string `format` method and print $2/3$ using 4 decimal digits."
   ]
  },
  {
   "cell_type": "code",
   "execution_count": 57,
   "metadata": {
    "pycharm": {
     "name": "#%%\n"
    }
   },
   "outputs": [
    {
     "name": "stdout",
     "output_type": "stream",
     "text": [
      "$0.6667\n"
     ]
    }
   ],
   "source": [
    "# format is obsolete in python 3.6 or newer given the implementation of f-strings, I will therefore use f-strings\n",
    "print(f'${2 / 3:.4f}')"
   ]
  },
  {
   "cell_type": "markdown",
   "metadata": {
    "pycharm": {
     "name": "#%% md\n"
    }
   },
   "source": [
    "### Exercise 12\n",
    "\n",
    "Run the following code: \n",
    "    \n",
    "    string = '\\t\\tEric\\t\\t'\n",
    "    \n",
    "Print the content of the *string* variable and then use the `strip` method to remove the leading and trailing tabs."
   ]
  },
  {
   "cell_type": "code",
   "execution_count": 59,
   "metadata": {
    "pycharm": {
     "name": "#%%\n"
    }
   },
   "outputs": [
    {
     "name": "stdout",
     "output_type": "stream",
     "text": [
      "\t\tEric\t\t\n",
      "Eric\n"
     ]
    }
   ],
   "source": [
    "string = '\\t\\tEric\\t\\t'\n",
    "print(string)\n",
    "print(string.strip(\"\\t\"))"
   ]
  },
  {
   "cell_type": "markdown",
   "metadata": {
    "pycharm": {
     "name": "#%% md\n"
    }
   },
   "source": [
    "### Exercise 13\n",
    "\n",
    "There is a string method called `count`. Look up the function in the documentation, and use it to count the number of times the letter \"a\" occurs in *banana*."
   ]
  },
  {
   "cell_type": "code",
   "execution_count": 60,
   "metadata": {
    "pycharm": {
     "name": "#%%\n"
    }
   },
   "outputs": [
    {
     "data": {
      "text/plain": "3"
     },
     "execution_count": 60,
     "metadata": {},
     "output_type": "execute_result"
    }
   ],
   "source": [
    "\"banana\".count(\"a\")"
   ]
  },
  {
   "cell_type": "markdown",
   "metadata": {
    "pycharm": {
     "name": "#%% md\n"
    }
   },
   "source": [
    "### Exercise 14\n",
    "\n",
    "Referring to the previous exercises, what are the positions (indexes) of all three occurrences?"
   ]
  },
  {
   "cell_type": "code",
   "execution_count": 69,
   "metadata": {
    "pycharm": {
     "name": "#%%\n"
    }
   },
   "outputs": [
    {
     "data": {
      "text/plain": "[1, 3, 5]"
     },
     "execution_count": 69,
     "metadata": {},
     "output_type": "execute_result"
    }
   ],
   "source": [
    "[i for i, letter in enumerate(\"banana\") if letter == \"a\"]"
   ]
  }
 ],
 "metadata": {
  "kernelspec": {
   "display_name": "Python 3 (ipykernel)",
   "language": "python",
   "name": "python3"
  },
  "language_info": {
   "codemirror_mode": {
    "name": "ipython",
    "version": 3
   },
   "file_extension": ".py",
   "mimetype": "text/x-python",
   "name": "python",
   "nbconvert_exporter": "python",
   "pygments_lexer": "ipython3",
   "version": "3.9.12"
  },
  "varInspector": {
   "cols": {
    "lenName": 16,
    "lenType": 16,
    "lenVar": 40
   },
   "kernels_config": {
    "python": {
     "delete_cmd_postfix": "",
     "delete_cmd_prefix": "del ",
     "library": "var_list.py",
     "varRefreshCmd": "print(var_dic_list())"
    },
    "r": {
     "delete_cmd_postfix": ") ",
     "delete_cmd_prefix": "rm(",
     "library": "var_list.r",
     "varRefreshCmd": "cat(var_dic_list()) "
    }
   },
   "types_to_exclude": [
    "module",
    "function",
    "builtin_function_or_method",
    "instance",
    "_Feature"
   ],
   "window_display": false
  }
 },
 "nbformat": 4,
 "nbformat_minor": 2
}